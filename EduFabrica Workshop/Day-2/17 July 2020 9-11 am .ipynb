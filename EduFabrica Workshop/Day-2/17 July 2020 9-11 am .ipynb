{
 "cells": [
  {
   "cell_type": "markdown",
   "metadata": {},
   "source": [
    "# Pandas "
   ]
  },
  {
   "cell_type": "code",
   "execution_count": 1,
   "metadata": {},
   "outputs": [],
   "source": [
    "import pandas as pd "
   ]
  },
  {
   "cell_type": "code",
   "execution_count": 2,
   "metadata": {},
   "outputs": [
    {
     "name": "stdout",
     "output_type": "stream",
     "text": [
      "Help on package pandas:\n",
      "\n",
      "NAME\n",
      "    pandas\n",
      "\n",
      "DESCRIPTION\n",
      "    pandas - a powerful data analysis and manipulation library for Python\n",
      "    =====================================================================\n",
      "    \n",
      "    **pandas** is a Python package providing fast, flexible, and expressive data\n",
      "    structures designed to make working with \"relational\" or \"labeled\" data both\n",
      "    easy and intuitive. It aims to be the fundamental high-level building block for\n",
      "    doing practical, **real world** data analysis in Python. Additionally, it has\n",
      "    the broader goal of becoming **the most powerful and flexible open source data\n",
      "    analysis / manipulation tool available in any language**. It is already well on\n",
      "    its way toward this goal.\n",
      "    \n",
      "    Main Features\n",
      "    -------------\n",
      "    Here are just a few of the things that pandas does well:\n",
      "    \n",
      "      - Easy handling of missing data in floating point as well as non-floating\n",
      "        point data.\n",
      "      - Size mutability: columns can be inserted and deleted from DataFrame and\n",
      "        higher dimensional objects\n",
      "      - Automatic and explicit data alignment: objects can be explicitly aligned\n",
      "        to a set of labels, or the user can simply ignore the labels and let\n",
      "        `Series`, `DataFrame`, etc. automatically align the data for you in\n",
      "        computations.\n",
      "      - Powerful, flexible group by functionality to perform split-apply-combine\n",
      "        operations on data sets, for both aggregating and transforming data.\n",
      "      - Make it easy to convert ragged, differently-indexed data in other Python\n",
      "        and NumPy data structures into DataFrame objects.\n",
      "      - Intelligent label-based slicing, fancy indexing, and subsetting of large\n",
      "        data sets.\n",
      "      - Intuitive merging and joining data sets.\n",
      "      - Flexible reshaping and pivoting of data sets.\n",
      "      - Hierarchical labeling of axes (possible to have multiple labels per tick).\n",
      "      - Robust IO tools for loading data from flat files (CSV and delimited),\n",
      "        Excel files, databases, and saving/loading data from the ultrafast HDF5\n",
      "        format.\n",
      "      - Time series-specific functionality: date range generation and frequency\n",
      "        conversion, moving window statistics, date shifting and lagging.\n",
      "\n",
      "PACKAGE CONTENTS\n",
      "    _config (package)\n",
      "    _libs (package)\n",
      "    _testing\n",
      "    _typing\n",
      "    _version\n",
      "    api (package)\n",
      "    arrays (package)\n",
      "    compat (package)\n",
      "    conftest\n",
      "    core (package)\n",
      "    errors (package)\n",
      "    io (package)\n",
      "    plotting (package)\n",
      "    testing\n",
      "    tests (package)\n",
      "    tseries (package)\n",
      "    util (package)\n",
      "\n",
      "SUBMODULES\n",
      "    _hashtable\n",
      "    _lib\n",
      "    _tslib\n",
      "    offsets\n",
      "\n",
      "FUNCTIONS\n",
      "    __getattr__(name)\n",
      "\n",
      "DATA\n",
      "    IndexSlice = <pandas.core.indexing._IndexSlice object>\n",
      "    NA = <NA>\n",
      "    NaT = NaT\n",
      "    __docformat__ = 'restructuredtext'\n",
      "    __git_version__ = '29d6b0232aab9576afa896ff5bab0b994760495a'\n",
      "    describe_option = <pandas._config.config.CallableDynamicDoc object>\n",
      "    get_option = <pandas._config.config.CallableDynamicDoc object>\n",
      "    options = <pandas._config.config.DictWrapper object>\n",
      "    reset_option = <pandas._config.config.CallableDynamicDoc object>\n",
      "    set_option = <pandas._config.config.CallableDynamicDoc object>\n",
      "\n",
      "VERSION\n",
      "    1.0.1\n",
      "\n",
      "FILE\n",
      "    /Users/sumitkumarshukla/opt/anaconda3/lib/python3.7/site-packages/pandas/__init__.py\n",
      "\n",
      "\n"
     ]
    }
   ],
   "source": [
    "help('pandas')"
   ]
  },
  {
   "cell_type": "code",
   "execution_count": 3,
   "metadata": {},
   "outputs": [
    {
     "name": "stdout",
     "output_type": "stream",
     "text": [
      "Pandas : 1.0.1\n"
     ]
    }
   ],
   "source": [
    "print('Pandas : {}'.format(pd.__version__))"
   ]
  },
  {
   "cell_type": "code",
   "execution_count": 4,
   "metadata": {},
   "outputs": [],
   "source": [
    "arr = [4,5,6,7]\n",
    "s1 = pd.Series(arr)"
   ]
  },
  {
   "cell_type": "code",
   "execution_count": 5,
   "metadata": {},
   "outputs": [
    {
     "data": {
      "text/plain": [
       "0    4\n",
       "1    5\n",
       "2    6\n",
       "3    7\n",
       "dtype: int64"
      ]
     },
     "execution_count": 5,
     "metadata": {},
     "output_type": "execute_result"
    }
   ],
   "source": [
    "s1"
   ]
  },
  {
   "cell_type": "code",
   "execution_count": 9,
   "metadata": {},
   "outputs": [],
   "source": [
    "crick = {'batsman': 'Rohit', 'bowler' : 'Jasprit', 'Keeper' : 'MS Dhoni'}"
   ]
  },
  {
   "cell_type": "code",
   "execution_count": 10,
   "metadata": {},
   "outputs": [],
   "source": [
    "s2 = pd.Series(crick)"
   ]
  },
  {
   "cell_type": "code",
   "execution_count": 11,
   "metadata": {},
   "outputs": [
    {
     "data": {
      "text/plain": [
       "batsman       Rohit\n",
       "bowler      Jasprit\n",
       "Keeper     MS Dhoni\n",
       "dtype: object"
      ]
     },
     "execution_count": 11,
     "metadata": {},
     "output_type": "execute_result"
    }
   ],
   "source": [
    "s2"
   ]
  },
  {
   "cell_type": "code",
   "execution_count": 13,
   "metadata": {},
   "outputs": [
    {
     "data": {
      "text/plain": [
       "0    0\n",
       "1    1\n",
       "2    2\n",
       "dtype: int64"
      ]
     },
     "execution_count": 13,
     "metadata": {},
     "output_type": "execute_result"
    }
   ],
   "source": [
    "import numpy as np\n",
    "a3 = np.arange(len(crick))\n",
    "pd.Series(data = a3)"
   ]
  },
  {
   "cell_type": "code",
   "execution_count": 15,
   "metadata": {},
   "outputs": [
    {
     "data": {
      "text/plain": [
       "0    0\n",
       "1    1\n",
       "2    2\n",
       "3    3\n",
       "4    4\n",
       "5    5\n",
       "6    6\n",
       "7    7\n",
       "8    8\n",
       "9    9\n",
       "dtype: int64"
      ]
     },
     "execution_count": 15,
     "metadata": {},
     "output_type": "execute_result"
    }
   ],
   "source": [
    "pd.Series(data = np.arange(0,10), index = np.arange(0,10))"
   ]
  },
  {
   "cell_type": "code",
   "execution_count": 16,
   "metadata": {},
   "outputs": [],
   "source": [
    "order = 'A B C D E F G H I J'.split()"
   ]
  },
  {
   "cell_type": "code",
   "execution_count": 17,
   "metadata": {},
   "outputs": [
    {
     "data": {
      "text/plain": [
       "A    0\n",
       "B    1\n",
       "C    2\n",
       "D    3\n",
       "E    4\n",
       "F    5\n",
       "G    6\n",
       "H    7\n",
       "I    8\n",
       "J    9\n",
       "dtype: int64"
      ]
     },
     "execution_count": 17,
     "metadata": {},
     "output_type": "execute_result"
    }
   ],
   "source": [
    "pd.Series(data = np.arange(0,10), index = order)"
   ]
  },
  {
   "cell_type": "code",
   "execution_count": 19,
   "metadata": {},
   "outputs": [
    {
     "data": {
      "text/plain": [
       "A    1\n",
       "B    2\n",
       "dtype: int64"
      ]
     },
     "execution_count": 19,
     "metadata": {},
     "output_type": "execute_result"
    }
   ],
   "source": [
    "s = [1,2]\n",
    "pd.Series(data = s, index = order[:2])"
   ]
  },
  {
   "cell_type": "code",
   "execution_count": 20,
   "metadata": {},
   "outputs": [],
   "source": [
    "rand = np.random.randn(5)"
   ]
  },
  {
   "cell_type": "code",
   "execution_count": 21,
   "metadata": {},
   "outputs": [
    {
     "data": {
      "text/plain": [
       "array([-0.9022922 , -0.13392487,  0.96636651,  1.24705834, -0.16952383])"
      ]
     },
     "execution_count": 21,
     "metadata": {},
     "output_type": "execute_result"
    }
   ],
   "source": [
    "rand"
   ]
  },
  {
   "cell_type": "code",
   "execution_count": 22,
   "metadata": {},
   "outputs": [
    {
     "data": {
      "text/plain": [
       "A   -0.902292\n",
       "B   -0.133925\n",
       "C    0.966367\n",
       "D    1.247058\n",
       "E   -0.169524\n",
       "dtype: float64"
      ]
     },
     "execution_count": 22,
     "metadata": {},
     "output_type": "execute_result"
    }
   ],
   "source": [
    "pd.Series(rand, index = order[:5])"
   ]
  },
  {
   "cell_type": "markdown",
   "metadata": {},
   "source": [
    "### Slicing"
   ]
  },
  {
   "cell_type": "code",
   "execution_count": 24,
   "metadata": {},
   "outputs": [
    {
     "data": {
      "text/plain": [
       "A   -0.902292\n",
       "dtype: float64"
      ]
     },
     "execution_count": 24,
     "metadata": {},
     "output_type": "execute_result"
    }
   ],
   "source": [
    "pd.Series(rand, index = order[:5])[:3][:1]"
   ]
  },
  {
   "cell_type": "code",
   "execution_count": 25,
   "metadata": {},
   "outputs": [
    {
     "data": {
      "text/plain": [
       "C    0.966367\n",
       "D    1.247058\n",
       "E   -0.169524\n",
       "dtype: float64"
      ]
     },
     "execution_count": 25,
     "metadata": {},
     "output_type": "execute_result"
    }
   ],
   "source": [
    "pd.Series(rand, index = order[:5])[2:]"
   ]
  },
  {
   "cell_type": "code",
   "execution_count": 29,
   "metadata": {},
   "outputs": [
    {
     "data": {
      "text/plain": [
       "batsman      Rohit\n",
       "bowler     Jasprit\n",
       "dtype: object"
      ]
     },
     "execution_count": 29,
     "metadata": {},
     "output_type": "execute_result"
    }
   ],
   "source": [
    "s2.drop('Keeper')"
   ]
  },
  {
   "cell_type": "code",
   "execution_count": 31,
   "metadata": {},
   "outputs": [],
   "source": [
    "s3 = pd.Series(data = np.arange(6), index = np.arange(1,7))\n",
    "s4 = pd.Series(data = np.arange(8), index = np.arange(1,9))"
   ]
  },
  {
   "cell_type": "code",
   "execution_count": 32,
   "metadata": {},
   "outputs": [
    {
     "data": {
      "text/plain": [
       "1    0\n",
       "2    1\n",
       "3    2\n",
       "4    3\n",
       "5    4\n",
       "6    5\n",
       "dtype: int64"
      ]
     },
     "execution_count": 32,
     "metadata": {},
     "output_type": "execute_result"
    }
   ],
   "source": [
    "s3"
   ]
  },
  {
   "cell_type": "code",
   "execution_count": 33,
   "metadata": {},
   "outputs": [
    {
     "data": {
      "text/plain": [
       "1    0\n",
       "2    1\n",
       "3    2\n",
       "4    3\n",
       "5    4\n",
       "6    5\n",
       "7    6\n",
       "8    7\n",
       "dtype: int64"
      ]
     },
     "execution_count": 33,
     "metadata": {},
     "output_type": "execute_result"
    }
   ],
   "source": [
    "s4"
   ]
  },
  {
   "cell_type": "code",
   "execution_count": 34,
   "metadata": {},
   "outputs": [
    {
     "data": {
      "text/plain": [
       "1     0.0\n",
       "2     2.0\n",
       "3     4.0\n",
       "4     6.0\n",
       "5     8.0\n",
       "6    10.0\n",
       "7     NaN\n",
       "8     NaN\n",
       "dtype: float64"
      ]
     },
     "execution_count": 34,
     "metadata": {},
     "output_type": "execute_result"
    }
   ],
   "source": [
    "s3.add(s4)"
   ]
  },
  {
   "cell_type": "code",
   "execution_count": 35,
   "metadata": {},
   "outputs": [
    {
     "data": {
      "text/plain": [
       "1    0.0\n",
       "2    0.0\n",
       "3    0.0\n",
       "4    0.0\n",
       "5    0.0\n",
       "6    0.0\n",
       "7    NaN\n",
       "8    NaN\n",
       "dtype: float64"
      ]
     },
     "execution_count": 35,
     "metadata": {},
     "output_type": "execute_result"
    }
   ],
   "source": [
    "s3.sub(s4)"
   ]
  },
  {
   "cell_type": "code",
   "execution_count": 36,
   "metadata": {},
   "outputs": [
    {
     "data": {
      "text/plain": [
       "1     0.0\n",
       "2     1.0\n",
       "3     4.0\n",
       "4     9.0\n",
       "5    16.0\n",
       "6    25.0\n",
       "7     NaN\n",
       "8     NaN\n",
       "dtype: float64"
      ]
     },
     "execution_count": 36,
     "metadata": {},
     "output_type": "execute_result"
    }
   ],
   "source": [
    "s3.mul(s4)"
   ]
  },
  {
   "cell_type": "code",
   "execution_count": 37,
   "metadata": {},
   "outputs": [
    {
     "data": {
      "text/plain": [
       "1    NaN\n",
       "2    1.0\n",
       "3    1.0\n",
       "4    1.0\n",
       "5    1.0\n",
       "6    1.0\n",
       "7    NaN\n",
       "8    NaN\n",
       "dtype: float64"
      ]
     },
     "execution_count": 37,
     "metadata": {},
     "output_type": "execute_result"
    }
   ],
   "source": [
    "s3.div(s4)"
   ]
  },
  {
   "cell_type": "markdown",
   "metadata": {},
   "source": [
    "### Median, Mean, Max, Min "
   ]
  },
  {
   "cell_type": "code",
   "execution_count": 38,
   "metadata": {},
   "outputs": [
    {
     "data": {
      "text/plain": [
       "(7, 0, 3.5, 3.5)"
      ]
     },
     "execution_count": 38,
     "metadata": {},
     "output_type": "execute_result"
    }
   ],
   "source": [
    "s4.max(), s4.min(), s4.median(), s4.mean()"
   ]
  },
  {
   "cell_type": "code",
   "execution_count": 39,
   "metadata": {},
   "outputs": [
    {
     "name": "stdout",
     "output_type": "stream",
     "text": [
      "Max = 7\n",
      "Min = 0\n",
      "Mean = 3.5\n",
      "Median = 3.5\n"
     ]
    }
   ],
   "source": [
    "print('Max = {}'.format(s4.max()))\n",
    "print('Min = {}'.format(s4.min()))\n",
    "print('Mean = {}'.format(s4.mean()))\n",
    "print('Median = {}'.format(s4.median()))"
   ]
  },
  {
   "cell_type": "markdown",
   "metadata": {},
   "source": [
    "# Data Frames "
   ]
  },
  {
   "cell_type": "code",
   "execution_count": 42,
   "metadata": {},
   "outputs": [],
   "source": [
    "dates = pd.date_range('20200716', periods = 6)"
   ]
  },
  {
   "cell_type": "code",
   "execution_count": 43,
   "metadata": {},
   "outputs": [
    {
     "data": {
      "text/plain": [
       "DatetimeIndex(['2020-07-16', '2020-07-17', '2020-07-18', '2020-07-19',\n",
       "               '2020-07-20', '2020-07-21'],\n",
       "              dtype='datetime64[ns]', freq='D')"
      ]
     },
     "execution_count": 43,
     "metadata": {},
     "output_type": "execute_result"
    }
   ],
   "source": [
    "dates"
   ]
  },
  {
   "cell_type": "code",
   "execution_count": 44,
   "metadata": {},
   "outputs": [],
   "source": [
    "num = np.random.randn(6,4)"
   ]
  },
  {
   "cell_type": "code",
   "execution_count": 45,
   "metadata": {},
   "outputs": [
    {
     "data": {
      "text/plain": [
       "array([[ 1.0400519 , -0.11687761, -1.05305071, -0.40046826],\n",
       "       [-1.71780997,  0.64116279,  1.06684397,  0.16076562],\n",
       "       [-0.52672562, -2.0085157 , -1.48160558,  1.52522706],\n",
       "       [ 0.73505068,  1.14773128,  0.00452746, -1.25967344],\n",
       "       [ 0.48896633,  0.10512462,  0.61148094,  1.02655351],\n",
       "       [ 1.43991944,  0.70120697,  0.20466265,  0.11040352]])"
      ]
     },
     "execution_count": 45,
     "metadata": {},
     "output_type": "execute_result"
    }
   ],
   "source": [
    "num"
   ]
  },
  {
   "cell_type": "code",
   "execution_count": 48,
   "metadata": {},
   "outputs": [],
   "source": [
    "df1 = pd.DataFrame(data = num, index = dates, columns= order[:4])"
   ]
  },
  {
   "cell_type": "code",
   "execution_count": 49,
   "metadata": {},
   "outputs": [
    {
     "data": {
      "text/html": [
       "<div>\n",
       "<style scoped>\n",
       "    .dataframe tbody tr th:only-of-type {\n",
       "        vertical-align: middle;\n",
       "    }\n",
       "\n",
       "    .dataframe tbody tr th {\n",
       "        vertical-align: top;\n",
       "    }\n",
       "\n",
       "    .dataframe thead th {\n",
       "        text-align: right;\n",
       "    }\n",
       "</style>\n",
       "<table border=\"1\" class=\"dataframe\">\n",
       "  <thead>\n",
       "    <tr style=\"text-align: right;\">\n",
       "      <th></th>\n",
       "      <th>A</th>\n",
       "      <th>B</th>\n",
       "      <th>C</th>\n",
       "      <th>D</th>\n",
       "    </tr>\n",
       "  </thead>\n",
       "  <tbody>\n",
       "    <tr>\n",
       "      <th>2020-07-16</th>\n",
       "      <td>1.040052</td>\n",
       "      <td>-0.116878</td>\n",
       "      <td>-1.053051</td>\n",
       "      <td>-0.400468</td>\n",
       "    </tr>\n",
       "    <tr>\n",
       "      <th>2020-07-17</th>\n",
       "      <td>-1.717810</td>\n",
       "      <td>0.641163</td>\n",
       "      <td>1.066844</td>\n",
       "      <td>0.160766</td>\n",
       "    </tr>\n",
       "    <tr>\n",
       "      <th>2020-07-18</th>\n",
       "      <td>-0.526726</td>\n",
       "      <td>-2.008516</td>\n",
       "      <td>-1.481606</td>\n",
       "      <td>1.525227</td>\n",
       "    </tr>\n",
       "    <tr>\n",
       "      <th>2020-07-19</th>\n",
       "      <td>0.735051</td>\n",
       "      <td>1.147731</td>\n",
       "      <td>0.004527</td>\n",
       "      <td>-1.259673</td>\n",
       "    </tr>\n",
       "    <tr>\n",
       "      <th>2020-07-20</th>\n",
       "      <td>0.488966</td>\n",
       "      <td>0.105125</td>\n",
       "      <td>0.611481</td>\n",
       "      <td>1.026554</td>\n",
       "    </tr>\n",
       "    <tr>\n",
       "      <th>2020-07-21</th>\n",
       "      <td>1.439919</td>\n",
       "      <td>0.701207</td>\n",
       "      <td>0.204663</td>\n",
       "      <td>0.110404</td>\n",
       "    </tr>\n",
       "  </tbody>\n",
       "</table>\n",
       "</div>"
      ],
      "text/plain": [
       "                   A         B         C         D\n",
       "2020-07-16  1.040052 -0.116878 -1.053051 -0.400468\n",
       "2020-07-17 -1.717810  0.641163  1.066844  0.160766\n",
       "2020-07-18 -0.526726 -2.008516 -1.481606  1.525227\n",
       "2020-07-19  0.735051  1.147731  0.004527 -1.259673\n",
       "2020-07-20  0.488966  0.105125  0.611481  1.026554\n",
       "2020-07-21  1.439919  0.701207  0.204663  0.110404"
      ]
     },
     "execution_count": 49,
     "metadata": {},
     "output_type": "execute_result"
    }
   ],
   "source": [
    "df1"
   ]
  },
  {
   "cell_type": "code",
   "execution_count": 52,
   "metadata": {},
   "outputs": [],
   "source": [
    "web = {'day ' : ['m','t','w','t','f'],\n",
    "       'vistors' :[1500,1200,1648,1452,1320],\n",
    "       'users' : [150,654,25,879,678]}"
   ]
  },
  {
   "cell_type": "code",
   "execution_count": 55,
   "metadata": {},
   "outputs": [],
   "source": [
    "df2 = pd.DataFrame(web)"
   ]
  },
  {
   "cell_type": "code",
   "execution_count": 56,
   "metadata": {},
   "outputs": [
    {
     "data": {
      "text/html": [
       "<div>\n",
       "<style scoped>\n",
       "    .dataframe tbody tr th:only-of-type {\n",
       "        vertical-align: middle;\n",
       "    }\n",
       "\n",
       "    .dataframe tbody tr th {\n",
       "        vertical-align: top;\n",
       "    }\n",
       "\n",
       "    .dataframe thead th {\n",
       "        text-align: right;\n",
       "    }\n",
       "</style>\n",
       "<table border=\"1\" class=\"dataframe\">\n",
       "  <thead>\n",
       "    <tr style=\"text-align: right;\">\n",
       "      <th></th>\n",
       "      <th>day</th>\n",
       "      <th>vistors</th>\n",
       "      <th>users</th>\n",
       "    </tr>\n",
       "  </thead>\n",
       "  <tbody>\n",
       "    <tr>\n",
       "      <th>0</th>\n",
       "      <td>m</td>\n",
       "      <td>1500</td>\n",
       "      <td>150</td>\n",
       "    </tr>\n",
       "    <tr>\n",
       "      <th>1</th>\n",
       "      <td>t</td>\n",
       "      <td>1200</td>\n",
       "      <td>654</td>\n",
       "    </tr>\n",
       "    <tr>\n",
       "      <th>2</th>\n",
       "      <td>w</td>\n",
       "      <td>1648</td>\n",
       "      <td>25</td>\n",
       "    </tr>\n",
       "    <tr>\n",
       "      <th>3</th>\n",
       "      <td>t</td>\n",
       "      <td>1452</td>\n",
       "      <td>879</td>\n",
       "    </tr>\n",
       "    <tr>\n",
       "      <th>4</th>\n",
       "      <td>f</td>\n",
       "      <td>1320</td>\n",
       "      <td>678</td>\n",
       "    </tr>\n",
       "  </tbody>\n",
       "</table>\n",
       "</div>"
      ],
      "text/plain": [
       "  day   vistors  users\n",
       "0    m     1500    150\n",
       "1    t     1200    654\n",
       "2    w     1648     25\n",
       "3    t     1452    879\n",
       "4    f     1320    678"
      ]
     },
     "execution_count": 56,
     "metadata": {},
     "output_type": "execute_result"
    }
   ],
   "source": [
    "df2"
   ]
  },
  {
   "cell_type": "code",
   "execution_count": 57,
   "metadata": {},
   "outputs": [
    {
     "data": {
      "text/plain": [
       "<matplotlib.axes._subplots.AxesSubplot at 0x7fdfdc7186d0>"
      ]
     },
     "execution_count": 57,
     "metadata": {},
     "output_type": "execute_result"
    },
    {
     "data": {
      "image/png": "[encoded data removed]",
      "text/plain": [
       "<Figure size 432x288 with 1 Axes>"
      ]
     },
     "metadata": {
      "needs_background": "light"
     },
     "output_type": "display_data"
    }
   ],
   "source": [
    "%matplotlib inline \n",
    "df2.plot()"
   ]
  },
  {
   "cell_type": "markdown",
   "metadata": {},
   "source": [
    "## Data Import "
   ]
  },
  {
   "cell_type": "code",
   "execution_count": 59,
   "metadata": {},
   "outputs": [],
   "source": [
    "h = pd.read_csv('HospitalBedsIndia.csv')"
   ]
  },
  {
   "cell_type": "markdown",
   "metadata": {},
   "source": [
    "# Hospital Data Set "
   ]
  },
  {
   "cell_type": "markdown",
   "metadata": {},
   "source": [
    "#### First 5 Rows "
   ]
  },
  {
   "cell_type": "code",
   "execution_count": 71,
   "metadata": {},
   "outputs": [
    {
     "data": {
      "text/html": [
       "<div>\n",
       "<style scoped>\n",
       "    .dataframe tbody tr th:only-of-type {\n",
       "        vertical-align: middle;\n",
       "    }\n",
       "\n",
       "    .dataframe tbody tr th {\n",
       "        vertical-align: top;\n",
       "    }\n",
       "\n",
       "    .dataframe thead th {\n",
       "        text-align: right;\n",
       "    }\n",
       "</style>\n",
       "<table border=\"1\" class=\"dataframe\">\n",
       "  <thead>\n",
       "    <tr style=\"text-align: right;\">\n",
       "      <th></th>\n",
       "      <th>Sno</th>\n",
       "      <th>NumPrimaryHealthCenters_HMIS</th>\n",
       "      <th>NumCommunityHealthCenters_HMIS</th>\n",
       "      <th>NumSubDistrictHospitals_HMIS</th>\n",
       "      <th>NumDistrictHospitals_HMIS</th>\n",
       "      <th>TotalPublicHealthFacilities_HMIS</th>\n",
       "      <th>NumPublicBeds_HMIS</th>\n",
       "      <th>NumRuralHospitals_NHP18</th>\n",
       "      <th>NumRuralBeds_NHP18</th>\n",
       "      <th>NumUrbanHospitals_NHP18</th>\n",
       "      <th>NumUrbanBeds_NHP18</th>\n",
       "    </tr>\n",
       "    <tr>\n",
       "      <th>State/UT</th>\n",
       "      <th></th>\n",
       "      <th></th>\n",
       "      <th></th>\n",
       "      <th></th>\n",
       "      <th></th>\n",
       "      <th></th>\n",
       "      <th></th>\n",
       "      <th></th>\n",
       "      <th></th>\n",
       "      <th></th>\n",
       "      <th></th>\n",
       "    </tr>\n",
       "  </thead>\n",
       "  <tbody>\n",
       "    <tr>\n",
       "      <th>Andaman &amp; Nicobar Islands</th>\n",
       "      <td>1</td>\n",
       "      <td>27</td>\n",
       "      <td>4</td>\n",
       "      <td>NaN</td>\n",
       "      <td>3</td>\n",
       "      <td>34</td>\n",
       "      <td>1246</td>\n",
       "      <td>27</td>\n",
       "      <td>575</td>\n",
       "      <td>3</td>\n",
       "      <td>500</td>\n",
       "    </tr>\n",
       "    <tr>\n",
       "      <th>Andhra Pradesh</th>\n",
       "      <td>2</td>\n",
       "      <td>1417</td>\n",
       "      <td>198</td>\n",
       "      <td>31.0</td>\n",
       "      <td>20</td>\n",
       "      <td>1666</td>\n",
       "      <td>60799</td>\n",
       "      <td>193</td>\n",
       "      <td>6480</td>\n",
       "      <td>65</td>\n",
       "      <td>16658</td>\n",
       "    </tr>\n",
       "    <tr>\n",
       "      <th>Arunachal Pradesh</th>\n",
       "      <td>3</td>\n",
       "      <td>122</td>\n",
       "      <td>62</td>\n",
       "      <td>NaN</td>\n",
       "      <td>15</td>\n",
       "      <td>199</td>\n",
       "      <td>2320</td>\n",
       "      <td>208</td>\n",
       "      <td>2136</td>\n",
       "      <td>10</td>\n",
       "      <td>268</td>\n",
       "    </tr>\n",
       "    <tr>\n",
       "      <th>Assam</th>\n",
       "      <td>4</td>\n",
       "      <td>1007</td>\n",
       "      <td>166</td>\n",
       "      <td>14.0</td>\n",
       "      <td>33</td>\n",
       "      <td>1220</td>\n",
       "      <td>19115</td>\n",
       "      <td>1176</td>\n",
       "      <td>10944</td>\n",
       "      <td>50</td>\n",
       "      <td>6198</td>\n",
       "    </tr>\n",
       "    <tr>\n",
       "      <th>Bihar</th>\n",
       "      <td>5</td>\n",
       "      <td>2007</td>\n",
       "      <td>63</td>\n",
       "      <td>33.0</td>\n",
       "      <td>43</td>\n",
       "      <td>2146</td>\n",
       "      <td>17796</td>\n",
       "      <td>930</td>\n",
       "      <td>6083</td>\n",
       "      <td>103</td>\n",
       "      <td>5936</td>\n",
       "    </tr>\n",
       "    <tr>\n",
       "      <th>Chandigarh</th>\n",
       "      <td>6</td>\n",
       "      <td>40</td>\n",
       "      <td>2</td>\n",
       "      <td>1.0</td>\n",
       "      <td>4</td>\n",
       "      <td>47</td>\n",
       "      <td>3756</td>\n",
       "      <td>0</td>\n",
       "      <td>0</td>\n",
       "      <td>4</td>\n",
       "      <td>778</td>\n",
       "    </tr>\n",
       "    <tr>\n",
       "      <th>Chhattisgarh</th>\n",
       "      <td>7</td>\n",
       "      <td>813</td>\n",
       "      <td>166</td>\n",
       "      <td>12.0</td>\n",
       "      <td>32</td>\n",
       "      <td>1023</td>\n",
       "      <td>14354</td>\n",
       "      <td>169</td>\n",
       "      <td>5070</td>\n",
       "      <td>45</td>\n",
       "      <td>4342</td>\n",
       "    </tr>\n",
       "    <tr>\n",
       "      <th>Dadra &amp; Nagar Haveli</th>\n",
       "      <td>8</td>\n",
       "      <td>9</td>\n",
       "      <td>2</td>\n",
       "      <td>1.0</td>\n",
       "      <td>1</td>\n",
       "      <td>13</td>\n",
       "      <td>568</td>\n",
       "      <td>10</td>\n",
       "      <td>273</td>\n",
       "      <td>1</td>\n",
       "      <td>316</td>\n",
       "    </tr>\n",
       "    <tr>\n",
       "      <th>Daman &amp; Diu</th>\n",
       "      <td>9</td>\n",
       "      <td>4</td>\n",
       "      <td>2</td>\n",
       "      <td>NaN</td>\n",
       "      <td>2</td>\n",
       "      <td>8</td>\n",
       "      <td>298</td>\n",
       "      <td>5</td>\n",
       "      <td>240</td>\n",
       "      <td>0</td>\n",
       "      <td>0</td>\n",
       "    </tr>\n",
       "    <tr>\n",
       "      <th>Delhi</th>\n",
       "      <td>10</td>\n",
       "      <td>534</td>\n",
       "      <td>25</td>\n",
       "      <td>9.0</td>\n",
       "      <td>47</td>\n",
       "      <td>615</td>\n",
       "      <td>20572</td>\n",
       "      <td>0</td>\n",
       "      <td>0</td>\n",
       "      <td>109</td>\n",
       "      <td>24383</td>\n",
       "    </tr>\n",
       "  </tbody>\n",
       "</table>\n",
       "</div>"
      ],
      "text/plain": [
       "                           Sno NumPrimaryHealthCenters_HMIS  \\\n",
       "State/UT                                                      \n",
       "Andaman & Nicobar Islands    1                           27   \n",
       "Andhra Pradesh               2                         1417   \n",
       "Arunachal Pradesh            3                          122   \n",
       "Assam                        4                         1007   \n",
       "Bihar                        5                         2007   \n",
       "Chandigarh                   6                           40   \n",
       "Chhattisgarh                 7                          813   \n",
       "Dadra & Nagar Haveli         8                            9   \n",
       "Daman & Diu                  9                            4   \n",
       "Delhi                       10                          534   \n",
       "\n",
       "                           NumCommunityHealthCenters_HMIS  \\\n",
       "State/UT                                                    \n",
       "Andaman & Nicobar Islands                               4   \n",
       "Andhra Pradesh                                        198   \n",
       "Arunachal Pradesh                                      62   \n",
       "Assam                                                 166   \n",
       "Bihar                                                  63   \n",
       "Chandigarh                                              2   \n",
       "Chhattisgarh                                          166   \n",
       "Dadra & Nagar Haveli                                    2   \n",
       "Daman & Diu                                             2   \n",
       "Delhi                                                  25   \n",
       "\n",
       "                           NumSubDistrictHospitals_HMIS  \\\n",
       "State/UT                                                  \n",
       "Andaman & Nicobar Islands                           NaN   \n",
       "Andhra Pradesh                                     31.0   \n",
       "Arunachal Pradesh                                   NaN   \n",
       "Assam                                              14.0   \n",
       "Bihar                                              33.0   \n",
       "Chandigarh                                          1.0   \n",
       "Chhattisgarh                                       12.0   \n",
       "Dadra & Nagar Haveli                                1.0   \n",
       "Daman & Diu                                         NaN   \n",
       "Delhi                                               9.0   \n",
       "\n",
       "                           NumDistrictHospitals_HMIS  \\\n",
       "State/UT                                               \n",
       "Andaman & Nicobar Islands                          3   \n",
       "Andhra Pradesh                                    20   \n",
       "Arunachal Pradesh                                 15   \n",
       "Assam                                             33   \n",
       "Bihar                                             43   \n",
       "Chandigarh                                         4   \n",
       "Chhattisgarh                                      32   \n",
       "Dadra & Nagar Haveli                               1   \n",
       "Daman & Diu                                        2   \n",
       "Delhi                                             47   \n",
       "\n",
       "                           TotalPublicHealthFacilities_HMIS  \\\n",
       "State/UT                                                      \n",
       "Andaman & Nicobar Islands                                34   \n",
       "Andhra Pradesh                                         1666   \n",
       "Arunachal Pradesh                                       199   \n",
       "Assam                                                  1220   \n",
       "Bihar                                                  2146   \n",
       "Chandigarh                                               47   \n",
       "Chhattisgarh                                           1023   \n",
       "Dadra & Nagar Haveli                                     13   \n",
       "Daman & Diu                                               8   \n",
       "Delhi                                                   615   \n",
       "\n",
       "                           NumPublicBeds_HMIS  NumRuralHospitals_NHP18  \\\n",
       "State/UT                                                                 \n",
       "Andaman & Nicobar Islands                1246                       27   \n",
       "Andhra Pradesh                          60799                      193   \n",
       "Arunachal Pradesh                        2320                      208   \n",
       "Assam                                   19115                     1176   \n",
       "Bihar                                   17796                      930   \n",
       "Chandigarh                               3756                        0   \n",
       "Chhattisgarh                            14354                      169   \n",
       "Dadra & Nagar Haveli                      568                       10   \n",
       "Daman & Diu                               298                        5   \n",
       "Delhi                                   20572                        0   \n",
       "\n",
       "                           NumRuralBeds_NHP18  NumUrbanHospitals_NHP18  \\\n",
       "State/UT                                                                 \n",
       "Andaman & Nicobar Islands                 575                        3   \n",
       "Andhra Pradesh                           6480                       65   \n",
       "Arunachal Pradesh                        2136                       10   \n",
       "Assam                                   10944                       50   \n",
       "Bihar                                    6083                      103   \n",
       "Chandigarh                                  0                        4   \n",
       "Chhattisgarh                             5070                       45   \n",
       "Dadra & Nagar Haveli                      273                        1   \n",
       "Daman & Diu                               240                        0   \n",
       "Delhi                                       0                      109   \n",
       "\n",
       "                           NumUrbanBeds_NHP18  \n",
       "State/UT                                       \n",
       "Andaman & Nicobar Islands                 500  \n",
       "Andhra Pradesh                          16658  \n",
       "Arunachal Pradesh                         268  \n",
       "Assam                                    6198  \n",
       "Bihar                                    5936  \n",
       "Chandigarh                                778  \n",
       "Chhattisgarh                             4342  \n",
       "Dadra & Nagar Haveli                      316  \n",
       "Daman & Diu                                 0  \n",
       "Delhi                                   24383  "
      ]
     },
     "execution_count": 71,
     "metadata": {},
     "output_type": "execute_result"
    }
   ],
   "source": [
    "h.head(10)"
   ]
  },
  {
   "cell_type": "markdown",
   "metadata": {},
   "source": [
    "#### Last 5 Rows"
   ]
  },
  {
   "cell_type": "code",
   "execution_count": 61,
   "metadata": {},
   "outputs": [
    {
     "data": {
      "text/html": [
       "<div>\n",
       "<style scoped>\n",
       "    .dataframe tbody tr th:only-of-type {\n",
       "        vertical-align: middle;\n",
       "    }\n",
       "\n",
       "    .dataframe tbody tr th {\n",
       "        vertical-align: top;\n",
       "    }\n",
       "\n",
       "    .dataframe thead th {\n",
       "        text-align: right;\n",
       "    }\n",
       "</style>\n",
       "<table border=\"1\" class=\"dataframe\">\n",
       "  <thead>\n",
       "    <tr style=\"text-align: right;\">\n",
       "      <th></th>\n",
       "      <th>Sno</th>\n",
       "      <th>State/UT</th>\n",
       "      <th>NumPrimaryHealthCenters_HMIS</th>\n",
       "      <th>NumCommunityHealthCenters_HMIS</th>\n",
       "      <th>NumSubDistrictHospitals_HMIS</th>\n",
       "      <th>NumDistrictHospitals_HMIS</th>\n",
       "      <th>TotalPublicHealthFacilities_HMIS</th>\n",
       "      <th>NumPublicBeds_HMIS</th>\n",
       "      <th>NumRuralHospitals_NHP18</th>\n",
       "      <th>NumRuralBeds_NHP18</th>\n",
       "      <th>NumUrbanHospitals_NHP18</th>\n",
       "      <th>NumUrbanBeds_NHP18</th>\n",
       "    </tr>\n",
       "  </thead>\n",
       "  <tbody>\n",
       "    <tr>\n",
       "      <th>32</th>\n",
       "      <td>33</td>\n",
       "      <td>Tripura</td>\n",
       "      <td>114</td>\n",
       "      <td>22</td>\n",
       "      <td>12.0</td>\n",
       "      <td>9</td>\n",
       "      <td>157</td>\n",
       "      <td>4895</td>\n",
       "      <td>99</td>\n",
       "      <td>1140</td>\n",
       "      <td>56</td>\n",
       "      <td>3277</td>\n",
       "    </tr>\n",
       "    <tr>\n",
       "      <th>33</th>\n",
       "      <td>34</td>\n",
       "      <td>Uttar Pradesh</td>\n",
       "      <td>3277</td>\n",
       "      <td>671</td>\n",
       "      <td>NaN</td>\n",
       "      <td>174</td>\n",
       "      <td>4122</td>\n",
       "      <td>58310</td>\n",
       "      <td>4442</td>\n",
       "      <td>39104</td>\n",
       "      <td>193</td>\n",
       "      <td>37156</td>\n",
       "    </tr>\n",
       "    <tr>\n",
       "      <th>34</th>\n",
       "      <td>35</td>\n",
       "      <td>Uttarakhand</td>\n",
       "      <td>275</td>\n",
       "      <td>69</td>\n",
       "      <td>19.0</td>\n",
       "      <td>20</td>\n",
       "      <td>383</td>\n",
       "      <td>6660</td>\n",
       "      <td>410</td>\n",
       "      <td>3284</td>\n",
       "      <td>50</td>\n",
       "      <td>5228</td>\n",
       "    </tr>\n",
       "    <tr>\n",
       "      <th>35</th>\n",
       "      <td>36</td>\n",
       "      <td>West Bengal</td>\n",
       "      <td>1374</td>\n",
       "      <td>406</td>\n",
       "      <td>70.0</td>\n",
       "      <td>55</td>\n",
       "      <td>1905</td>\n",
       "      <td>51163</td>\n",
       "      <td>1272</td>\n",
       "      <td>19684</td>\n",
       "      <td>294</td>\n",
       "      <td>58882</td>\n",
       "    </tr>\n",
       "    <tr>\n",
       "      <th>36</th>\n",
       "      <td>37</td>\n",
       "      <td>All India</td>\n",
       "      <td>29,899</td>\n",
       "      <td>5568</td>\n",
       "      <td>1255.0</td>\n",
       "      <td>1003</td>\n",
       "      <td>37725</td>\n",
       "      <td>739024</td>\n",
       "      <td>19810</td>\n",
       "      <td>279588</td>\n",
       "      <td>3772</td>\n",
       "      <td>431173</td>\n",
       "    </tr>\n",
       "  </tbody>\n",
       "</table>\n",
       "</div>"
      ],
      "text/plain": [
       "    Sno       State/UT NumPrimaryHealthCenters_HMIS  \\\n",
       "32   33        Tripura                          114   \n",
       "33   34  Uttar Pradesh                         3277   \n",
       "34   35    Uttarakhand                          275   \n",
       "35   36    West Bengal                         1374   \n",
       "36   37      All India                       29,899   \n",
       "\n",
       "    NumCommunityHealthCenters_HMIS  NumSubDistrictHospitals_HMIS  \\\n",
       "32                              22                          12.0   \n",
       "33                             671                           NaN   \n",
       "34                              69                          19.0   \n",
       "35                             406                          70.0   \n",
       "36                            5568                        1255.0   \n",
       "\n",
       "    NumDistrictHospitals_HMIS  TotalPublicHealthFacilities_HMIS  \\\n",
       "32                          9                               157   \n",
       "33                        174                              4122   \n",
       "34                         20                               383   \n",
       "35                         55                              1905   \n",
       "36                       1003                             37725   \n",
       "\n",
       "    NumPublicBeds_HMIS  NumRuralHospitals_NHP18  NumRuralBeds_NHP18  \\\n",
       "32                4895                       99                1140   \n",
       "33               58310                     4442               39104   \n",
       "34                6660                      410                3284   \n",
       "35               51163                     1272               19684   \n",
       "36              739024                    19810              279588   \n",
       "\n",
       "    NumUrbanHospitals_NHP18  NumUrbanBeds_NHP18  \n",
       "32                       56                3277  \n",
       "33                      193               37156  \n",
       "34                       50                5228  \n",
       "35                      294               58882  \n",
       "36                     3772              431173  "
      ]
     },
     "execution_count": 61,
     "metadata": {},
     "output_type": "execute_result"
    }
   ],
   "source": [
    "h.tail()"
   ]
  },
  {
   "cell_type": "code",
   "execution_count": 62,
   "metadata": {},
   "outputs": [
    {
     "name": "stdout",
     "output_type": "stream",
     "text": [
      "<class 'pandas.core.frame.DataFrame'>\n",
      "RangeIndex: 37 entries, 0 to 36\n",
      "Data columns (total 12 columns):\n",
      " #   Column                            Non-Null Count  Dtype  \n",
      "---  ------                            --------------  -----  \n",
      " 0   Sno                               37 non-null     int64  \n",
      " 1   State/UT                          37 non-null     object \n",
      " 2   NumPrimaryHealthCenters_HMIS      37 non-null     object \n",
      " 3   NumCommunityHealthCenters_HMIS    37 non-null     int64  \n",
      " 4   NumSubDistrictHospitals_HMIS      30 non-null     float64\n",
      " 5   NumDistrictHospitals_HMIS         37 non-null     int64  \n",
      " 6   TotalPublicHealthFacilities_HMIS  37 non-null     int64  \n",
      " 7   NumPublicBeds_HMIS                37 non-null     int64  \n",
      " 8   NumRuralHospitals_NHP18           37 non-null     int64  \n",
      " 9   NumRuralBeds_NHP18                37 non-null     int64  \n",
      " 10  NumUrbanHospitals_NHP18           37 non-null     int64  \n",
      " 11  NumUrbanBeds_NHP18                37 non-null     int64  \n",
      "dtypes: float64(1), int64(9), object(2)\n",
      "memory usage: 3.6+ KB\n"
     ]
    }
   ],
   "source": [
    "h.info()"
   ]
  },
  {
   "cell_type": "code",
   "execution_count": 63,
   "metadata": {},
   "outputs": [
    {
     "data": {
      "text/html": [
       "<div>\n",
       "<style scoped>\n",
       "    .dataframe tbody tr th:only-of-type {\n",
       "        vertical-align: middle;\n",
       "    }\n",
       "\n",
       "    .dataframe tbody tr th {\n",
       "        vertical-align: top;\n",
       "    }\n",
       "\n",
       "    .dataframe thead th {\n",
       "        text-align: right;\n",
       "    }\n",
       "</style>\n",
       "<table border=\"1\" class=\"dataframe\">\n",
       "  <thead>\n",
       "    <tr style=\"text-align: right;\">\n",
       "      <th></th>\n",
       "      <th>Sno</th>\n",
       "      <th>NumCommunityHealthCenters_HMIS</th>\n",
       "      <th>NumSubDistrictHospitals_HMIS</th>\n",
       "      <th>NumDistrictHospitals_HMIS</th>\n",
       "      <th>TotalPublicHealthFacilities_HMIS</th>\n",
       "      <th>NumPublicBeds_HMIS</th>\n",
       "      <th>NumRuralHospitals_NHP18</th>\n",
       "      <th>NumRuralBeds_NHP18</th>\n",
       "      <th>NumUrbanHospitals_NHP18</th>\n",
       "      <th>NumUrbanBeds_NHP18</th>\n",
       "    </tr>\n",
       "  </thead>\n",
       "  <tbody>\n",
       "    <tr>\n",
       "      <th>count</th>\n",
       "      <td>37.000000</td>\n",
       "      <td>37.000000</td>\n",
       "      <td>30.000000</td>\n",
       "      <td>37.000000</td>\n",
       "      <td>37.000000</td>\n",
       "      <td>37.000000</td>\n",
       "      <td>37.000000</td>\n",
       "      <td>37.000000</td>\n",
       "      <td>37.000000</td>\n",
       "      <td>37.000000</td>\n",
       "    </tr>\n",
       "    <tr>\n",
       "      <th>mean</th>\n",
       "      <td>19.000000</td>\n",
       "      <td>300.972973</td>\n",
       "      <td>83.666667</td>\n",
       "      <td>54.216216</td>\n",
       "      <td>2039.189189</td>\n",
       "      <td>39947.243243</td>\n",
       "      <td>1070.810811</td>\n",
       "      <td>15112.864865</td>\n",
       "      <td>203.891892</td>\n",
       "      <td>23306.648649</td>\n",
       "    </tr>\n",
       "    <tr>\n",
       "      <th>std</th>\n",
       "      <td>10.824355</td>\n",
       "      <td>907.160512</td>\n",
       "      <td>229.572817</td>\n",
       "      <td>163.173584</td>\n",
       "      <td>6130.345694</td>\n",
       "      <td>120196.898697</td>\n",
       "      <td>3278.430865</td>\n",
       "      <td>45752.664986</td>\n",
       "      <td>616.352568</td>\n",
       "      <td>70502.578529</td>\n",
       "    </tr>\n",
       "    <tr>\n",
       "      <th>min</th>\n",
       "      <td>1.000000</td>\n",
       "      <td>2.000000</td>\n",
       "      <td>1.000000</td>\n",
       "      <td>1.000000</td>\n",
       "      <td>8.000000</td>\n",
       "      <td>250.000000</td>\n",
       "      <td>0.000000</td>\n",
       "      <td>0.000000</td>\n",
       "      <td>0.000000</td>\n",
       "      <td>0.000000</td>\n",
       "    </tr>\n",
       "    <tr>\n",
       "      <th>25%</th>\n",
       "      <td>10.000000</td>\n",
       "      <td>17.000000</td>\n",
       "      <td>6.000000</td>\n",
       "      <td>9.000000</td>\n",
       "      <td>114.000000</td>\n",
       "      <td>2666.000000</td>\n",
       "      <td>24.000000</td>\n",
       "      <td>630.000000</td>\n",
       "      <td>14.000000</td>\n",
       "      <td>1393.000000</td>\n",
       "    </tr>\n",
       "    <tr>\n",
       "      <th>50%</th>\n",
       "      <td>19.000000</td>\n",
       "      <td>82.000000</td>\n",
       "      <td>25.500000</td>\n",
       "      <td>23.000000</td>\n",
       "      <td>683.000000</td>\n",
       "      <td>13527.000000</td>\n",
       "      <td>273.000000</td>\n",
       "      <td>5805.000000</td>\n",
       "      <td>59.000000</td>\n",
       "      <td>5228.000000</td>\n",
       "    </tr>\n",
       "    <tr>\n",
       "      <th>75%</th>\n",
       "      <td>28.000000</td>\n",
       "      <td>229.000000</td>\n",
       "      <td>63.250000</td>\n",
       "      <td>37.000000</td>\n",
       "      <td>1867.000000</td>\n",
       "      <td>39511.000000</td>\n",
       "      <td>705.000000</td>\n",
       "      <td>10944.000000</td>\n",
       "      <td>149.000000</td>\n",
       "      <td>18819.000000</td>\n",
       "    </tr>\n",
       "    <tr>\n",
       "      <th>max</th>\n",
       "      <td>37.000000</td>\n",
       "      <td>5568.000000</td>\n",
       "      <td>1255.000000</td>\n",
       "      <td>1003.000000</td>\n",
       "      <td>37725.000000</td>\n",
       "      <td>739024.000000</td>\n",
       "      <td>19810.000000</td>\n",
       "      <td>279588.000000</td>\n",
       "      <td>3772.000000</td>\n",
       "      <td>431173.000000</td>\n",
       "    </tr>\n",
       "  </tbody>\n",
       "</table>\n",
       "</div>"
      ],
      "text/plain": [
       "             Sno  NumCommunityHealthCenters_HMIS  \\\n",
       "count  37.000000                       37.000000   \n",
       "mean   19.000000                      300.972973   \n",
       "std    10.824355                      907.160512   \n",
       "min     1.000000                        2.000000   \n",
       "25%    10.000000                       17.000000   \n",
       "50%    19.000000                       82.000000   \n",
       "75%    28.000000                      229.000000   \n",
       "max    37.000000                     5568.000000   \n",
       "\n",
       "       NumSubDistrictHospitals_HMIS  NumDistrictHospitals_HMIS  \\\n",
       "count                     30.000000                  37.000000   \n",
       "mean                      83.666667                  54.216216   \n",
       "std                      229.572817                 163.173584   \n",
       "min                        1.000000                   1.000000   \n",
       "25%                        6.000000                   9.000000   \n",
       "50%                       25.500000                  23.000000   \n",
       "75%                       63.250000                  37.000000   \n",
       "max                     1255.000000                1003.000000   \n",
       "\n",
       "       TotalPublicHealthFacilities_HMIS  NumPublicBeds_HMIS  \\\n",
       "count                         37.000000           37.000000   \n",
       "mean                        2039.189189        39947.243243   \n",
       "std                         6130.345694       120196.898697   \n",
       "min                            8.000000          250.000000   \n",
       "25%                          114.000000         2666.000000   \n",
       "50%                          683.000000        13527.000000   \n",
       "75%                         1867.000000        39511.000000   \n",
       "max                        37725.000000       739024.000000   \n",
       "\n",
       "       NumRuralHospitals_NHP18  NumRuralBeds_NHP18  NumUrbanHospitals_NHP18  \\\n",
       "count                37.000000           37.000000                37.000000   \n",
       "mean               1070.810811        15112.864865               203.891892   \n",
       "std                3278.430865        45752.664986               616.352568   \n",
       "min                   0.000000            0.000000                 0.000000   \n",
       "25%                  24.000000          630.000000                14.000000   \n",
       "50%                 273.000000         5805.000000                59.000000   \n",
       "75%                 705.000000        10944.000000               149.000000   \n",
       "max               19810.000000       279588.000000              3772.000000   \n",
       "\n",
       "       NumUrbanBeds_NHP18  \n",
       "count           37.000000  \n",
       "mean         23306.648649  \n",
       "std          70502.578529  \n",
       "min              0.000000  \n",
       "25%           1393.000000  \n",
       "50%           5228.000000  \n",
       "75%          18819.000000  \n",
       "max         431173.000000  "
      ]
     },
     "execution_count": 63,
     "metadata": {},
     "output_type": "execute_result"
    }
   ],
   "source": [
    "h.describe()"
   ]
  },
  {
   "cell_type": "code",
   "execution_count": 64,
   "metadata": {},
   "outputs": [
    {
     "data": {
      "text/plain": [
       "Index(['Sno', 'State/UT', 'NumPrimaryHealthCenters_HMIS',\n",
       "       'NumCommunityHealthCenters_HMIS', 'NumSubDistrictHospitals_HMIS',\n",
       "       'NumDistrictHospitals_HMIS', 'TotalPublicHealthFacilities_HMIS',\n",
       "       'NumPublicBeds_HMIS', 'NumRuralHospitals_NHP18', 'NumRuralBeds_NHP18',\n",
       "       'NumUrbanHospitals_NHP18', 'NumUrbanBeds_NHP18'],\n",
       "      dtype='object')"
      ]
     },
     "execution_count": 64,
     "metadata": {},
     "output_type": "execute_result"
    }
   ],
   "source": [
    "h.columns"
   ]
  },
  {
   "cell_type": "code",
   "execution_count": 65,
   "metadata": {},
   "outputs": [
    {
     "data": {
      "text/plain": [
       "Index(['Sno', 'State/UT', 'NumPrimaryHealthCenters_HMIS',\n",
       "       'NumCommunityHealthCenters_HMIS', 'NumSubDistrictHospitals_HMIS'],\n",
       "      dtype='object')"
      ]
     },
     "execution_count": 65,
     "metadata": {},
     "output_type": "execute_result"
    }
   ],
   "source": [
    "h.columns[:5]"
   ]
  },
  {
   "cell_type": "code",
   "execution_count": 66,
   "metadata": {},
   "outputs": [
    {
     "data": {
      "text/plain": [
       "RangeIndex(start=0, stop=37, step=1)"
      ]
     },
     "execution_count": 66,
     "metadata": {},
     "output_type": "execute_result"
    }
   ],
   "source": [
    "h.index"
   ]
  },
  {
   "cell_type": "code",
   "execution_count": 67,
   "metadata": {},
   "outputs": [
    {
     "data": {
      "text/plain": [
       "array([ 0,  1,  2,  3,  4,  5,  6,  7,  8,  9, 10, 11, 12, 13, 14, 15, 16,\n",
       "       17, 18, 19, 20, 21, 22, 23, 24, 25, 26, 27, 28, 29, 30, 31, 32, 33,\n",
       "       34, 35, 36])"
      ]
     },
     "execution_count": 67,
     "metadata": {},
     "output_type": "execute_result"
    }
   ],
   "source": [
    "h.index.values"
   ]
  },
  {
   "cell_type": "code",
   "execution_count": 68,
   "metadata": {},
   "outputs": [],
   "source": [
    "h = pd.read_csv('HospitalBedsIndia.csv', index_col= 'State/UT')"
   ]
  },
  {
   "cell_type": "markdown",
   "metadata": {},
   "source": [
    "### Analyzation "
   ]
  },
  {
   "cell_type": "code",
   "execution_count": 70,
   "metadata": {},
   "outputs": [
    {
     "data": {
      "text/plain": [
       "25"
      ]
     },
     "execution_count": 70,
     "metadata": {},
     "output_type": "execute_result"
    }
   ],
   "source": [
    "# no of Community health centers in delhi \n",
    "h['NumCommunityHealthCenters_HMIS']['Delhi']"
   ]
  },
  {
   "cell_type": "code",
   "execution_count": 73,
   "metadata": {},
   "outputs": [
    {
     "data": {
      "text/plain": [
       "Sno                                   37\n",
       "NumPrimaryHealthCenters_HMIS      29,899\n",
       "NumCommunityHealthCenters_HMIS      5568\n",
       "NumSubDistrictHospitals_HMIS        1255\n",
       "Name: All India, dtype: object"
      ]
     },
     "execution_count": 73,
     "metadata": {},
     "output_type": "execute_result"
    }
   ],
   "source": [
    "h.loc['All India'][:4]"
   ]
  },
  {
   "cell_type": "code",
   "execution_count": 74,
   "metadata": {},
   "outputs": [
    {
     "data": {
      "text/plain": [
       "array([[1, '27', 4, nan, 3, 34, 1246, 27, 575, 3, 500],\n",
       "       [2, '1417', 198, 31.0, 20, 1666, 60799, 193, 6480, 65, 16658],\n",
       "       [3, '122', 62, nan, 15, 199, 2320, 208, 2136, 10, 268],\n",
       "       [4, '1007', 166, 14.0, 33, 1220, 19115, 1176, 10944, 50, 6198],\n",
       "       [5, '2007', 63, 33.0, 43, 2146, 17796, 930, 6083, 103, 5936],\n",
       "       [6, '40', 2, 1.0, 4, 47, 3756, 0, 0, 4, 778],\n",
       "       [7, '813', 166, 12.0, 32, 1023, 14354, 169, 5070, 45, 4342],\n",
       "       [8, '9', 2, 1.0, 1, 13, 568, 10, 273, 1, 316],\n",
       "       [9, '4', 2, nan, 2, 8, 298, 5, 240, 0, 0],\n",
       "       [10, '534', 25, 9.0, 47, 615, 20572, 0, 0, 109, 24383],\n",
       "       [11, '31', 4, 2.0, 3, 40, 2666, 17, 1405, 25, 1608],\n",
       "       [12, '1770', 385, 44.0, 37, 2236, 41129, 364, 11715, 122, 20565],\n",
       "       [13, '500', 131, 24.0, 28, 683, 13841, 609, 6690, 59, 4550],\n",
       "       [14, '516', 79, 61.0, 15, 671, 8706, 705, 5665, 96, 6734],\n",
       "       [15, '702', 87, nan, 29, 818, 11342, 56, 7234, 76, 4417],\n",
       "       [16, '343', 179, 13.0, 23, 558, 7404, 519, 5842, 36, 4942],\n",
       "       [17, '2547', 207, 147.0, 42, 2943, 56333, 2471, 21072, 374, 49093],\n",
       "       [18, '933', 229, 82.0, 53, 1297, 39511, 981, 16865, 299, 21139],\n",
       "       [19, '4', 3, 2.0, 1, 10, 250, 9, 300, 0, 0],\n",
       "       [20, '1420', 324, 72.0, 51, 1867, 38140, 334, 10020, 117, 18819],\n",
       "       [21, '2638', 430, 101.0, 70, 3239, 68998, 273, 12398, 438, 39048],\n",
       "       [22, '87', 17, 1.0, 9, 114, 2562, 23, 730, 7, 697],\n",
       "       [23, '138', 29, nan, 13, 180, 4585, 143, 1970, 14, 2487],\n",
       "       [24, '65', 10, 3.0, 9, 87, 2312, 56, 604, 34, 1393],\n",
       "       [25, '134', 21, nan, 11, 166, 1944, 21, 630, 15, 1250],\n",
       "       [26, '1360', 377, 27.0, 35, 1799, 16497, 1655, 6339, 149, 12180],\n",
       "       [27, '40', 4, 5.0, 4, 53, 4462, 3, 96, 11, 3473],\n",
       "       [28, '521', 146, 47.0, 28, 742, 13527, 510, 5805, 172, 12128],\n",
       "       [29, '2463', 579, 64.0, 33, 3139, 51844, 602, 21088, 150, 10760],\n",
       "       [30, '25', 2, 1.0, 4, 32, 1145, 24, 260, 9, 1300],\n",
       "       [31, '1854', 385, 310.0, 32, 2581, 72616, 692, 40179, 525, 37353],\n",
       "       [32, '788', 82, 47.0, 15, 932, 17358, 802, 7668, 61, 13315],\n",
       "       [33, '114', 22, 12.0, 9, 157, 4895, 99, 1140, 56, 3277],\n",
       "       [34, '3277', 671, nan, 174, 4122, 58310, 4442, 39104, 193, 37156],\n",
       "       [35, '275', 69, 19.0, 20, 383, 6660, 410, 3284, 50, 5228],\n",
       "       [36, '1374', 406, 70.0, 55, 1905, 51163, 1272, 19684, 294, 58882],\n",
       "       [37, '29,899', 5568, 1255.0, 1003, 37725, 739024, 19810, 279588,\n",
       "        3772, 431173]], dtype=object)"
      ]
     },
     "execution_count": 74,
     "metadata": {},
     "output_type": "execute_result"
    }
   ],
   "source": [
    "h.values"
   ]
  },
  {
   "cell_type": "code",
   "execution_count": 75,
   "metadata": {},
   "outputs": [
    {
     "data": {
      "text/html": [
       "<div>\n",
       "<style scoped>\n",
       "    .dataframe tbody tr th:only-of-type {\n",
       "        vertical-align: middle;\n",
       "    }\n",
       "\n",
       "    .dataframe tbody tr th {\n",
       "        vertical-align: top;\n",
       "    }\n",
       "\n",
       "    .dataframe thead th {\n",
       "        text-align: right;\n",
       "    }\n",
       "</style>\n",
       "<table border=\"1\" class=\"dataframe\">\n",
       "  <thead>\n",
       "    <tr style=\"text-align: right;\">\n",
       "      <th></th>\n",
       "      <th>Sno</th>\n",
       "      <th>NumPrimaryHealthCenters_HMIS</th>\n",
       "      <th>NumCommunityHealthCenters_HMIS</th>\n",
       "      <th>NumSubDistrictHospitals_HMIS</th>\n",
       "      <th>NumDistrictHospitals_HMIS</th>\n",
       "      <th>TotalPublicHealthFacilities_HMIS</th>\n",
       "      <th>NumPublicBeds_HMIS</th>\n",
       "      <th>NumRuralHospitals_NHP18</th>\n",
       "      <th>NumRuralBeds_NHP18</th>\n",
       "      <th>NumUrbanHospitals_NHP18</th>\n",
       "      <th>NumUrbanBeds_NHP18</th>\n",
       "    </tr>\n",
       "    <tr>\n",
       "      <th>State/UT</th>\n",
       "      <th></th>\n",
       "      <th></th>\n",
       "      <th></th>\n",
       "      <th></th>\n",
       "      <th></th>\n",
       "      <th></th>\n",
       "      <th></th>\n",
       "      <th></th>\n",
       "      <th></th>\n",
       "      <th></th>\n",
       "      <th></th>\n",
       "    </tr>\n",
       "  </thead>\n",
       "  <tbody>\n",
       "    <tr>\n",
       "      <th>Delhi</th>\n",
       "      <td>10</td>\n",
       "      <td>534</td>\n",
       "      <td>25</td>\n",
       "      <td>9.0</td>\n",
       "      <td>47</td>\n",
       "      <td>615</td>\n",
       "      <td>20572</td>\n",
       "      <td>0</td>\n",
       "      <td>0</td>\n",
       "      <td>109</td>\n",
       "      <td>24383</td>\n",
       "    </tr>\n",
       "  </tbody>\n",
       "</table>\n",
       "</div>"
      ],
      "text/plain": [
       "          Sno NumPrimaryHealthCenters_HMIS  NumCommunityHealthCenters_HMIS  \\\n",
       "State/UT                                                                     \n",
       "Delhi      10                          534                              25   \n",
       "\n",
       "          NumSubDistrictHospitals_HMIS  NumDistrictHospitals_HMIS  \\\n",
       "State/UT                                                            \n",
       "Delhi                              9.0                         47   \n",
       "\n",
       "          TotalPublicHealthFacilities_HMIS  NumPublicBeds_HMIS  \\\n",
       "State/UT                                                         \n",
       "Delhi                                  615               20572   \n",
       "\n",
       "          NumRuralHospitals_NHP18  NumRuralBeds_NHP18  \\\n",
       "State/UT                                                \n",
       "Delhi                           0                   0   \n",
       "\n",
       "          NumUrbanHospitals_NHP18  NumUrbanBeds_NHP18  \n",
       "State/UT                                               \n",
       "Delhi                         109               24383  "
      ]
     },
     "execution_count": 75,
     "metadata": {},
     "output_type": "execute_result"
    }
   ],
   "source": [
    "h.loc['Delhi':'Delhi']"
   ]
  },
  {
   "cell_type": "code",
   "execution_count": 78,
   "metadata": {},
   "outputs": [
    {
     "data": {
      "text/plain": [
       "Sno                                 0\n",
       "NumPrimaryHealthCenters_HMIS        0\n",
       "NumCommunityHealthCenters_HMIS      0\n",
       "NumSubDistrictHospitals_HMIS        7\n",
       "NumDistrictHospitals_HMIS           0\n",
       "TotalPublicHealthFacilities_HMIS    0\n",
       "NumPublicBeds_HMIS                  0\n",
       "NumRuralHospitals_NHP18             0\n",
       "NumRuralBeds_NHP18                  0\n",
       "NumUrbanHospitals_NHP18             0\n",
       "NumUrbanBeds_NHP18                  0\n",
       "dtype: int64"
      ]
     },
     "execution_count": 78,
     "metadata": {},
     "output_type": "execute_result"
    }
   ],
   "source": [
    "h.isnull().sum()"
   ]
  },
  {
   "cell_type": "code",
   "execution_count": 84,
   "metadata": {},
   "outputs": [
    {
     "data": {
      "text/plain": [
       "<matplotlib.axes._subplots.AxesSubplot at 0x7fdfc1e43610>"
      ]
     },
     "execution_count": 84,
     "metadata": {},
     "output_type": "execute_result"
    },
    {
     "data": {
      "image/png": "[encoded data removed]",
      "text/plain": [
       "<Figure size 432x288 with 2 Axes>"
      ]
     },
     "metadata": {
      "needs_background": "light"
     },
     "output_type": "display_data"
    }
   ],
   "source": [
    "import seaborn as sns \n",
    "sns.heatmap(h.isnull(), cmap = 'coolwarm')"
   ]
  },
  {
   "cell_type": "code",
   "execution_count": 85,
   "metadata": {},
   "outputs": [],
   "source": [
    "h.dropna(inplace = True)"
   ]
  },
  {
   "cell_type": "code",
   "execution_count": 86,
   "metadata": {},
   "outputs": [
    {
     "data": {
      "text/plain": [
       "Sno                                 0\n",
       "NumPrimaryHealthCenters_HMIS        0\n",
       "NumCommunityHealthCenters_HMIS      0\n",
       "NumSubDistrictHospitals_HMIS        0\n",
       "NumDistrictHospitals_HMIS           0\n",
       "TotalPublicHealthFacilities_HMIS    0\n",
       "NumPublicBeds_HMIS                  0\n",
       "NumRuralHospitals_NHP18             0\n",
       "NumRuralBeds_NHP18                  0\n",
       "NumUrbanHospitals_NHP18             0\n",
       "NumUrbanBeds_NHP18                  0\n",
       "dtype: int64"
      ]
     },
     "execution_count": 86,
     "metadata": {},
     "output_type": "execute_result"
    }
   ],
   "source": [
    "h.isnull().sum()"
   ]
  },
  {
   "cell_type": "code",
   "execution_count": 91,
   "metadata": {},
   "outputs": [
    {
     "data": {
      "text/plain": [
       "<matplotlib.axes._subplots.AxesSubplot at 0x7fdfc239e710>"
      ]
     },
     "execution_count": 91,
     "metadata": {},
     "output_type": "execute_result"
    },
    {
     "data": {
      "image/png": "[encoded data removed]",
      "text/plain": [
       "<Figure size 432x288 with 2 Axes>"
      ]
     },
     "metadata": {
      "needs_background": "light"
     },
     "output_type": "display_data"
    }
   ],
   "source": [
    "sns.heatmap(h.isnull(), cmap = 'coolwarm')"
   ]
  },
  {
   "cell_type": "markdown",
   "metadata": {},
   "source": [
    "# ICMR Testing Labs "
   ]
  },
  {
   "cell_type": "code",
   "execution_count": 92,
   "metadata": {},
   "outputs": [],
   "source": [
    "t = pd.read_csv('ICMR.csv', index_col='state')"
   ]
  },
  {
   "cell_type": "code",
   "execution_count": 94,
   "metadata": {},
   "outputs": [
    {
     "data": {
      "text/html": [
       "<div>\n",
       "<style scoped>\n",
       "    .dataframe tbody tr th:only-of-type {\n",
       "        vertical-align: middle;\n",
       "    }\n",
       "\n",
       "    .dataframe tbody tr th {\n",
       "        vertical-align: top;\n",
       "    }\n",
       "\n",
       "    .dataframe thead th {\n",
       "        text-align: right;\n",
       "    }\n",
       "</style>\n",
       "<table border=\"1\" class=\"dataframe\">\n",
       "  <thead>\n",
       "    <tr style=\"text-align: right;\">\n",
       "      <th></th>\n",
       "      <th>lab</th>\n",
       "      <th>address</th>\n",
       "      <th>pincode</th>\n",
       "      <th>city</th>\n",
       "      <th>type</th>\n",
       "    </tr>\n",
       "    <tr>\n",
       "      <th>state</th>\n",
       "      <th></th>\n",
       "      <th></th>\n",
       "      <th></th>\n",
       "      <th></th>\n",
       "      <th></th>\n",
       "    </tr>\n",
       "  </thead>\n",
       "  <tbody>\n",
       "    <tr>\n",
       "      <th>Andaman and Nicobar Islands</th>\n",
       "      <td>ICMR-Regional Medical Research Centre, Port Blair</td>\n",
       "      <td>ICMR-Regional Medical Research Centre, Post Ba...</td>\n",
       "      <td>744103</td>\n",
       "      <td>Port Blair</td>\n",
       "      <td>Government Laboratory</td>\n",
       "    </tr>\n",
       "    <tr>\n",
       "      <th>Arunachal Pradesh</th>\n",
       "      <td>Tomo Riba Institute of Health &amp; Medical Scienc...</td>\n",
       "      <td>National Highway 52A, Old Assembly Complex, Na...</td>\n",
       "      <td>791110</td>\n",
       "      <td>Naharlagun</td>\n",
       "      <td>Collection Site</td>\n",
       "    </tr>\n",
       "    <tr>\n",
       "      <th>Andhra Pradesh</th>\n",
       "      <td>Sri Venkateswara Institute of Medical Sciences...</td>\n",
       "      <td>Sri Venkateswara Institute of Medical Sciences...</td>\n",
       "      <td>517507</td>\n",
       "      <td>Tirupati</td>\n",
       "      <td>Government Laboratory</td>\n",
       "    </tr>\n",
       "    <tr>\n",
       "      <th>Andhra Pradesh</th>\n",
       "      <td>Rangaraya Medical College, Kakinada</td>\n",
       "      <td>Rangaraya Medical College, Kakinada Pithampura...</td>\n",
       "      <td>533001</td>\n",
       "      <td>Kakinada</td>\n",
       "      <td>Government Laboratory</td>\n",
       "    </tr>\n",
       "    <tr>\n",
       "      <th>Andhra Pradesh</th>\n",
       "      <td>Sidhartha Medical College, Vijaywada</td>\n",
       "      <td>Siddhartha Medical College, Vijayawada NH 16 S...</td>\n",
       "      <td>520008</td>\n",
       "      <td>Vijayawada</td>\n",
       "      <td>Government Laboratory</td>\n",
       "    </tr>\n",
       "  </tbody>\n",
       "</table>\n",
       "</div>"
      ],
      "text/plain": [
       "                                                                           lab  \\\n",
       "state                                                                            \n",
       "Andaman and Nicobar Islands  ICMR-Regional Medical Research Centre, Port Blair   \n",
       "Arunachal Pradesh            Tomo Riba Institute of Health & Medical Scienc...   \n",
       "Andhra Pradesh               Sri Venkateswara Institute of Medical Sciences...   \n",
       "Andhra Pradesh                             Rangaraya Medical College, Kakinada   \n",
       "Andhra Pradesh                            Sidhartha Medical College, Vijaywada   \n",
       "\n",
       "                                                                       address  \\\n",
       "state                                                                            \n",
       "Andaman and Nicobar Islands  ICMR-Regional Medical Research Centre, Post Ba...   \n",
       "Arunachal Pradesh            National Highway 52A, Old Assembly Complex, Na...   \n",
       "Andhra Pradesh               Sri Venkateswara Institute of Medical Sciences...   \n",
       "Andhra Pradesh               Rangaraya Medical College, Kakinada Pithampura...   \n",
       "Andhra Pradesh               Siddhartha Medical College, Vijayawada NH 16 S...   \n",
       "\n",
       "                             pincode        city                   type  \n",
       "state                                                                    \n",
       "Andaman and Nicobar Islands   744103  Port Blair  Government Laboratory  \n",
       "Arunachal Pradesh             791110  Naharlagun        Collection Site  \n",
       "Andhra Pradesh                517507    Tirupati  Government Laboratory  \n",
       "Andhra Pradesh                533001    Kakinada  Government Laboratory  \n",
       "Andhra Pradesh                520008  Vijayawada  Government Laboratory  "
      ]
     },
     "execution_count": 94,
     "metadata": {},
     "output_type": "execute_result"
    }
   ],
   "source": [
    "t.head()"
   ]
  },
  {
   "cell_type": "code",
   "execution_count": 96,
   "metadata": {},
   "outputs": [
    {
     "data": {
      "text/plain": [
       "array(['Andaman and Nicobar Islands', 'Arunachal Pradesh',\n",
       "       'Andhra Pradesh', 'Andhra Pradesh', 'Andhra Pradesh',\n",
       "       'Andhra Pradesh', 'Andhra Pradesh', 'Andhra Pradesh',\n",
       "       'Andhra Pradesh', 'Assam', 'Assam', 'Assam', 'Assam', 'Assam',\n",
       "       'Assam', 'Bihar', 'Bihar', 'Bihar', 'Bihar', 'Bihar', 'Bihar',\n",
       "       'Chandigarh', 'Chandigarh', 'Chandigarh', 'Chhattisgarh',\n",
       "       'Chhattisgarh', 'Chhattisgarh',\n",
       "       'Dadra and Nagar Haveli and Daman and Diu', 'Delhi', 'Delhi',\n",
       "       'Delhi', 'Delhi', 'Delhi', 'Delhi', 'Delhi', 'Delhi', 'Delhi',\n",
       "       'Delhi', 'Delhi', 'Delhi', 'Delhi', 'Delhi', 'Delhi', 'Delhi',\n",
       "       'Delhi', 'Delhi', 'Gujarat', 'Gujarat', 'Gujarat', 'Gujarat',\n",
       "       'Gujarat', 'Gujarat', 'Gujarat', 'Gujarat', 'Gujarat', 'Gujarat',\n",
       "       'Gujarat', 'Gujarat', 'Gujarat', 'Gujarat', 'Goa', 'Haryana',\n",
       "       'Haryana', 'Haryana', 'Haryana', 'Haryana', 'Haryana', 'Haryana',\n",
       "       'Haryana', 'Haryana', 'Haryana', 'Haryana', 'Himachal Pradesh',\n",
       "       'Himachal Pradesh', 'Himachal Pradesh', 'Jammu and Kashmir',\n",
       "       'Jammu and Kashmir', 'Jammu and Kashmir', 'Jammu and Kashmir',\n",
       "       'Jharkhand', 'Jharkhand', 'Jharkhand', 'Karnataka', 'Karnataka',\n",
       "       'Karnataka', 'Karnataka', 'Karnataka', 'Karnataka', 'Karnataka',\n",
       "       'Karnataka', 'Karnataka', 'Karnataka', 'Karnataka', 'Karnataka',\n",
       "       'Karnataka', 'Karnataka', 'Karnataka', 'Karnataka', 'Karnataka',\n",
       "       'Kerala', 'Kerala', 'Kerala', 'Kerala', 'Kerala', 'Kerala',\n",
       "       'Kerala', 'Kerala', 'Kerala', 'Kerala', 'Kerala', 'Kerala',\n",
       "       'Ladakh', 'Maharashtra', 'Maharashtra', 'Maharashtra',\n",
       "       'Maharashtra', 'Maharashtra', 'Maharashtra', 'Maharashtra',\n",
       "       'Maharashtra', 'Maharashtra', 'Maharashtra', 'Maharashtra',\n",
       "       'Maharashtra', 'Maharashtra', 'Maharashtra', 'Maharashtra',\n",
       "       'Maharashtra', 'Maharashtra', 'Maharashtra', 'Maharashtra',\n",
       "       'Maharashtra', 'Maharashtra', 'Maharashtra', 'Maharashtra',\n",
       "       'Maharashtra', 'Maharashtra', 'Maharashtra', 'Maharashtra',\n",
       "       'Maharashtra', 'Maharashtra', 'Maharashtra', 'Maharashtra',\n",
       "       'Maharashtra', 'Maharashtra', 'Maharashtra', 'Maharashtra',\n",
       "       'Maharashtra', 'Maharashtra', 'Maharashtra', 'Maharashtra',\n",
       "       'Madhya Pradesh', 'Madhya Pradesh', 'Madhya Pradesh',\n",
       "       'Madhya Pradesh', 'Madhya Pradesh', 'Madhya Pradesh',\n",
       "       'Madhya Pradesh', 'Madhya Pradesh', 'Madhya Pradesh',\n",
       "       'Madhya Pradesh', 'Manipur', 'Manipur', 'Meghalaya', 'Mizoram',\n",
       "       'Odisha', 'Odisha', 'Odisha', 'Odisha', 'Odisha', 'Odisha',\n",
       "       'Odisha', 'Puducherry', 'Punjab', 'Punjab', 'Punjab', 'Punjab',\n",
       "       'Punjab', 'Rajasthan', 'Rajasthan', 'Rajasthan', 'Rajasthan',\n",
       "       'Rajasthan', 'Rajasthan', 'Rajasthan', 'Rajasthan', 'Rajasthan',\n",
       "       'Sikkim', 'Tamil Nadu', 'Tamil Nadu', 'Tamil Nadu', 'Tamil Nadu',\n",
       "       'Tamil Nadu', 'Tamil Nadu', 'Tamil Nadu', 'Tamil Nadu',\n",
       "       'Tamil Nadu', 'Tamil Nadu', 'Tamil Nadu', 'Tamil Nadu',\n",
       "       'Tamil Nadu', 'Tamil Nadu', 'Tamil Nadu', 'Tamil Nadu',\n",
       "       'Tamil Nadu', 'Tamil Nadu', 'Tamil Nadu', 'Tamil Nadu',\n",
       "       'Tamil Nadu', 'Tamil Nadu', 'Tamil Nadu', 'Tamil Nadu',\n",
       "       'Tamil Nadu', 'Tamil Nadu', 'Telangana', 'Telangana', 'Telangana',\n",
       "       'Telangana', 'Telangana', 'Telangana', 'Telangana', 'Telangana',\n",
       "       'Telangana', 'Telangana', 'Telangana', 'Telangana', 'Telangana',\n",
       "       'Telangana', 'Telangana', 'Telangana', 'Telangana', 'Telangana',\n",
       "       'Telangana', 'Tripura', 'Uttar Pradesh', 'Uttar Pradesh',\n",
       "       'Uttar Pradesh', 'Uttar Pradesh', 'Uttar Pradesh', 'Uttar Pradesh',\n",
       "       'Uttar Pradesh', 'Uttar Pradesh', 'Uttar Pradesh', 'Uttar Pradesh',\n",
       "       'Uttar Pradesh', 'Uttar Pradesh', 'Uttar Pradesh', 'Uttar Pradesh',\n",
       "       'Uttar Pradesh', 'Uttar Pradesh', 'Uttar Pradesh', 'Uttarakhand',\n",
       "       'Uttarakhand', 'Uttarakhand', 'West Bengal', 'West Bengal',\n",
       "       'West Bengal', 'West Bengal', 'West Bengal', 'West Bengal',\n",
       "       'West Bengal', 'West Bengal', 'West Bengal', 'West Bengal',\n",
       "       'West Bengal', 'West Bengal', 'West Bengal'], dtype=object)"
      ]
     },
     "execution_count": 96,
     "metadata": {},
     "output_type": "execute_result"
    }
   ],
   "source": [
    "t.index.values"
   ]
  },
  {
   "cell_type": "code",
   "execution_count": 100,
   "metadata": {},
   "outputs": [
    {
     "data": {
      "text/plain": [
       "['Andaman and Nicobar Islands',\n",
       " 'Arunachal Pradesh',\n",
       " 'Andhra Pradesh',\n",
       " 'Assam',\n",
       " 'Bihar',\n",
       " 'Chandigarh',\n",
       " 'Chhattisgarh',\n",
       " 'Dadra and Nagar Haveli and Daman and Diu',\n",
       " 'Delhi',\n",
       " 'Gujarat']"
      ]
     },
     "execution_count": 100,
     "metadata": {},
     "output_type": "execute_result"
    }
   ],
   "source": [
    "t.index.unique().tolist()[:10]"
   ]
  },
  {
   "cell_type": "code",
   "execution_count": 101,
   "metadata": {},
   "outputs": [
    {
     "name": "stdout",
     "output_type": "stream",
     "text": [
      "<class 'pandas.core.frame.DataFrame'>\n",
      "Index: 267 entries, Andaman and Nicobar Islands to West Bengal\n",
      "Data columns (total 5 columns):\n",
      " #   Column   Non-Null Count  Dtype \n",
      "---  ------   --------------  ----- \n",
      " 0   lab      267 non-null    object\n",
      " 1   address  267 non-null    object\n",
      " 2   pincode  267 non-null    int64 \n",
      " 3   city     267 non-null    object\n",
      " 4   type     267 non-null    object\n",
      "dtypes: int64(1), object(4)\n",
      "memory usage: 12.5+ KB\n"
     ]
    }
   ],
   "source": [
    "t.info()"
   ]
  },
  {
   "cell_type": "code",
   "execution_count": 106,
   "metadata": {},
   "outputs": [
    {
     "data": {
      "text/plain": [
       "236"
      ]
     },
     "execution_count": 106,
     "metadata": {},
     "output_type": "execute_result"
    }
   ],
   "source": [
    "len(t['pincode'].unique())"
   ]
  },
  {
   "cell_type": "code",
   "execution_count": 107,
   "metadata": {},
   "outputs": [
    {
     "data": {
      "text/plain": [
       "267"
      ]
     },
     "execution_count": 107,
     "metadata": {},
     "output_type": "execute_result"
    }
   ],
   "source": [
    "len(t['pincode'].values)"
   ]
  },
  {
   "cell_type": "code",
   "execution_count": 109,
   "metadata": {},
   "outputs": [
    {
     "data": {
      "text/plain": [
       "array([744103, 791110, 517507, 533001, 520008, 515001, 522004, 516002,\n",
       "       530002, 781032, 786001, 785001, 788014, 781301, 784010, 800007,\n",
       "       800014, 800001, 846003, 842004, 801507, 160012, 160047, 160036,\n",
       "       492099, 494001, 492001, 396230, 110029, 110001, 110054, 110070,\n",
       "       110010, 110002, 110085, 110016, 110076, 110017, 110060, 110075,\n",
       "       110018, 110005, 380016, 361008, 395001, 364001, 390001, 360001,\n",
       "       380006, 380060, 395010, 403202, 124514, 131305, 121012, 125001,\n",
       "       132001, 122001, 122015, 122016, 171001, 176001, 173204, 180001,\n",
       "       182101, 190011, 190010, 831020, 834009, 826005, 573201, 570001,\n",
       "       577201, 560007, 560002, 560011, 585101, 560029, 583104, 575001,\n",
       "       580022, 590010, 560001, 560018, 560103, 560066, 560076, 688005,\n",
       "       695011, 673008, 680596, 695014, 695024, 686019, 670103, 671316,\n",
       "       682036, 673016, 194101, 411021, 400012, 400034, 411040, 411001,\n",
       "       440018, 400008, 431004, 413003, 424001, 416410, 441108, 440006,\n",
       "       410210, 444001, 411007, 400605, 400703, 400053, 400070, 400701,\n",
       "       400062, 411004, 400604, 400072, 411038, 400092, 400080, 400016,\n",
       "       400064, 411033, 462026, 482003, 452001, 462001, 462038, 474009,\n",
       "       462022, 474002, 470001, 462030, 795004, 793018, 796005, 751023,\n",
       "       751019, 753001, 760004, 769011, 751005, 605006, 143001, 147001,\n",
       "       151203, 141001, 302004, 342003, 326001, 313001, 334001, 342005,\n",
       "       305001, 324010, 302022, 737101, 600032, 600003, 625531, 627011,\n",
       "       610004, 636030, 641018, 605601, 625020, 620001, 638053, 636701,\n",
       "       632011, 600086, 600077, 629201, 632004, 600006, 600014, 600116,\n",
       "       641002, 600113, 600037, 600089, 641004, 500003, 500095, 500016,\n",
       "       500082, 500029, 500007, 500039, 500096, 500051, 500011, 501301,\n",
       "       500019, 500090, 500034, 799006, 226003, 221005, 202002, 226002,\n",
       "       250002, 226014, 206130, 273013, 284001, 211002, 226010, 282002,\n",
       "       201310, 208002, 201309, 226020, 201304, 263129, 249203, 248001,\n",
       "       700010, 700020, 721101, 734012, 700073, 732101, 700027, 700054,\n",
       "       700160, 700094, 700098, 700156])"
      ]
     },
     "execution_count": 109,
     "metadata": {},
     "output_type": "execute_result"
    }
   ],
   "source": [
    "t['pincode'].unique() # 236 pin codes "
   ]
  },
  {
   "cell_type": "code",
   "execution_count": 112,
   "metadata": {},
   "outputs": [
    {
     "data": {
      "text/plain": [
       "array(['Government Laboratory', 'Collection Site', 'Private Laboratory'],\n",
       "      dtype=object)"
      ]
     },
     "execution_count": 112,
     "metadata": {},
     "output_type": "execute_result"
    }
   ],
   "source": [
    "t['type'].unique()"
   ]
  },
  {
   "cell_type": "code",
   "execution_count": 115,
   "metadata": {},
   "outputs": [
    {
     "data": {
      "text/plain": [
       "<matplotlib.axes._subplots.AxesSubplot at 0x7fdfe0dd6910>"
      ]
     },
     "execution_count": 115,
     "metadata": {},
     "output_type": "execute_result"
    },
    {
     "data": {
      "image/png": "[encoded data removed]",
      "text/plain": [
       "<Figure size 720x720 with 1 Axes>"
      ]
     },
     "metadata": {
      "needs_background": "light"
     },
     "output_type": "display_data"
    }
   ],
   "source": [
    "import matplotlib.pyplot as plt\n",
    "plt.figure(figsize=(10,10))\n",
    "sns.countplot(x = 'type', data = t)"
   ]
  },
  {
   "cell_type": "code",
   "execution_count": 120,
   "metadata": {},
   "outputs": [
    {
     "data": {
      "text/plain": [
       "182"
      ]
     },
     "execution_count": 120,
     "metadata": {},
     "output_type": "execute_result"
    }
   ],
   "source": [
    "list(t['type'].values == 'Government Laboratory').count(True)"
   ]
  },
  {
   "cell_type": "code",
   "execution_count": 121,
   "metadata": {},
   "outputs": [
    {
     "data": {
      "text/plain": [
       "82"
      ]
     },
     "execution_count": 121,
     "metadata": {},
     "output_type": "execute_result"
    }
   ],
   "source": [
    "list(t['type'].values == 'Private Laboratory').count(True)"
   ]
  },
  {
   "cell_type": "code",
   "execution_count": 122,
   "metadata": {},
   "outputs": [
    {
     "data": {
      "text/plain": [
       "3"
      ]
     },
     "execution_count": 122,
     "metadata": {},
     "output_type": "execute_result"
    }
   ],
   "source": [
    "list(t['type'].values == 'Collection Site').count(True)"
   ]
  },
  {
   "cell_type": "code",
   "execution_count": 126,
   "metadata": {},
   "outputs": [],
   "source": [
    "t = pd.read_csv('ICMR.csv', index_col= 'type')"
   ]
  },
  {
   "cell_type": "code",
   "execution_count": 128,
   "metadata": {},
   "outputs": [
    {
     "data": {
      "text/plain": [
       "82"
      ]
     },
     "execution_count": 128,
     "metadata": {},
     "output_type": "execute_result"
    }
   ],
   "source": [
    "len(t['state']['Private Laboratory'])"
   ]
  },
  {
   "cell_type": "code",
   "execution_count": 129,
   "metadata": {},
   "outputs": [
    {
     "data": {
      "text/plain": [
       "182"
      ]
     },
     "execution_count": 129,
     "metadata": {},
     "output_type": "execute_result"
    }
   ],
   "source": [
    "len(t['state']['Government Laboratory'])"
   ]
  },
  {
   "cell_type": "code",
   "execution_count": 132,
   "metadata": {},
   "outputs": [],
   "source": [
    "mh = t.state['Private Laboratory'].values == 'Maharashtra'\n",
    "mh = list(mh).count(True)"
   ]
  },
  {
   "cell_type": "code",
   "execution_count": 134,
   "metadata": {},
   "outputs": [
    {
     "name": "stdout",
     "output_type": "stream",
     "text": [
      "No of PL in Maharashtra is =  19\n"
     ]
    }
   ],
   "source": [
    "print('No of PL in Maharashtra is = ',mh)"
   ]
  },
  {
   "cell_type": "code",
   "execution_count": 135,
   "metadata": {},
   "outputs": [],
   "source": [
    "c = pd.read_csv('covid_19_india.csv')"
   ]
  },
  {
   "cell_type": "code",
   "execution_count": 136,
   "metadata": {},
   "outputs": [
    {
     "data": {
      "text/html": [
       "<div>\n",
       "<style scoped>\n",
       "    .dataframe tbody tr th:only-of-type {\n",
       "        vertical-align: middle;\n",
       "    }\n",
       "\n",
       "    .dataframe tbody tr th {\n",
       "        vertical-align: top;\n",
       "    }\n",
       "\n",
       "    .dataframe thead th {\n",
       "        text-align: right;\n",
       "    }\n",
       "</style>\n",
       "<table border=\"1\" class=\"dataframe\">\n",
       "  <thead>\n",
       "    <tr style=\"text-align: right;\">\n",
       "      <th></th>\n",
       "      <th>Sno</th>\n",
       "      <th>Date</th>\n",
       "      <th>Time</th>\n",
       "      <th>State/UnionTerritory</th>\n",
       "      <th>ConfirmedIndianNational</th>\n",
       "      <th>ConfirmedForeignNational</th>\n",
       "      <th>Cured</th>\n",
       "      <th>Deaths</th>\n",
       "      <th>Confirmed</th>\n",
       "    </tr>\n",
       "  </thead>\n",
       "  <tbody>\n",
       "    <tr>\n",
       "      <th>0</th>\n",
       "      <td>1</td>\n",
       "      <td>30/01/20</td>\n",
       "      <td>6:00 PM</td>\n",
       "      <td>Kerala</td>\n",
       "      <td>1</td>\n",
       "      <td>0</td>\n",
       "      <td>0</td>\n",
       "      <td>0</td>\n",
       "      <td>1</td>\n",
       "    </tr>\n",
       "    <tr>\n",
       "      <th>1</th>\n",
       "      <td>2</td>\n",
       "      <td>31/01/20</td>\n",
       "      <td>6:00 PM</td>\n",
       "      <td>Kerala</td>\n",
       "      <td>1</td>\n",
       "      <td>0</td>\n",
       "      <td>0</td>\n",
       "      <td>0</td>\n",
       "      <td>1</td>\n",
       "    </tr>\n",
       "    <tr>\n",
       "      <th>2</th>\n",
       "      <td>3</td>\n",
       "      <td>01/02/20</td>\n",
       "      <td>6:00 PM</td>\n",
       "      <td>Kerala</td>\n",
       "      <td>2</td>\n",
       "      <td>0</td>\n",
       "      <td>0</td>\n",
       "      <td>0</td>\n",
       "      <td>2</td>\n",
       "    </tr>\n",
       "    <tr>\n",
       "      <th>3</th>\n",
       "      <td>4</td>\n",
       "      <td>02/02/20</td>\n",
       "      <td>6:00 PM</td>\n",
       "      <td>Kerala</td>\n",
       "      <td>3</td>\n",
       "      <td>0</td>\n",
       "      <td>0</td>\n",
       "      <td>0</td>\n",
       "      <td>3</td>\n",
       "    </tr>\n",
       "    <tr>\n",
       "      <th>4</th>\n",
       "      <td>5</td>\n",
       "      <td>03/02/20</td>\n",
       "      <td>6:00 PM</td>\n",
       "      <td>Kerala</td>\n",
       "      <td>3</td>\n",
       "      <td>0</td>\n",
       "      <td>0</td>\n",
       "      <td>0</td>\n",
       "      <td>3</td>\n",
       "    </tr>\n",
       "  </tbody>\n",
       "</table>\n",
       "</div>"
      ],
      "text/plain": [
       "   Sno      Date     Time State/UnionTerritory ConfirmedIndianNational  \\\n",
       "0    1  30/01/20  6:00 PM               Kerala                       1   \n",
       "1    2  31/01/20  6:00 PM               Kerala                       1   \n",
       "2    3  01/02/20  6:00 PM               Kerala                       2   \n",
       "3    4  02/02/20  6:00 PM               Kerala                       3   \n",
       "4    5  03/02/20  6:00 PM               Kerala                       3   \n",
       "\n",
       "  ConfirmedForeignNational  Cured  Deaths  Confirmed  \n",
       "0                        0      0       0          1  \n",
       "1                        0      0       0          1  \n",
       "2                        0      0       0          2  \n",
       "3                        0      0       0          3  \n",
       "4                        0      0       0          3  "
      ]
     },
     "execution_count": 136,
     "metadata": {},
     "output_type": "execute_result"
    }
   ],
   "source": [
    "c.head()"
   ]
  },
  {
   "cell_type": "code",
   "execution_count": 137,
   "metadata": {},
   "outputs": [
    {
     "name": "stdout",
     "output_type": "stream",
     "text": [
      "<class 'pandas.core.frame.DataFrame'>\n",
      "RangeIndex: 1254 entries, 0 to 1253\n",
      "Data columns (total 9 columns):\n",
      " #   Column                    Non-Null Count  Dtype \n",
      "---  ------                    --------------  ----- \n",
      " 0   Sno                       1254 non-null   int64 \n",
      " 1   Date                      1254 non-null   object\n",
      " 2   Time                      1254 non-null   object\n",
      " 3   State/UnionTerritory      1254 non-null   object\n",
      " 4   ConfirmedIndianNational   1254 non-null   object\n",
      " 5   ConfirmedForeignNational  1254 non-null   object\n",
      " 6   Cured                     1254 non-null   int64 \n",
      " 7   Deaths                    1254 non-null   int64 \n",
      " 8   Confirmed                 1254 non-null   int64 \n",
      "dtypes: int64(4), object(5)\n",
      "memory usage: 88.3+ KB\n"
     ]
    }
   ],
   "source": [
    "c.info()"
   ]
  },
  {
   "cell_type": "code",
   "execution_count": 141,
   "metadata": {},
   "outputs": [
    {
     "data": {
      "text/plain": [
       "<matplotlib.axes._subplots.AxesSubplot at 0x7fdfc4625f90>"
      ]
     },
     "execution_count": 141,
     "metadata": {},
     "output_type": "execute_result"
    },
    {
     "data": {
      "image/png": "[encoded data removed]",
      "text/plain": [
       "<Figure size 1440x720 with 1 Axes>"
      ]
     },
     "metadata": {
      "needs_background": "light"
     },
     "output_type": "display_data"
    }
   ],
   "source": [
    "plt.figure(figsize= (20,10))\n",
    "sns.scatterplot(x = 'Cured', y = 'Deaths', hue = 'Confirmed',data = c)"
   ]
  },
  {
   "cell_type": "code",
   "execution_count": 145,
   "metadata": {},
   "outputs": [
    {
     "data": {
      "text/plain": [
       "<matplotlib.axes._subplots.AxesSubplot at 0x7fdfc8caf990>"
      ]
     },
     "execution_count": 145,
     "metadata": {},
     "output_type": "execute_result"
    },
    {
     "data": {
      "image/png": "[encoded data removed]",
      "text/plain": [
       "<Figure size 1440x720 with 1 Axes>"
      ]
     },
     "metadata": {
      "needs_background": "light"
     },
     "output_type": "display_data"
    }
   ],
   "source": [
    "plt.figure(figsize= (20,10))\n",
    "sns.scatterplot(x = 'ConfirmedIndianNational', y = 'ConfirmedForeignNational', hue = c.index.unique() ,data = c)"
   ]
  },
  {
   "cell_type": "code",
   "execution_count": 146,
   "metadata": {},
   "outputs": [],
   "source": [
    "ind = pd.read_csv('IndividualDetails.csv')"
   ]
  },
  {
   "cell_type": "code",
   "execution_count": 147,
   "metadata": {},
   "outputs": [
    {
     "data": {
      "text/html": [
       "<div>\n",
       "<style scoped>\n",
       "    .dataframe tbody tr th:only-of-type {\n",
       "        vertical-align: middle;\n",
       "    }\n",
       "\n",
       "    .dataframe tbody tr th {\n",
       "        vertical-align: top;\n",
       "    }\n",
       "\n",
       "    .dataframe thead th {\n",
       "        text-align: right;\n",
       "    }\n",
       "</style>\n",
       "<table border=\"1\" class=\"dataframe\">\n",
       "  <thead>\n",
       "    <tr style=\"text-align: right;\">\n",
       "      <th></th>\n",
       "      <th>id</th>\n",
       "      <th>government_id</th>\n",
       "      <th>diagnosed_date</th>\n",
       "      <th>age</th>\n",
       "      <th>gender</th>\n",
       "      <th>detected_city</th>\n",
       "      <th>detected_district</th>\n",
       "      <th>detected_state</th>\n",
       "      <th>nationality</th>\n",
       "      <th>status_change_date</th>\n",
       "      <th>notes</th>\n",
       "    </tr>\n",
       "  </thead>\n",
       "  <tbody>\n",
       "    <tr>\n",
       "      <th>0</th>\n",
       "      <td>0</td>\n",
       "      <td>KL-TS-P1</td>\n",
       "      <td>30/01/2020</td>\n",
       "      <td>20</td>\n",
       "      <td>F</td>\n",
       "      <td>Thrissur</td>\n",
       "      <td>Thrissur</td>\n",
       "      <td>Kerala</td>\n",
       "      <td>India</td>\n",
       "      <td>14/02/2020</td>\n",
       "      <td>Travelled from Wuhan</td>\n",
       "    </tr>\n",
       "    <tr>\n",
       "      <th>1</th>\n",
       "      <td>1</td>\n",
       "      <td>KL-AL-P1</td>\n",
       "      <td>02/02/2020</td>\n",
       "      <td>NaN</td>\n",
       "      <td>NaN</td>\n",
       "      <td>Alappuzha</td>\n",
       "      <td>Alappuzha</td>\n",
       "      <td>Kerala</td>\n",
       "      <td>India</td>\n",
       "      <td>14/02/2020</td>\n",
       "      <td>Travelled from Wuhan</td>\n",
       "    </tr>\n",
       "    <tr>\n",
       "      <th>2</th>\n",
       "      <td>2</td>\n",
       "      <td>KL-KS-P1</td>\n",
       "      <td>03/02/2020</td>\n",
       "      <td>NaN</td>\n",
       "      <td>NaN</td>\n",
       "      <td>Kasaragod</td>\n",
       "      <td>Kasaragod</td>\n",
       "      <td>Kerala</td>\n",
       "      <td>India</td>\n",
       "      <td>14/02/2020</td>\n",
       "      <td>Travelled from Wuhan</td>\n",
       "    </tr>\n",
       "    <tr>\n",
       "      <th>3</th>\n",
       "      <td>3</td>\n",
       "      <td>DL-P1</td>\n",
       "      <td>02/03/2020</td>\n",
       "      <td>45</td>\n",
       "      <td>M</td>\n",
       "      <td>East Delhi (Mayur Vihar)</td>\n",
       "      <td>East Delhi</td>\n",
       "      <td>Delhi</td>\n",
       "      <td>India</td>\n",
       "      <td>15/03/2020</td>\n",
       "      <td>Travelled from Austria, Italy</td>\n",
       "    </tr>\n",
       "    <tr>\n",
       "      <th>4</th>\n",
       "      <td>4</td>\n",
       "      <td>TS-P1</td>\n",
       "      <td>02/03/2020</td>\n",
       "      <td>24</td>\n",
       "      <td>M</td>\n",
       "      <td>Hyderabad</td>\n",
       "      <td>Hyderabad</td>\n",
       "      <td>Telangana</td>\n",
       "      <td>India</td>\n",
       "      <td>02/03/2020</td>\n",
       "      <td>Travelled from Dubai to Bangalore on 20th Feb,...</td>\n",
       "    </tr>\n",
       "  </tbody>\n",
       "</table>\n",
       "</div>"
      ],
      "text/plain": [
       "   id government_id diagnosed_date  age gender             detected_city  \\\n",
       "0   0      KL-TS-P1     30/01/2020   20      F                  Thrissur   \n",
       "1   1      KL-AL-P1     02/02/2020  NaN    NaN                 Alappuzha   \n",
       "2   2      KL-KS-P1     03/02/2020  NaN    NaN                 Kasaragod   \n",
       "3   3         DL-P1     02/03/2020   45      M  East Delhi (Mayur Vihar)   \n",
       "4   4         TS-P1     02/03/2020   24      M                 Hyderabad   \n",
       "\n",
       "  detected_district detected_state nationality status_change_date  \\\n",
       "0          Thrissur         Kerala       India         14/02/2020   \n",
       "1         Alappuzha         Kerala       India         14/02/2020   \n",
       "2         Kasaragod         Kerala       India         14/02/2020   \n",
       "3        East Delhi          Delhi       India         15/03/2020   \n",
       "4         Hyderabad      Telangana       India         02/03/2020   \n",
       "\n",
       "                                               notes  \n",
       "0                               Travelled from Wuhan  \n",
       "1                               Travelled from Wuhan  \n",
       "2                               Travelled from Wuhan  \n",
       "3                      Travelled from Austria, Italy  \n",
       "4  Travelled from Dubai to Bangalore on 20th Feb,...  "
      ]
     },
     "execution_count": 147,
     "metadata": {},
     "output_type": "execute_result"
    }
   ],
   "source": [
    "ind.head()"
   ]
  },
  {
   "cell_type": "code",
   "execution_count": 148,
   "metadata": {},
   "outputs": [
    {
     "name": "stdout",
     "output_type": "stream",
     "text": [
      "<class 'pandas.core.frame.DataFrame'>\n",
      "RangeIndex: 18032 entries, 0 to 18031\n",
      "Data columns (total 11 columns):\n",
      " #   Column              Non-Null Count  Dtype \n",
      "---  ------              --------------  ----- \n",
      " 0   id                  18032 non-null  int64 \n",
      " 1   government_id       2518 non-null   object\n",
      " 2   diagnosed_date      18032 non-null  object\n",
      " 3   age                 1700 non-null   object\n",
      " 4   gender              3884 non-null   object\n",
      " 5   detected_city       2163 non-null   object\n",
      " 6   detected_district   14674 non-null  object\n",
      " 7   detected_state      18032 non-null  object\n",
      " 8   nationality         1608 non-null   object\n",
      " 9   status_change_date  17922 non-null  object\n",
      " 10  notes               16714 non-null  object\n",
      "dtypes: int64(1), object(10)\n",
      "memory usage: 1.5+ MB\n"
     ]
    }
   ],
   "source": [
    "ind.info()"
   ]
  },
  {
   "cell_type": "code",
   "execution_count": 150,
   "metadata": {},
   "outputs": [
    {
     "data": {
      "text/plain": [
       "id                    18032\n",
       "government_id          2518\n",
       "diagnosed_date        18032\n",
       "age                    1700\n",
       "gender                 3884\n",
       "detected_city          2163\n",
       "detected_district     14674\n",
       "detected_state        18032\n",
       "nationality            1608\n",
       "status_change_date    17922\n",
       "notes                 16714\n",
       "dtype: int64"
      ]
     },
     "execution_count": 150,
     "metadata": {},
     "output_type": "execute_result"
    }
   ],
   "source": [
    "ind.notnull().sum()"
   ]
  },
  {
   "cell_type": "code",
   "execution_count": 158,
   "metadata": {},
   "outputs": [],
   "source": [
    "gen = pd.get_dummies(ind['gender'], drop_first= True)[:5]"
   ]
  },
  {
   "cell_type": "code",
   "execution_count": 165,
   "metadata": {},
   "outputs": [],
   "source": [
    "ind = pd.concat([ind,gen])"
   ]
  },
  {
   "cell_type": "code",
   "execution_count": 166,
   "metadata": {},
   "outputs": [
    {
     "data": {
      "text/html": [
       "<div>\n",
       "<style scoped>\n",
       "    .dataframe tbody tr th:only-of-type {\n",
       "        vertical-align: middle;\n",
       "    }\n",
       "\n",
       "    .dataframe tbody tr th {\n",
       "        vertical-align: top;\n",
       "    }\n",
       "\n",
       "    .dataframe thead th {\n",
       "        text-align: right;\n",
       "    }\n",
       "</style>\n",
       "<table border=\"1\" class=\"dataframe\">\n",
       "  <thead>\n",
       "    <tr style=\"text-align: right;\">\n",
       "      <th></th>\n",
       "      <th>id</th>\n",
       "      <th>government_id</th>\n",
       "      <th>diagnosed_date</th>\n",
       "      <th>age</th>\n",
       "      <th>gender</th>\n",
       "      <th>detected_city</th>\n",
       "      <th>detected_district</th>\n",
       "      <th>detected_state</th>\n",
       "      <th>nationality</th>\n",
       "      <th>status_change_date</th>\n",
       "      <th>notes</th>\n",
       "      <th>M</th>\n",
       "    </tr>\n",
       "  </thead>\n",
       "  <tbody>\n",
       "    <tr>\n",
       "      <th>0</th>\n",
       "      <td>0.0</td>\n",
       "      <td>KL-TS-P1</td>\n",
       "      <td>30/01/2020</td>\n",
       "      <td>20</td>\n",
       "      <td>F</td>\n",
       "      <td>Thrissur</td>\n",
       "      <td>Thrissur</td>\n",
       "      <td>Kerala</td>\n",
       "      <td>India</td>\n",
       "      <td>14/02/2020</td>\n",
       "      <td>Travelled from Wuhan</td>\n",
       "      <td>NaN</td>\n",
       "    </tr>\n",
       "    <tr>\n",
       "      <th>1</th>\n",
       "      <td>1.0</td>\n",
       "      <td>KL-AL-P1</td>\n",
       "      <td>02/02/2020</td>\n",
       "      <td>NaN</td>\n",
       "      <td>NaN</td>\n",
       "      <td>Alappuzha</td>\n",
       "      <td>Alappuzha</td>\n",
       "      <td>Kerala</td>\n",
       "      <td>India</td>\n",
       "      <td>14/02/2020</td>\n",
       "      <td>Travelled from Wuhan</td>\n",
       "      <td>NaN</td>\n",
       "    </tr>\n",
       "    <tr>\n",
       "      <th>2</th>\n",
       "      <td>2.0</td>\n",
       "      <td>KL-KS-P1</td>\n",
       "      <td>03/02/2020</td>\n",
       "      <td>NaN</td>\n",
       "      <td>NaN</td>\n",
       "      <td>Kasaragod</td>\n",
       "      <td>Kasaragod</td>\n",
       "      <td>Kerala</td>\n",
       "      <td>India</td>\n",
       "      <td>14/02/2020</td>\n",
       "      <td>Travelled from Wuhan</td>\n",
       "      <td>NaN</td>\n",
       "    </tr>\n",
       "    <tr>\n",
       "      <th>3</th>\n",
       "      <td>3.0</td>\n",
       "      <td>DL-P1</td>\n",
       "      <td>02/03/2020</td>\n",
       "      <td>45</td>\n",
       "      <td>M</td>\n",
       "      <td>East Delhi (Mayur Vihar)</td>\n",
       "      <td>East Delhi</td>\n",
       "      <td>Delhi</td>\n",
       "      <td>India</td>\n",
       "      <td>15/03/2020</td>\n",
       "      <td>Travelled from Austria, Italy</td>\n",
       "      <td>NaN</td>\n",
       "    </tr>\n",
       "    <tr>\n",
       "      <th>4</th>\n",
       "      <td>4.0</td>\n",
       "      <td>TS-P1</td>\n",
       "      <td>02/03/2020</td>\n",
       "      <td>24</td>\n",
       "      <td>M</td>\n",
       "      <td>Hyderabad</td>\n",
       "      <td>Hyderabad</td>\n",
       "      <td>Telangana</td>\n",
       "      <td>India</td>\n",
       "      <td>02/03/2020</td>\n",
       "      <td>Travelled from Dubai to Bangalore on 20th Feb,...</td>\n",
       "      <td>NaN</td>\n",
       "    </tr>\n",
       "    <tr>\n",
       "      <th>...</th>\n",
       "      <td>...</td>\n",
       "      <td>...</td>\n",
       "      <td>...</td>\n",
       "      <td>...</td>\n",
       "      <td>...</td>\n",
       "      <td>...</td>\n",
       "      <td>...</td>\n",
       "      <td>...</td>\n",
       "      <td>...</td>\n",
       "      <td>...</td>\n",
       "      <td>...</td>\n",
       "      <td>...</td>\n",
       "    </tr>\n",
       "    <tr>\n",
       "      <th>0</th>\n",
       "      <td>NaN</td>\n",
       "      <td>NaN</td>\n",
       "      <td>NaN</td>\n",
       "      <td>NaN</td>\n",
       "      <td>NaN</td>\n",
       "      <td>NaN</td>\n",
       "      <td>NaN</td>\n",
       "      <td>NaN</td>\n",
       "      <td>NaN</td>\n",
       "      <td>NaN</td>\n",
       "      <td>NaN</td>\n",
       "      <td>0.0</td>\n",
       "    </tr>\n",
       "    <tr>\n",
       "      <th>1</th>\n",
       "      <td>NaN</td>\n",
       "      <td>NaN</td>\n",
       "      <td>NaN</td>\n",
       "      <td>NaN</td>\n",
       "      <td>NaN</td>\n",
       "      <td>NaN</td>\n",
       "      <td>NaN</td>\n",
       "      <td>NaN</td>\n",
       "      <td>NaN</td>\n",
       "      <td>NaN</td>\n",
       "      <td>NaN</td>\n",
       "      <td>0.0</td>\n",
       "    </tr>\n",
       "    <tr>\n",
       "      <th>2</th>\n",
       "      <td>NaN</td>\n",
       "      <td>NaN</td>\n",
       "      <td>NaN</td>\n",
       "      <td>NaN</td>\n",
       "      <td>NaN</td>\n",
       "      <td>NaN</td>\n",
       "      <td>NaN</td>\n",
       "      <td>NaN</td>\n",
       "      <td>NaN</td>\n",
       "      <td>NaN</td>\n",
       "      <td>NaN</td>\n",
       "      <td>0.0</td>\n",
       "    </tr>\n",
       "    <tr>\n",
       "      <th>3</th>\n",
       "      <td>NaN</td>\n",
       "      <td>NaN</td>\n",
       "      <td>NaN</td>\n",
       "      <td>NaN</td>\n",
       "      <td>NaN</td>\n",
       "      <td>NaN</td>\n",
       "      <td>NaN</td>\n",
       "      <td>NaN</td>\n",
       "      <td>NaN</td>\n",
       "      <td>NaN</td>\n",
       "      <td>NaN</td>\n",
       "      <td>1.0</td>\n",
       "    </tr>\n",
       "    <tr>\n",
       "      <th>4</th>\n",
       "      <td>NaN</td>\n",
       "      <td>NaN</td>\n",
       "      <td>NaN</td>\n",
       "      <td>NaN</td>\n",
       "      <td>NaN</td>\n",
       "      <td>NaN</td>\n",
       "      <td>NaN</td>\n",
       "      <td>NaN</td>\n",
       "      <td>NaN</td>\n",
       "      <td>NaN</td>\n",
       "      <td>NaN</td>\n",
       "      <td>1.0</td>\n",
       "    </tr>\n",
       "  </tbody>\n",
       "</table>\n",
       "<p>18037 rows × 12 columns</p>\n",
       "</div>"
      ],
      "text/plain": [
       "     id government_id diagnosed_date  age gender             detected_city  \\\n",
       "0   0.0      KL-TS-P1     30/01/2020   20      F                  Thrissur   \n",
       "1   1.0      KL-AL-P1     02/02/2020  NaN    NaN                 Alappuzha   \n",
       "2   2.0      KL-KS-P1     03/02/2020  NaN    NaN                 Kasaragod   \n",
       "3   3.0         DL-P1     02/03/2020   45      M  East Delhi (Mayur Vihar)   \n",
       "4   4.0         TS-P1     02/03/2020   24      M                 Hyderabad   \n",
       "..  ...           ...            ...  ...    ...                       ...   \n",
       "0   NaN           NaN            NaN  NaN    NaN                       NaN   \n",
       "1   NaN           NaN            NaN  NaN    NaN                       NaN   \n",
       "2   NaN           NaN            NaN  NaN    NaN                       NaN   \n",
       "3   NaN           NaN            NaN  NaN    NaN                       NaN   \n",
       "4   NaN           NaN            NaN  NaN    NaN                       NaN   \n",
       "\n",
       "   detected_district detected_state nationality status_change_date  \\\n",
       "0           Thrissur         Kerala       India         14/02/2020   \n",
       "1          Alappuzha         Kerala       India         14/02/2020   \n",
       "2          Kasaragod         Kerala       India         14/02/2020   \n",
       "3         East Delhi          Delhi       India         15/03/2020   \n",
       "4          Hyderabad      Telangana       India         02/03/2020   \n",
       "..               ...            ...         ...                ...   \n",
       "0                NaN            NaN         NaN                NaN   \n",
       "1                NaN            NaN         NaN                NaN   \n",
       "2                NaN            NaN         NaN                NaN   \n",
       "3                NaN            NaN         NaN                NaN   \n",
       "4                NaN            NaN         NaN                NaN   \n",
       "\n",
       "                                                notes    M  \n",
       "0                                Travelled from Wuhan  NaN  \n",
       "1                                Travelled from Wuhan  NaN  \n",
       "2                                Travelled from Wuhan  NaN  \n",
       "3                       Travelled from Austria, Italy  NaN  \n",
       "4   Travelled from Dubai to Bangalore on 20th Feb,...  NaN  \n",
       "..                                                ...  ...  \n",
       "0                                                 NaN  0.0  \n",
       "1                                                 NaN  0.0  \n",
       "2                                                 NaN  0.0  \n",
       "3                                                 NaN  1.0  \n",
       "4                                                 NaN  1.0  \n",
       "\n",
       "[18037 rows x 12 columns]"
      ]
     },
     "execution_count": 166,
     "metadata": {},
     "output_type": "execute_result"
    }
   ],
   "source": [
    "ind"
   ]
  },
  {
   "cell_type": "markdown",
   "metadata": {},
   "source": [
    "## IPL Data Set "
   ]
  },
  {
   "cell_type": "code",
   "execution_count": 172,
   "metadata": {},
   "outputs": [],
   "source": [
    "ipl = pd.read_csv('IPL 2008_17.csv', index_col='season')"
   ]
  },
  {
   "cell_type": "code",
   "execution_count": 173,
   "metadata": {},
   "outputs": [
    {
     "data": {
      "text/html": [
       "<div>\n",
       "<style scoped>\n",
       "    .dataframe tbody tr th:only-of-type {\n",
       "        vertical-align: middle;\n",
       "    }\n",
       "\n",
       "    .dataframe tbody tr th {\n",
       "        vertical-align: top;\n",
       "    }\n",
       "\n",
       "    .dataframe thead th {\n",
       "        text-align: right;\n",
       "    }\n",
       "</style>\n",
       "<table border=\"1\" class=\"dataframe\">\n",
       "  <thead>\n",
       "    <tr style=\"text-align: right;\">\n",
       "      <th></th>\n",
       "      <th>sno</th>\n",
       "      <th>city</th>\n",
       "      <th>date</th>\n",
       "      <th>team1</th>\n",
       "      <th>team2</th>\n",
       "      <th>toss_winner</th>\n",
       "      <th>toss_decision</th>\n",
       "      <th>result</th>\n",
       "      <th>dl_applied</th>\n",
       "      <th>winner</th>\n",
       "      <th>win_by_runs</th>\n",
       "      <th>win_by_wickets</th>\n",
       "      <th>Man_of_Match</th>\n",
       "      <th>venue</th>\n",
       "      <th>F_umpire</th>\n",
       "      <th>S_Umpire</th>\n",
       "      <th>Unnamed: 17</th>\n",
       "    </tr>\n",
       "    <tr>\n",
       "      <th>season</th>\n",
       "      <th></th>\n",
       "      <th></th>\n",
       "      <th></th>\n",
       "      <th></th>\n",
       "      <th></th>\n",
       "      <th></th>\n",
       "      <th></th>\n",
       "      <th></th>\n",
       "      <th></th>\n",
       "      <th></th>\n",
       "      <th></th>\n",
       "      <th></th>\n",
       "      <th></th>\n",
       "      <th></th>\n",
       "      <th></th>\n",
       "      <th></th>\n",
       "      <th></th>\n",
       "    </tr>\n",
       "  </thead>\n",
       "  <tbody>\n",
       "    <tr>\n",
       "      <th>2008</th>\n",
       "      <td>1</td>\n",
       "      <td>Bangalore</td>\n",
       "      <td>18/04/08</td>\n",
       "      <td>KKR</td>\n",
       "      <td>RCB</td>\n",
       "      <td>RCB</td>\n",
       "      <td>field</td>\n",
       "      <td>normal</td>\n",
       "      <td>N</td>\n",
       "      <td>KKR</td>\n",
       "      <td>140</td>\n",
       "      <td>0</td>\n",
       "      <td>BB McCullum</td>\n",
       "      <td>M Chinnaswamy Stadium</td>\n",
       "      <td>Asad Rauf</td>\n",
       "      <td>RE Koertzen</td>\n",
       "      <td>NaN</td>\n",
       "    </tr>\n",
       "    <tr>\n",
       "      <th>2008</th>\n",
       "      <td>2</td>\n",
       "      <td>Chandigarh</td>\n",
       "      <td>19/04/08</td>\n",
       "      <td>CSK</td>\n",
       "      <td>KXIP</td>\n",
       "      <td>CSK</td>\n",
       "      <td>bat</td>\n",
       "      <td>normal</td>\n",
       "      <td>N</td>\n",
       "      <td>CSK</td>\n",
       "      <td>33</td>\n",
       "      <td>0</td>\n",
       "      <td>MEK Hussey</td>\n",
       "      <td>Punjab Cricket Association Stadium, Mohali</td>\n",
       "      <td>MR Benson</td>\n",
       "      <td>SL Shastri</td>\n",
       "      <td>NaN</td>\n",
       "    </tr>\n",
       "    <tr>\n",
       "      <th>2008</th>\n",
       "      <td>3</td>\n",
       "      <td>Delhi</td>\n",
       "      <td>19/04/08</td>\n",
       "      <td>RR</td>\n",
       "      <td>DD</td>\n",
       "      <td>RR</td>\n",
       "      <td>bat</td>\n",
       "      <td>normal</td>\n",
       "      <td>N</td>\n",
       "      <td>DD</td>\n",
       "      <td>0</td>\n",
       "      <td>9</td>\n",
       "      <td>MF Maharoof</td>\n",
       "      <td>Feroz Shah Kotla</td>\n",
       "      <td>Aleem Dar</td>\n",
       "      <td>GA Pratapkumar</td>\n",
       "      <td>NaN</td>\n",
       "    </tr>\n",
       "    <tr>\n",
       "      <th>2008</th>\n",
       "      <td>4</td>\n",
       "      <td>Mumbai</td>\n",
       "      <td>20/04/08</td>\n",
       "      <td>MI</td>\n",
       "      <td>RCB</td>\n",
       "      <td>MI</td>\n",
       "      <td>bat</td>\n",
       "      <td>normal</td>\n",
       "      <td>N</td>\n",
       "      <td>RCB</td>\n",
       "      <td>0</td>\n",
       "      <td>5</td>\n",
       "      <td>MV Boucher</td>\n",
       "      <td>Wankhede Stadium</td>\n",
       "      <td>SJ Davis</td>\n",
       "      <td>DJ Harper</td>\n",
       "      <td>NaN</td>\n",
       "    </tr>\n",
       "    <tr>\n",
       "      <th>2008</th>\n",
       "      <td>5</td>\n",
       "      <td>Kolkata</td>\n",
       "      <td>20/04/08</td>\n",
       "      <td>DC</td>\n",
       "      <td>KKR</td>\n",
       "      <td>DC</td>\n",
       "      <td>bat</td>\n",
       "      <td>normal</td>\n",
       "      <td>N</td>\n",
       "      <td>KKR</td>\n",
       "      <td>0</td>\n",
       "      <td>5</td>\n",
       "      <td>DJ Hussey</td>\n",
       "      <td>Eden Gardens</td>\n",
       "      <td>BF Bowden</td>\n",
       "      <td>K Hariharan</td>\n",
       "      <td>NaN</td>\n",
       "    </tr>\n",
       "  </tbody>\n",
       "</table>\n",
       "</div>"
      ],
      "text/plain": [
       "        sno        city      date team1 team2 toss_winner toss_decision  \\\n",
       "season                                                                    \n",
       "2008      1   Bangalore  18/04/08   KKR   RCB         RCB         field   \n",
       "2008      2  Chandigarh  19/04/08   CSK  KXIP         CSK           bat   \n",
       "2008      3       Delhi  19/04/08    RR    DD          RR           bat   \n",
       "2008      4      Mumbai  20/04/08    MI   RCB          MI           bat   \n",
       "2008      5     Kolkata  20/04/08    DC   KKR          DC           bat   \n",
       "\n",
       "        result dl_applied winner  win_by_runs  win_by_wickets Man_of_Match  \\\n",
       "season                                                                       \n",
       "2008    normal          N    KKR          140               0  BB McCullum   \n",
       "2008    normal          N    CSK           33               0   MEK Hussey   \n",
       "2008    normal          N     DD            0               9  MF Maharoof   \n",
       "2008    normal          N    RCB            0               5   MV Boucher   \n",
       "2008    normal          N    KKR            0               5    DJ Hussey   \n",
       "\n",
       "                                             venue   F_umpire        S_Umpire  \\\n",
       "season                                                                          \n",
       "2008                         M Chinnaswamy Stadium  Asad Rauf     RE Koertzen   \n",
       "2008    Punjab Cricket Association Stadium, Mohali  MR Benson      SL Shastri   \n",
       "2008                              Feroz Shah Kotla  Aleem Dar  GA Pratapkumar   \n",
       "2008                              Wankhede Stadium   SJ Davis       DJ Harper   \n",
       "2008                                  Eden Gardens  BF Bowden     K Hariharan   \n",
       "\n",
       "        Unnamed: 17  \n",
       "season               \n",
       "2008            NaN  \n",
       "2008            NaN  \n",
       "2008            NaN  \n",
       "2008            NaN  \n",
       "2008            NaN  "
      ]
     },
     "execution_count": 173,
     "metadata": {},
     "output_type": "execute_result"
    }
   ],
   "source": [
    "ipl.head()"
   ]
  },
  {
   "cell_type": "code",
   "execution_count": 174,
   "metadata": {},
   "outputs": [
    {
     "data": {
      "text/plain": [
       "(636, 17)"
      ]
     },
     "execution_count": 174,
     "metadata": {},
     "output_type": "execute_result"
    }
   ],
   "source": [
    "ipl.shape"
   ]
  },
  {
   "cell_type": "code",
   "execution_count": 177,
   "metadata": {},
   "outputs": [
    {
     "data": {
      "text/plain": [
       "Int64Index([2008, 2009, 2010, 2011, 2012, 2013, 2014, 2015, 2016, 2017], dtype='int64', name='season')"
      ]
     },
     "execution_count": 177,
     "metadata": {},
     "output_type": "execute_result"
    }
   ],
   "source": [
    "ipl.index.unique()"
   ]
  },
  {
   "cell_type": "markdown",
   "metadata": {},
   "source": [
    "### Team who won by most no of wickets in past 10 years"
   ]
  },
  {
   "cell_type": "code",
   "execution_count": 182,
   "metadata": {},
   "outputs": [
    {
     "data": {
      "text/plain": [
       "13"
      ]
     },
     "execution_count": 182,
     "metadata": {},
     "output_type": "execute_result"
    }
   ],
   "source": [
    "ipl = pd.read_csv('IPL 2008_17.csv', index_col= 'sno')\n",
    "ipl['win_by_wickets'].idxmax()"
   ]
  },
  {
   "cell_type": "code",
   "execution_count": 183,
   "metadata": {},
   "outputs": [
    {
     "data": {
      "text/plain": [
       "season                                  2008\n",
       "city                                  Mumbai\n",
       "date                                27/04/08\n",
       "team1                                     MI\n",
       "team2                                     DC\n",
       "toss_winner                               DC\n",
       "toss_decision                          field\n",
       "result                                normal\n",
       "dl_applied                                 N\n",
       "winner                                    DC\n",
       "win_by_runs                                0\n",
       "win_by_wickets                            10\n",
       "Man_of_Match                    AC Gilchrist\n",
       "venue             Dr DY Patil Sports Academy\n",
       "F_umpire                           Asad Rauf\n",
       "S_Umpire                          SL Shastri\n",
       "Unnamed: 17                              NaN\n",
       "Name: 13, dtype: object"
      ]
     },
     "execution_count": 183,
     "metadata": {},
     "output_type": "execute_result"
    }
   ],
   "source": [
    "ipl.iloc[12]"
   ]
  },
  {
   "cell_type": "markdown",
   "metadata": {},
   "source": [
    "### Which season has most number of matches ?"
   ]
  },
  {
   "cell_type": "code",
   "execution_count": 186,
   "metadata": {},
   "outputs": [
    {
     "data": {
      "image/png": "[encoded data removed]",
      "text/plain": [
       "<Figure size 720x360 with 1 Axes>"
      ]
     },
     "metadata": {
      "needs_background": "light"
     },
     "output_type": "display_data"
    }
   ],
   "source": [
    "plt.figure(figsize=(10,5))\n",
    "sns.countplot(x = 'season', data = ipl)\n",
    "plt.savefig('most_matches.jpg')"
   ]
  },
  {
   "cell_type": "code",
   "execution_count": 187,
   "metadata": {},
   "outputs": [
    {
     "data": {
      "text/plain": [
       "array(['KKR', 'CSK', 'RR', 'MI', 'DC', 'KXIP', 'RCB', 'DD', 'KTK', 'PW',\n",
       "       'SH', 'RPS', 'GL'], dtype=object)"
      ]
     },
     "execution_count": 187,
     "metadata": {},
     "output_type": "execute_result"
    }
   ],
   "source": [
    "ipl['team1'].unique()"
   ]
  },
  {
   "cell_type": "markdown",
   "metadata": {},
   "source": [
    "### Best Team till 2018 "
   ]
  },
  {
   "cell_type": "code",
   "execution_count": 189,
   "metadata": {},
   "outputs": [
    {
     "data": {
      "image/png": "[encoded data removed]",
      "text/plain": [
       "<Figure size 1440x720 with 1 Axes>"
      ]
     },
     "metadata": {
      "needs_background": "light"
     },
     "output_type": "display_data"
    }
   ],
   "source": [
    "plt.figure(figsize=(20,10))\n",
    "data = ipl.winner.value_counts()\n",
    "sns.barplot(y = data.index, x = data, orient= 'h')\n",
    "plt.savefig('best_team_2017.jpg')"
   ]
  },
  {
   "cell_type": "code",
   "execution_count": 192,
   "metadata": {},
   "outputs": [
    {
     "data": {
      "text/plain": [
       "636"
      ]
     },
     "execution_count": 192,
     "metadata": {},
     "output_type": "execute_result"
    }
   ],
   "source": [
    "len(ipl['Man_of_Match'].values)"
   ]
  },
  {
   "cell_type": "code",
   "execution_count": 200,
   "metadata": {},
   "outputs": [
    {
     "data": {
      "image/png": "[encoded data removed]",
      "text/plain": [
       "<Figure size 1800x1440 with 1 Axes>"
      ]
     },
     "metadata": {
      "needs_background": "light"
     },
     "output_type": "display_data"
    }
   ],
   "source": [
    "top_players = ipl.Man_of_Match.value_counts()[:10]\n",
    "plt.figure(figsize = (25,20))\n",
    "plt.ylim([0,20])\n",
    "plt.title('Top Player of the Match Winners')\n",
    "sns.barplot(x = top_players.index, y = top_players, orient='v')\n",
    "plt.savefig('best_man_of_the_match.jpg')"
   ]
  }
 ],
 "metadata": {
  "kernelspec": {
   "display_name": "Python 3",
   "language": "python",
   "name": "python3"
  },
  "language_info": {
   "codemirror_mode": {
    "name": "ipython",
    "version": 3
   },
   "file_extension": ".py",
   "mimetype": "text/x-python",
   "name": "python",
   "nbconvert_exporter": "python",
   "pygments_lexer": "ipython3",
   "version": "3.7.6"
  }
 },
 "nbformat": 4,
 "nbformat_minor": 4
}
