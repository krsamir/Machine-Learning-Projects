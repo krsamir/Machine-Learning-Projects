{
 "cells": [
  {
   "cell_type": "markdown",
   "metadata": {},
   "source": [
    "# Covid-19 Data Analysis"
   ]
  },
  {
   "cell_type": "code",
   "execution_count": 1,
   "metadata": {},
   "outputs": [
    {
     "data": {
      "text/html": [
       "        <script type=\"text/javascript\">\n",
       "        window.PlotlyConfig = {MathJaxConfig: 'local'};\n",
       "        if (window.MathJax) {MathJax.Hub.Config({SVG: {font: \"STIX-Web\"}});}\n",
       "        if (typeof require !== 'undefined') {\n",
       "        require.undef(\"plotly\");\n",
       "        requirejs.config({\n",
       "            paths: {\n",
       "                'plotly': ['https://cdn.plot.ly/plotly-latest.min']\n",
       "            }\n",
       "        });\n",
       "        require(['plotly'], function(Plotly) {\n",
       "            window._Plotly = Plotly;\n",
       "        });\n",
       "        }\n",
       "        </script>\n",
       "        "
      ]
     },
     "metadata": {},
     "output_type": "display_data"
    },
    {
     "data": {
      "text/html": [
       "        <script type=\"text/javascript\">\n",
       "        window.PlotlyConfig = {MathJaxConfig: 'local'};\n",
       "        if (window.MathJax) {MathJax.Hub.Config({SVG: {font: \"STIX-Web\"}});}\n",
       "        if (typeof require !== 'undefined') {\n",
       "        require.undef(\"plotly\");\n",
       "        requirejs.config({\n",
       "            paths: {\n",
       "                'plotly': ['https://cdn.plot.ly/plotly-latest.min']\n",
       "            }\n",
       "        });\n",
       "        require(['plotly'], function(Plotly) {\n",
       "            window._Plotly = Plotly;\n",
       "        });\n",
       "        }\n",
       "        </script>\n",
       "        "
      ]
     },
     "metadata": {},
     "output_type": "display_data"
    }
   ],
   "source": [
    "import pandas as pd\n",
    "import matplotlib.pyplot as plt\n",
    "from matplotlib import style\n",
    "style.use('ggplot')\n",
    "%matplotlib inline\n",
    "\n",
    "import plotly\n",
    "import plotly.express as px\n",
    "import plotly.graph_objects as go\n",
    "import cufflinks as cf\n",
    "import plotly.offline as pyo\n",
    "from plotly.offline import init_notebook_mode,plot,iplot\n",
    "\n",
    "import folium\n",
    "pyo.init_notebook_mode(connected=True)\n",
    "cf.go_offline()"
   ]
  },
  {
   "cell_type": "code",
   "execution_count": 2,
   "metadata": {},
   "outputs": [
    {
     "name": "stdout",
     "output_type": "stream",
     "text": [
      "ran successfully!\n"
     ]
    },
    {
     "data": {
      "text/plain": [
       "0"
      ]
     },
     "execution_count": 2,
     "metadata": {},
     "output_type": "execute_result"
    }
   ],
   "source": [
    "import os\n",
    "status = os.system(\"python web_scrap.py\")\n",
    "if status != 0:\n",
    "    print(\"Error while executing the script!\")\n",
    "else:\n",
    "    print(\"ran successfully!\")\n",
    "status"
   ]
  },
  {
   "cell_type": "code",
   "execution_count": 3,
   "metadata": {},
   "outputs": [
    {
     "data": {
      "text/html": [
       "<div>\n",
       "<style scoped>\n",
       "    .dataframe tbody tr th:only-of-type {\n",
       "        vertical-align: middle;\n",
       "    }\n",
       "\n",
       "    .dataframe tbody tr th {\n",
       "        vertical-align: top;\n",
       "    }\n",
       "\n",
       "    .dataframe thead th {\n",
       "        text-align: right;\n",
       "    }\n",
       "</style>\n",
       "<table border=\"1\" class=\"dataframe\">\n",
       "  <thead>\n",
       "    <tr style=\"text-align: right;\">\n",
       "      <th></th>\n",
       "      <th>Unnamed: 0</th>\n",
       "      <th>S. No.</th>\n",
       "      <th>Name of State / UT</th>\n",
       "      <th>Total Confirmed cases*</th>\n",
       "      <th>Cured/Discharged/Migrated</th>\n",
       "      <th>Deaths**</th>\n",
       "    </tr>\n",
       "  </thead>\n",
       "  <tbody>\n",
       "    <tr>\n",
       "      <td>0</td>\n",
       "      <td>0</td>\n",
       "      <td>1</td>\n",
       "      <td>Andaman and Nicobar Islands</td>\n",
       "      <td>33</td>\n",
       "      <td>33</td>\n",
       "      <td>0</td>\n",
       "    </tr>\n",
       "    <tr>\n",
       "      <td>1</td>\n",
       "      <td>1</td>\n",
       "      <td>2</td>\n",
       "      <td>Andhra Pradesh</td>\n",
       "      <td>2355</td>\n",
       "      <td>1353</td>\n",
       "      <td>49</td>\n",
       "    </tr>\n",
       "    <tr>\n",
       "      <td>2</td>\n",
       "      <td>2</td>\n",
       "      <td>3</td>\n",
       "      <td>Arunachal Pradesh</td>\n",
       "      <td>1</td>\n",
       "      <td>1</td>\n",
       "      <td>0</td>\n",
       "    </tr>\n",
       "    <tr>\n",
       "      <td>3</td>\n",
       "      <td>3</td>\n",
       "      <td>4</td>\n",
       "      <td>Assam</td>\n",
       "      <td>92</td>\n",
       "      <td>41</td>\n",
       "      <td>2</td>\n",
       "    </tr>\n",
       "    <tr>\n",
       "      <td>4</td>\n",
       "      <td>4</td>\n",
       "      <td>5</td>\n",
       "      <td>Bihar</td>\n",
       "      <td>1179</td>\n",
       "      <td>453</td>\n",
       "      <td>7</td>\n",
       "    </tr>\n",
       "  </tbody>\n",
       "</table>\n",
       "</div>"
      ],
      "text/plain": [
       "   Unnamed: 0  S. No.           Name of State / UT  Total Confirmed cases*   \\\n",
       "0           0       1  Andaman and Nicobar Islands                       33   \n",
       "1           1       2               Andhra Pradesh                     2355   \n",
       "2           2       3            Arunachal Pradesh                        1   \n",
       "3           3       4                        Assam                       92   \n",
       "4           4       5                        Bihar                     1179   \n",
       "\n",
       "   Cured/Discharged/Migrated  Deaths**  \n",
       "0                         33         0  \n",
       "1                       1353        49  \n",
       "2                          1         0  \n",
       "3                         41         2  \n",
       "4                        453         7  "
      ]
     },
     "execution_count": 3,
     "metadata": {},
     "output_type": "execute_result"
    }
   ],
   "source": [
    "df=pd.read_csv(\"clean_output.csv\")\n",
    "df.head()"
   ]
  },
  {
   "cell_type": "code",
   "execution_count": 4,
   "metadata": {},
   "outputs": [
    {
     "data": {
      "text/html": [
       "<div>\n",
       "<style scoped>\n",
       "    .dataframe tbody tr th:only-of-type {\n",
       "        vertical-align: middle;\n",
       "    }\n",
       "\n",
       "    .dataframe tbody tr th {\n",
       "        vertical-align: top;\n",
       "    }\n",
       "\n",
       "    .dataframe thead th {\n",
       "        text-align: right;\n",
       "    }\n",
       "</style>\n",
       "<table border=\"1\" class=\"dataframe\">\n",
       "  <thead>\n",
       "    <tr style=\"text-align: right;\">\n",
       "      <th></th>\n",
       "      <th>Name of State / UT</th>\n",
       "      <th>Total Confirmed cases*</th>\n",
       "      <th>Cured/Discharged/Migrated</th>\n",
       "      <th>Deaths**</th>\n",
       "    </tr>\n",
       "  </thead>\n",
       "  <tbody>\n",
       "    <tr>\n",
       "      <td>0</td>\n",
       "      <td>Andaman and Nicobar Islands</td>\n",
       "      <td>33</td>\n",
       "      <td>33</td>\n",
       "      <td>0</td>\n",
       "    </tr>\n",
       "    <tr>\n",
       "      <td>1</td>\n",
       "      <td>Andhra Pradesh</td>\n",
       "      <td>2355</td>\n",
       "      <td>1353</td>\n",
       "      <td>49</td>\n",
       "    </tr>\n",
       "    <tr>\n",
       "      <td>2</td>\n",
       "      <td>Arunachal Pradesh</td>\n",
       "      <td>1</td>\n",
       "      <td>1</td>\n",
       "      <td>0</td>\n",
       "    </tr>\n",
       "    <tr>\n",
       "      <td>3</td>\n",
       "      <td>Assam</td>\n",
       "      <td>92</td>\n",
       "      <td>41</td>\n",
       "      <td>2</td>\n",
       "    </tr>\n",
       "    <tr>\n",
       "      <td>4</td>\n",
       "      <td>Bihar</td>\n",
       "      <td>1179</td>\n",
       "      <td>453</td>\n",
       "      <td>7</td>\n",
       "    </tr>\n",
       "  </tbody>\n",
       "</table>\n",
       "</div>"
      ],
      "text/plain": [
       "            Name of State / UT  Total Confirmed cases*   \\\n",
       "0  Andaman and Nicobar Islands                       33   \n",
       "1               Andhra Pradesh                     2355   \n",
       "2            Arunachal Pradesh                        1   \n",
       "3                        Assam                       92   \n",
       "4                        Bihar                     1179   \n",
       "\n",
       "   Cured/Discharged/Migrated  Deaths**  \n",
       "0                         33         0  \n",
       "1                       1353        49  \n",
       "2                          1         0  \n",
       "3                         41         2  \n",
       "4                        453         7  "
      ]
     },
     "execution_count": 4,
     "metadata": {},
     "output_type": "execute_result"
    }
   ],
   "source": [
    "df.drop(['Unnamed: 0'],axis=1,inplace=True)\n",
    "df.drop(['S. No.'],axis=1,inplace=True)\n",
    "df.head()"
   ]
  },
  {
   "cell_type": "code",
   "execution_count": 5,
   "metadata": {},
   "outputs": [
    {
     "data": {
      "text/plain": [
       "Index(['Name of State / UT', 'Total Confirmed cases* ',\n",
       "       'Cured/Discharged/Migrated', 'Deaths**'],\n",
       "      dtype='object')"
      ]
     },
     "execution_count": 5,
     "metadata": {},
     "output_type": "execute_result"
    }
   ],
   "source": [
    "df.columns"
   ]
  },
  {
   "cell_type": "code",
   "execution_count": 6,
   "metadata": {},
   "outputs": [],
   "source": [
    "df.rename(columns={'Total Confirmed cases* ':'Total confirmed Cases','Deaths**':'Deaths'},inplace = True)"
   ]
  },
  {
   "cell_type": "code",
   "execution_count": 7,
   "metadata": {},
   "outputs": [
    {
     "data": {
      "text/html": [
       "<div>\n",
       "<style scoped>\n",
       "    .dataframe tbody tr th:only-of-type {\n",
       "        vertical-align: middle;\n",
       "    }\n",
       "\n",
       "    .dataframe tbody tr th {\n",
       "        vertical-align: top;\n",
       "    }\n",
       "\n",
       "    .dataframe thead th {\n",
       "        text-align: right;\n",
       "    }\n",
       "</style>\n",
       "<table border=\"1\" class=\"dataframe\">\n",
       "  <thead>\n",
       "    <tr style=\"text-align: right;\">\n",
       "      <th></th>\n",
       "      <th>Name of State / UT</th>\n",
       "      <th>Total confirmed Cases</th>\n",
       "      <th>Cured/Discharged/Migrated</th>\n",
       "      <th>Deaths</th>\n",
       "    </tr>\n",
       "  </thead>\n",
       "  <tbody>\n",
       "    <tr>\n",
       "      <td>0</td>\n",
       "      <td>Andaman and Nicobar Islands</td>\n",
       "      <td>33</td>\n",
       "      <td>33</td>\n",
       "      <td>0</td>\n",
       "    </tr>\n",
       "    <tr>\n",
       "      <td>1</td>\n",
       "      <td>Andhra Pradesh</td>\n",
       "      <td>2355</td>\n",
       "      <td>1353</td>\n",
       "      <td>49</td>\n",
       "    </tr>\n",
       "    <tr>\n",
       "      <td>2</td>\n",
       "      <td>Arunachal Pradesh</td>\n",
       "      <td>1</td>\n",
       "      <td>1</td>\n",
       "      <td>0</td>\n",
       "    </tr>\n",
       "    <tr>\n",
       "      <td>3</td>\n",
       "      <td>Assam</td>\n",
       "      <td>92</td>\n",
       "      <td>41</td>\n",
       "      <td>2</td>\n",
       "    </tr>\n",
       "    <tr>\n",
       "      <td>4</td>\n",
       "      <td>Bihar</td>\n",
       "      <td>1179</td>\n",
       "      <td>453</td>\n",
       "      <td>7</td>\n",
       "    </tr>\n",
       "  </tbody>\n",
       "</table>\n",
       "</div>"
      ],
      "text/plain": [
       "            Name of State / UT  Total confirmed Cases  \\\n",
       "0  Andaman and Nicobar Islands                     33   \n",
       "1               Andhra Pradesh                   2355   \n",
       "2            Arunachal Pradesh                      1   \n",
       "3                        Assam                     92   \n",
       "4                        Bihar                   1179   \n",
       "\n",
       "   Cured/Discharged/Migrated  Deaths  \n",
       "0                         33       0  \n",
       "1                       1353      49  \n",
       "2                          1       0  \n",
       "3                         41       2  \n",
       "4                        453       7  "
      ]
     },
     "execution_count": 7,
     "metadata": {},
     "output_type": "execute_result"
    }
   ],
   "source": [
    "df.head()"
   ]
  },
  {
   "cell_type": "code",
   "execution_count": 8,
   "metadata": {},
   "outputs": [
    {
     "name": "stdout",
     "output_type": "stream",
     "text": [
      "The total number of cases till now in India is  90637\n"
     ]
    }
   ],
   "source": [
    "print('The total number of cases till now in India is ',df['Total confirmed Cases'].sum())"
   ]
  },
  {
   "cell_type": "code",
   "execution_count": 9,
   "metadata": {},
   "outputs": [],
   "source": [
    "df['Active Cases']=df['Total confirmed Cases']-(df['Deaths']+df['Cured/Discharged/Migrated'])"
   ]
  },
  {
   "cell_type": "markdown",
   "metadata": {},
   "source": [
    "# Cases with Color Gradient "
   ]
  },
  {
   "cell_type": "code",
   "execution_count": 10,
   "metadata": {},
   "outputs": [
    {
     "data": {
      "text/html": [
       "<style  type=\"text/css\" >\n",
       "    #T_d1ffbc98_986a_11ea_a36e_186024b5ab97row0_col1 {\n",
       "            background-color:  #fff5f0;\n",
       "            color:  #000000;\n",
       "        }    #T_d1ffbc98_986a_11ea_a36e_186024b5ab97row0_col2 {\n",
       "            background-color:  #fff4ef;\n",
       "            color:  #000000;\n",
       "        }    #T_d1ffbc98_986a_11ea_a36e_186024b5ab97row0_col3 {\n",
       "            background-color:  #fff5f0;\n",
       "            color:  #000000;\n",
       "        }    #T_d1ffbc98_986a_11ea_a36e_186024b5ab97row0_col4 {\n",
       "            background-color:  #fff5f0;\n",
       "            color:  #000000;\n",
       "        }    #T_d1ffbc98_986a_11ea_a36e_186024b5ab97row1_col1 {\n",
       "            background-color:  #fee8de;\n",
       "            color:  #000000;\n",
       "        }    #T_d1ffbc98_986a_11ea_a36e_186024b5ab97row1_col2 {\n",
       "            background-color:  #fdcdb9;\n",
       "            color:  #000000;\n",
       "        }    #T_d1ffbc98_986a_11ea_a36e_186024b5ab97row1_col3 {\n",
       "            background-color:  #ffeee6;\n",
       "            color:  #000000;\n",
       "        }    #T_d1ffbc98_986a_11ea_a36e_186024b5ab97row1_col4 {\n",
       "            background-color:  #ffeee7;\n",
       "            color:  #000000;\n",
       "        }    #T_d1ffbc98_986a_11ea_a36e_186024b5ab97row2_col1 {\n",
       "            background-color:  #fff5f0;\n",
       "            color:  #000000;\n",
       "        }    #T_d1ffbc98_986a_11ea_a36e_186024b5ab97row2_col2 {\n",
       "            background-color:  #fff5f0;\n",
       "            color:  #000000;\n",
       "        }    #T_d1ffbc98_986a_11ea_a36e_186024b5ab97row2_col3 {\n",
       "            background-color:  #fff5f0;\n",
       "            color:  #000000;\n",
       "        }    #T_d1ffbc98_986a_11ea_a36e_186024b5ab97row2_col4 {\n",
       "            background-color:  #fff5f0;\n",
       "            color:  #000000;\n",
       "        }    #T_d1ffbc98_986a_11ea_a36e_186024b5ab97row3_col1 {\n",
       "            background-color:  #fff5f0;\n",
       "            color:  #000000;\n",
       "        }    #T_d1ffbc98_986a_11ea_a36e_186024b5ab97row3_col2 {\n",
       "            background-color:  #fff4ef;\n",
       "            color:  #000000;\n",
       "        }    #T_d1ffbc98_986a_11ea_a36e_186024b5ab97row3_col3 {\n",
       "            background-color:  #fff5f0;\n",
       "            color:  #000000;\n",
       "        }    #T_d1ffbc98_986a_11ea_a36e_186024b5ab97row3_col4 {\n",
       "            background-color:  #fff5f0;\n",
       "            color:  #000000;\n",
       "        }    #T_d1ffbc98_986a_11ea_a36e_186024b5ab97row4_col1 {\n",
       "            background-color:  #ffefe8;\n",
       "            color:  #000000;\n",
       "        }    #T_d1ffbc98_986a_11ea_a36e_186024b5ab97row4_col2 {\n",
       "            background-color:  #feeae1;\n",
       "            color:  #000000;\n",
       "        }    #T_d1ffbc98_986a_11ea_a36e_186024b5ab97row4_col3 {\n",
       "            background-color:  #fff4ef;\n",
       "            color:  #000000;\n",
       "        }    #T_d1ffbc98_986a_11ea_a36e_186024b5ab97row4_col4 {\n",
       "            background-color:  #fff0e8;\n",
       "            color:  #000000;\n",
       "        }    #T_d1ffbc98_986a_11ea_a36e_186024b5ab97row5_col1 {\n",
       "            background-color:  #fff4ef;\n",
       "            color:  #000000;\n",
       "        }    #T_d1ffbc98_986a_11ea_a36e_186024b5ab97row5_col2 {\n",
       "            background-color:  #fff4ef;\n",
       "            color:  #000000;\n",
       "        }    #T_d1ffbc98_986a_11ea_a36e_186024b5ab97row5_col3 {\n",
       "            background-color:  #fff5f0;\n",
       "            color:  #000000;\n",
       "        }    #T_d1ffbc98_986a_11ea_a36e_186024b5ab97row5_col4 {\n",
       "            background-color:  #fff4ef;\n",
       "            color:  #000000;\n",
       "        }    #T_d1ffbc98_986a_11ea_a36e_186024b5ab97row6_col1 {\n",
       "            background-color:  #fff5f0;\n",
       "            color:  #000000;\n",
       "        }    #T_d1ffbc98_986a_11ea_a36e_186024b5ab97row6_col2 {\n",
       "            background-color:  #fff4ee;\n",
       "            color:  #000000;\n",
       "        }    #T_d1ffbc98_986a_11ea_a36e_186024b5ab97row6_col3 {\n",
       "            background-color:  #fff5f0;\n",
       "            color:  #000000;\n",
       "        }    #T_d1ffbc98_986a_11ea_a36e_186024b5ab97row6_col4 {\n",
       "            background-color:  #fff5f0;\n",
       "            color:  #000000;\n",
       "        }    #T_d1ffbc98_986a_11ea_a36e_186024b5ab97row7_col1 {\n",
       "            background-color:  #fff5f0;\n",
       "            color:  #000000;\n",
       "        }    #T_d1ffbc98_986a_11ea_a36e_186024b5ab97row7_col2 {\n",
       "            background-color:  #fff5f0;\n",
       "            color:  #000000;\n",
       "        }    #T_d1ffbc98_986a_11ea_a36e_186024b5ab97row7_col3 {\n",
       "            background-color:  #fff5f0;\n",
       "            color:  #000000;\n",
       "        }    #T_d1ffbc98_986a_11ea_a36e_186024b5ab97row7_col4 {\n",
       "            background-color:  #fff5f0;\n",
       "            color:  #000000;\n",
       "        }    #T_d1ffbc98_986a_11ea_a36e_186024b5ab97row8_col1 {\n",
       "            background-color:  #fcaa8d;\n",
       "            color:  #000000;\n",
       "        }    #T_d1ffbc98_986a_11ea_a36e_186024b5ab97row8_col2 {\n",
       "            background-color:  #f6563d;\n",
       "            color:  #000000;\n",
       "        }    #T_d1ffbc98_986a_11ea_a36e_186024b5ab97row8_col3 {\n",
       "            background-color:  #fee2d5;\n",
       "            color:  #000000;\n",
       "        }    #T_d1ffbc98_986a_11ea_a36e_186024b5ab97row8_col4 {\n",
       "            background-color:  #fcbfa7;\n",
       "            color:  #000000;\n",
       "        }    #T_d1ffbc98_986a_11ea_a36e_186024b5ab97row9_col1 {\n",
       "            background-color:  #fff5f0;\n",
       "            color:  #000000;\n",
       "        }    #T_d1ffbc98_986a_11ea_a36e_186024b5ab97row9_col2 {\n",
       "            background-color:  #fff5f0;\n",
       "            color:  #000000;\n",
       "        }    #T_d1ffbc98_986a_11ea_a36e_186024b5ab97row9_col3 {\n",
       "            background-color:  #fff5f0;\n",
       "            color:  #000000;\n",
       "        }    #T_d1ffbc98_986a_11ea_a36e_186024b5ab97row9_col4 {\n",
       "            background-color:  #fff5f0;\n",
       "            color:  #000000;\n",
       "        }    #T_d1ffbc98_986a_11ea_a36e_186024b5ab97row10_col1 {\n",
       "            background-color:  #fc9879;\n",
       "            color:  #000000;\n",
       "        }    #T_d1ffbc98_986a_11ea_a36e_186024b5ab97row10_col2 {\n",
       "            background-color:  #f14130;\n",
       "            color:  #f1f1f1;\n",
       "        }    #T_d1ffbc98_986a_11ea_a36e_186024b5ab97row10_col3 {\n",
       "            background-color:  #f6583e;\n",
       "            color:  #000000;\n",
       "        }    #T_d1ffbc98_986a_11ea_a36e_186024b5ab97row10_col4 {\n",
       "            background-color:  #fcb69b;\n",
       "            color:  #000000;\n",
       "        }    #T_d1ffbc98_986a_11ea_a36e_186024b5ab97row11_col1 {\n",
       "            background-color:  #fff0e9;\n",
       "            color:  #000000;\n",
       "        }    #T_d1ffbc98_986a_11ea_a36e_186024b5ab97row11_col2 {\n",
       "            background-color:  #fee9df;\n",
       "            color:  #000000;\n",
       "        }    #T_d1ffbc98_986a_11ea_a36e_186024b5ab97row11_col3 {\n",
       "            background-color:  #fff4ee;\n",
       "            color:  #000000;\n",
       "        }    #T_d1ffbc98_986a_11ea_a36e_186024b5ab97row11_col4 {\n",
       "            background-color:  #fff2ec;\n",
       "            color:  #000000;\n",
       "        }    #T_d1ffbc98_986a_11ea_a36e_186024b5ab97row12_col1 {\n",
       "            background-color:  #fff5f0;\n",
       "            color:  #000000;\n",
       "        }    #T_d1ffbc98_986a_11ea_a36e_186024b5ab97row12_col2 {\n",
       "            background-color:  #fff4ef;\n",
       "            color:  #000000;\n",
       "        }    #T_d1ffbc98_986a_11ea_a36e_186024b5ab97row12_col3 {\n",
       "            background-color:  #fff5f0;\n",
       "            color:  #000000;\n",
       "        }    #T_d1ffbc98_986a_11ea_a36e_186024b5ab97row12_col4 {\n",
       "            background-color:  #fff5f0;\n",
       "            color:  #000000;\n",
       "        }    #T_d1ffbc98_986a_11ea_a36e_186024b5ab97row13_col1 {\n",
       "            background-color:  #ffefe8;\n",
       "            color:  #000000;\n",
       "        }    #T_d1ffbc98_986a_11ea_a36e_186024b5ab97row13_col2 {\n",
       "            background-color:  #fee8de;\n",
       "            color:  #000000;\n",
       "        }    #T_d1ffbc98_986a_11ea_a36e_186024b5ab97row13_col3 {\n",
       "            background-color:  #fff4ee;\n",
       "            color:  #000000;\n",
       "        }    #T_d1ffbc98_986a_11ea_a36e_186024b5ab97row13_col4 {\n",
       "            background-color:  #fff1ea;\n",
       "            color:  #000000;\n",
       "        }    #T_d1ffbc98_986a_11ea_a36e_186024b5ab97row14_col1 {\n",
       "            background-color:  #fff4ef;\n",
       "            color:  #000000;\n",
       "        }    #T_d1ffbc98_986a_11ea_a36e_186024b5ab97row14_col2 {\n",
       "            background-color:  #fff2ec;\n",
       "            color:  #000000;\n",
       "        }    #T_d1ffbc98_986a_11ea_a36e_186024b5ab97row14_col3 {\n",
       "            background-color:  #fff5f0;\n",
       "            color:  #000000;\n",
       "        }    #T_d1ffbc98_986a_11ea_a36e_186024b5ab97row14_col4 {\n",
       "            background-color:  #fff4ef;\n",
       "            color:  #000000;\n",
       "        }    #T_d1ffbc98_986a_11ea_a36e_186024b5ab97row15_col1 {\n",
       "            background-color:  #ffefe8;\n",
       "            color:  #000000;\n",
       "        }    #T_d1ffbc98_986a_11ea_a36e_186024b5ab97row15_col2 {\n",
       "            background-color:  #feeae0;\n",
       "            color:  #000000;\n",
       "        }    #T_d1ffbc98_986a_11ea_a36e_186024b5ab97row15_col3 {\n",
       "            background-color:  #fff0e8;\n",
       "            color:  #000000;\n",
       "        }    #T_d1ffbc98_986a_11ea_a36e_186024b5ab97row15_col4 {\n",
       "            background-color:  #fff1ea;\n",
       "            color:  #000000;\n",
       "        }    #T_d1ffbc98_986a_11ea_a36e_186024b5ab97row16_col1 {\n",
       "            background-color:  #fff2ec;\n",
       "            color:  #000000;\n",
       "        }    #T_d1ffbc98_986a_11ea_a36e_186024b5ab97row16_col2 {\n",
       "            background-color:  #feeae0;\n",
       "            color:  #000000;\n",
       "        }    #T_d1ffbc98_986a_11ea_a36e_186024b5ab97row16_col3 {\n",
       "            background-color:  #fff5f0;\n",
       "            color:  #000000;\n",
       "        }    #T_d1ffbc98_986a_11ea_a36e_186024b5ab97row16_col4 {\n",
       "            background-color:  #fff4ef;\n",
       "            color:  #000000;\n",
       "        }    #T_d1ffbc98_986a_11ea_a36e_186024b5ab97row17_col1 {\n",
       "            background-color:  #fff5f0;\n",
       "            color:  #000000;\n",
       "        }    #T_d1ffbc98_986a_11ea_a36e_186024b5ab97row17_col2 {\n",
       "            background-color:  #fff5f0;\n",
       "            color:  #000000;\n",
       "        }    #T_d1ffbc98_986a_11ea_a36e_186024b5ab97row17_col3 {\n",
       "            background-color:  #fff5f0;\n",
       "            color:  #000000;\n",
       "        }    #T_d1ffbc98_986a_11ea_a36e_186024b5ab97row17_col4 {\n",
       "            background-color:  #fff5f0;\n",
       "            color:  #000000;\n",
       "        }    #T_d1ffbc98_986a_11ea_a36e_186024b5ab97row18_col1 {\n",
       "            background-color:  #fed8c7;\n",
       "            color:  #000000;\n",
       "        }    #T_d1ffbc98_986a_11ea_a36e_186024b5ab97row18_col2 {\n",
       "            background-color:  #fca285;\n",
       "            color:  #000000;\n",
       "        }    #T_d1ffbc98_986a_11ea_a36e_186024b5ab97row18_col3 {\n",
       "            background-color:  #fdc6b0;\n",
       "            color:  #000000;\n",
       "        }    #T_d1ffbc98_986a_11ea_a36e_186024b5ab97row18_col4 {\n",
       "            background-color:  #fee5d8;\n",
       "            color:  #000000;\n",
       "        }    #T_d1ffbc98_986a_11ea_a36e_186024b5ab97row19_col1 {\n",
       "            background-color:  #67000d;\n",
       "            color:  #f1f1f1;\n",
       "        }    #T_d1ffbc98_986a_11ea_a36e_186024b5ab97row19_col2 {\n",
       "            background-color:  #67000d;\n",
       "            color:  #f1f1f1;\n",
       "        }    #T_d1ffbc98_986a_11ea_a36e_186024b5ab97row19_col3 {\n",
       "            background-color:  #67000d;\n",
       "            color:  #f1f1f1;\n",
       "        }    #T_d1ffbc98_986a_11ea_a36e_186024b5ab97row19_col4 {\n",
       "            background-color:  #67000d;\n",
       "            color:  #f1f1f1;\n",
       "        }    #T_d1ffbc98_986a_11ea_a36e_186024b5ab97row20_col1 {\n",
       "            background-color:  #fff5f0;\n",
       "            color:  #000000;\n",
       "        }    #T_d1ffbc98_986a_11ea_a36e_186024b5ab97row20_col2 {\n",
       "            background-color:  #fff5f0;\n",
       "            color:  #000000;\n",
       "        }    #T_d1ffbc98_986a_11ea_a36e_186024b5ab97row20_col3 {\n",
       "            background-color:  #fff5f0;\n",
       "            color:  #000000;\n",
       "        }    #T_d1ffbc98_986a_11ea_a36e_186024b5ab97row20_col4 {\n",
       "            background-color:  #fff5f0;\n",
       "            color:  #000000;\n",
       "        }    #T_d1ffbc98_986a_11ea_a36e_186024b5ab97row21_col1 {\n",
       "            background-color:  #fff5f0;\n",
       "            color:  #000000;\n",
       "        }    #T_d1ffbc98_986a_11ea_a36e_186024b5ab97row21_col2 {\n",
       "            background-color:  #fff5f0;\n",
       "            color:  #000000;\n",
       "        }    #T_d1ffbc98_986a_11ea_a36e_186024b5ab97row21_col3 {\n",
       "            background-color:  #fff5f0;\n",
       "            color:  #000000;\n",
       "        }    #T_d1ffbc98_986a_11ea_a36e_186024b5ab97row21_col4 {\n",
       "            background-color:  #fff5f0;\n",
       "            color:  #000000;\n",
       "        }    #T_d1ffbc98_986a_11ea_a36e_186024b5ab97row22_col1 {\n",
       "            background-color:  #fff5f0;\n",
       "            color:  #000000;\n",
       "        }    #T_d1ffbc98_986a_11ea_a36e_186024b5ab97row22_col2 {\n",
       "            background-color:  #fff5f0;\n",
       "            color:  #000000;\n",
       "        }    #T_d1ffbc98_986a_11ea_a36e_186024b5ab97row22_col3 {\n",
       "            background-color:  #fff5f0;\n",
       "            color:  #000000;\n",
       "        }    #T_d1ffbc98_986a_11ea_a36e_186024b5ab97row22_col4 {\n",
       "            background-color:  #fff5f0;\n",
       "            color:  #000000;\n",
       "        }    #T_d1ffbc98_986a_11ea_a36e_186024b5ab97row23_col1 {\n",
       "            background-color:  #fff1ea;\n",
       "            color:  #000000;\n",
       "        }    #T_d1ffbc98_986a_11ea_a36e_186024b5ab97row23_col2 {\n",
       "            background-color:  #fff0e9;\n",
       "            color:  #000000;\n",
       "        }    #T_d1ffbc98_986a_11ea_a36e_186024b5ab97row23_col3 {\n",
       "            background-color:  #fff5f0;\n",
       "            color:  #000000;\n",
       "        }    #T_d1ffbc98_986a_11ea_a36e_186024b5ab97row23_col4 {\n",
       "            background-color:  #fff1ea;\n",
       "            color:  #000000;\n",
       "        }    #T_d1ffbc98_986a_11ea_a36e_186024b5ab97row24_col1 {\n",
       "            background-color:  #fff5f0;\n",
       "            color:  #000000;\n",
       "        }    #T_d1ffbc98_986a_11ea_a36e_186024b5ab97row24_col2 {\n",
       "            background-color:  #fff5f0;\n",
       "            color:  #000000;\n",
       "        }    #T_d1ffbc98_986a_11ea_a36e_186024b5ab97row24_col3 {\n",
       "            background-color:  #fff5f0;\n",
       "            color:  #000000;\n",
       "        }    #T_d1ffbc98_986a_11ea_a36e_186024b5ab97row24_col4 {\n",
       "            background-color:  #fff5f0;\n",
       "            color:  #000000;\n",
       "        }    #T_d1ffbc98_986a_11ea_a36e_186024b5ab97row25_col1 {\n",
       "            background-color:  #feeae1;\n",
       "            color:  #000000;\n",
       "        }    #T_d1ffbc98_986a_11ea_a36e_186024b5ab97row25_col2 {\n",
       "            background-color:  #fdd1be;\n",
       "            color:  #000000;\n",
       "        }    #T_d1ffbc98_986a_11ea_a36e_186024b5ab97row25_col3 {\n",
       "            background-color:  #fff0e9;\n",
       "            color:  #000000;\n",
       "        }    #T_d1ffbc98_986a_11ea_a36e_186024b5ab97row25_col4 {\n",
       "            background-color:  #fff0e9;\n",
       "            color:  #000000;\n",
       "        }    #T_d1ffbc98_986a_11ea_a36e_186024b5ab97row26_col1 {\n",
       "            background-color:  #fdd5c4;\n",
       "            color:  #000000;\n",
       "        }    #T_d1ffbc98_986a_11ea_a36e_186024b5ab97row26_col2 {\n",
       "            background-color:  #fc8a6a;\n",
       "            color:  #000000;\n",
       "        }    #T_d1ffbc98_986a_11ea_a36e_186024b5ab97row26_col3 {\n",
       "            background-color:  #fee3d6;\n",
       "            color:  #000000;\n",
       "        }    #T_d1ffbc98_986a_11ea_a36e_186024b5ab97row26_col4 {\n",
       "            background-color:  #fee7db;\n",
       "            color:  #000000;\n",
       "        }    #T_d1ffbc98_986a_11ea_a36e_186024b5ab97row27_col1 {\n",
       "            background-color:  #fc9c7d;\n",
       "            color:  #000000;\n",
       "        }    #T_d1ffbc98_986a_11ea_a36e_186024b5ab97row27_col2 {\n",
       "            background-color:  #fb6b4b;\n",
       "            color:  #000000;\n",
       "        }    #T_d1ffbc98_986a_11ea_a36e_186024b5ab97row27_col3 {\n",
       "            background-color:  #feeae1;\n",
       "            color:  #000000;\n",
       "        }    #T_d1ffbc98_986a_11ea_a36e_186024b5ab97row27_col4 {\n",
       "            background-color:  #fca78b;\n",
       "            color:  #000000;\n",
       "        }    #T_d1ffbc98_986a_11ea_a36e_186024b5ab97row28_col1 {\n",
       "            background-color:  #ffede5;\n",
       "            color:  #000000;\n",
       "        }    #T_d1ffbc98_986a_11ea_a36e_186024b5ab97row28_col2 {\n",
       "            background-color:  #fedccd;\n",
       "            color:  #000000;\n",
       "        }    #T_d1ffbc98_986a_11ea_a36e_186024b5ab97row28_col3 {\n",
       "            background-color:  #fff0e9;\n",
       "            color:  #000000;\n",
       "        }    #T_d1ffbc98_986a_11ea_a36e_186024b5ab97row28_col4 {\n",
       "            background-color:  #fff2eb;\n",
       "            color:  #000000;\n",
       "        }    #T_d1ffbc98_986a_11ea_a36e_186024b5ab97row29_col1 {\n",
       "            background-color:  #fff4ef;\n",
       "            color:  #000000;\n",
       "        }    #T_d1ffbc98_986a_11ea_a36e_186024b5ab97row29_col2 {\n",
       "            background-color:  #fff4ee;\n",
       "            color:  #000000;\n",
       "        }    #T_d1ffbc98_986a_11ea_a36e_186024b5ab97row29_col3 {\n",
       "            background-color:  #fff5f0;\n",
       "            color:  #000000;\n",
       "        }    #T_d1ffbc98_986a_11ea_a36e_186024b5ab97row29_col4 {\n",
       "            background-color:  #fff4ef;\n",
       "            color:  #000000;\n",
       "        }    #T_d1ffbc98_986a_11ea_a36e_186024b5ab97row30_col1 {\n",
       "            background-color:  #fff5f0;\n",
       "            color:  #000000;\n",
       "        }    #T_d1ffbc98_986a_11ea_a36e_186024b5ab97row30_col2 {\n",
       "            background-color:  #fff4ef;\n",
       "            color:  #000000;\n",
       "        }    #T_d1ffbc98_986a_11ea_a36e_186024b5ab97row30_col3 {\n",
       "            background-color:  #fff5f0;\n",
       "            color:  #000000;\n",
       "        }    #T_d1ffbc98_986a_11ea_a36e_186024b5ab97row30_col4 {\n",
       "            background-color:  #fff5f0;\n",
       "            color:  #000000;\n",
       "        }    #T_d1ffbc98_986a_11ea_a36e_186024b5ab97row31_col1 {\n",
       "            background-color:  #fedccd;\n",
       "            color:  #000000;\n",
       "        }    #T_d1ffbc98_986a_11ea_a36e_186024b5ab97row31_col2 {\n",
       "            background-color:  #fc9c7d;\n",
       "            color:  #000000;\n",
       "        }    #T_d1ffbc98_986a_11ea_a36e_186024b5ab97row31_col3 {\n",
       "            background-color:  #fee6da;\n",
       "            color:  #000000;\n",
       "        }    #T_d1ffbc98_986a_11ea_a36e_186024b5ab97row31_col4 {\n",
       "            background-color:  #fee8de;\n",
       "            color:  #000000;\n",
       "        }    #T_d1ffbc98_986a_11ea_a36e_186024b5ab97row32_col1 {\n",
       "            background-color:  #fee7dc;\n",
       "            color:  #000000;\n",
       "        }    #T_d1ffbc98_986a_11ea_a36e_186024b5ab97row32_col2 {\n",
       "            background-color:  #fee1d3;\n",
       "            color:  #000000;\n",
       "        }    #T_d1ffbc98_986a_11ea_a36e_186024b5ab97row32_col3 {\n",
       "            background-color:  #fdc9b3;\n",
       "            color:  #000000;\n",
       "        }    #T_d1ffbc98_986a_11ea_a36e_186024b5ab97row32_col4 {\n",
       "            background-color:  #feeae1;\n",
       "            color:  #000000;\n",
       "        }</style><table id=\"T_d1ffbc98_986a_11ea_a36e_186024b5ab97\" ><thead>    <tr>        <th class=\"blank level0\" ></th>        <th class=\"col_heading level0 col0\" >Name of State / UT</th>        <th class=\"col_heading level0 col1\" >Total confirmed Cases</th>        <th class=\"col_heading level0 col2\" >Cured/Discharged/Migrated</th>        <th class=\"col_heading level0 col3\" >Deaths</th>        <th class=\"col_heading level0 col4\" >Active Cases</th>    </tr></thead><tbody>\n",
       "                <tr>\n",
       "                        <th id=\"T_d1ffbc98_986a_11ea_a36e_186024b5ab97level0_row0\" class=\"row_heading level0 row0\" >0</th>\n",
       "                        <td id=\"T_d1ffbc98_986a_11ea_a36e_186024b5ab97row0_col0\" class=\"data row0 col0\" >Andaman and Nicobar Islands</td>\n",
       "                        <td id=\"T_d1ffbc98_986a_11ea_a36e_186024b5ab97row0_col1\" class=\"data row0 col1\" >33</td>\n",
       "                        <td id=\"T_d1ffbc98_986a_11ea_a36e_186024b5ab97row0_col2\" class=\"data row0 col2\" >33</td>\n",
       "                        <td id=\"T_d1ffbc98_986a_11ea_a36e_186024b5ab97row0_col3\" class=\"data row0 col3\" >0</td>\n",
       "                        <td id=\"T_d1ffbc98_986a_11ea_a36e_186024b5ab97row0_col4\" class=\"data row0 col4\" >0</td>\n",
       "            </tr>\n",
       "            <tr>\n",
       "                        <th id=\"T_d1ffbc98_986a_11ea_a36e_186024b5ab97level0_row1\" class=\"row_heading level0 row1\" >1</th>\n",
       "                        <td id=\"T_d1ffbc98_986a_11ea_a36e_186024b5ab97row1_col0\" class=\"data row1 col0\" >Andhra Pradesh</td>\n",
       "                        <td id=\"T_d1ffbc98_986a_11ea_a36e_186024b5ab97row1_col1\" class=\"data row1 col1\" >2355</td>\n",
       "                        <td id=\"T_d1ffbc98_986a_11ea_a36e_186024b5ab97row1_col2\" class=\"data row1 col2\" >1353</td>\n",
       "                        <td id=\"T_d1ffbc98_986a_11ea_a36e_186024b5ab97row1_col3\" class=\"data row1 col3\" >49</td>\n",
       "                        <td id=\"T_d1ffbc98_986a_11ea_a36e_186024b5ab97row1_col4\" class=\"data row1 col4\" >953</td>\n",
       "            </tr>\n",
       "            <tr>\n",
       "                        <th id=\"T_d1ffbc98_986a_11ea_a36e_186024b5ab97level0_row2\" class=\"row_heading level0 row2\" >2</th>\n",
       "                        <td id=\"T_d1ffbc98_986a_11ea_a36e_186024b5ab97row2_col0\" class=\"data row2 col0\" >Arunachal Pradesh</td>\n",
       "                        <td id=\"T_d1ffbc98_986a_11ea_a36e_186024b5ab97row2_col1\" class=\"data row2 col1\" >1</td>\n",
       "                        <td id=\"T_d1ffbc98_986a_11ea_a36e_186024b5ab97row2_col2\" class=\"data row2 col2\" >1</td>\n",
       "                        <td id=\"T_d1ffbc98_986a_11ea_a36e_186024b5ab97row2_col3\" class=\"data row2 col3\" >0</td>\n",
       "                        <td id=\"T_d1ffbc98_986a_11ea_a36e_186024b5ab97row2_col4\" class=\"data row2 col4\" >0</td>\n",
       "            </tr>\n",
       "            <tr>\n",
       "                        <th id=\"T_d1ffbc98_986a_11ea_a36e_186024b5ab97level0_row3\" class=\"row_heading level0 row3\" >3</th>\n",
       "                        <td id=\"T_d1ffbc98_986a_11ea_a36e_186024b5ab97row3_col0\" class=\"data row3 col0\" >Assam</td>\n",
       "                        <td id=\"T_d1ffbc98_986a_11ea_a36e_186024b5ab97row3_col1\" class=\"data row3 col1\" >92</td>\n",
       "                        <td id=\"T_d1ffbc98_986a_11ea_a36e_186024b5ab97row3_col2\" class=\"data row3 col2\" >41</td>\n",
       "                        <td id=\"T_d1ffbc98_986a_11ea_a36e_186024b5ab97row3_col3\" class=\"data row3 col3\" >2</td>\n",
       "                        <td id=\"T_d1ffbc98_986a_11ea_a36e_186024b5ab97row3_col4\" class=\"data row3 col4\" >49</td>\n",
       "            </tr>\n",
       "            <tr>\n",
       "                        <th id=\"T_d1ffbc98_986a_11ea_a36e_186024b5ab97level0_row4\" class=\"row_heading level0 row4\" >4</th>\n",
       "                        <td id=\"T_d1ffbc98_986a_11ea_a36e_186024b5ab97row4_col0\" class=\"data row4 col0\" >Bihar</td>\n",
       "                        <td id=\"T_d1ffbc98_986a_11ea_a36e_186024b5ab97row4_col1\" class=\"data row4 col1\" >1179</td>\n",
       "                        <td id=\"T_d1ffbc98_986a_11ea_a36e_186024b5ab97row4_col2\" class=\"data row4 col2\" >453</td>\n",
       "                        <td id=\"T_d1ffbc98_986a_11ea_a36e_186024b5ab97row4_col3\" class=\"data row4 col3\" >7</td>\n",
       "                        <td id=\"T_d1ffbc98_986a_11ea_a36e_186024b5ab97row4_col4\" class=\"data row4 col4\" >719</td>\n",
       "            </tr>\n",
       "            <tr>\n",
       "                        <th id=\"T_d1ffbc98_986a_11ea_a36e_186024b5ab97level0_row5\" class=\"row_heading level0 row5\" >5</th>\n",
       "                        <td id=\"T_d1ffbc98_986a_11ea_a36e_186024b5ab97row5_col0\" class=\"data row5 col0\" >Chandigarh</td>\n",
       "                        <td id=\"T_d1ffbc98_986a_11ea_a36e_186024b5ab97row5_col1\" class=\"data row5 col1\" >191</td>\n",
       "                        <td id=\"T_d1ffbc98_986a_11ea_a36e_186024b5ab97row5_col2\" class=\"data row5 col2\" >51</td>\n",
       "                        <td id=\"T_d1ffbc98_986a_11ea_a36e_186024b5ab97row5_col3\" class=\"data row5 col3\" >3</td>\n",
       "                        <td id=\"T_d1ffbc98_986a_11ea_a36e_186024b5ab97row5_col4\" class=\"data row5 col4\" >137</td>\n",
       "            </tr>\n",
       "            <tr>\n",
       "                        <th id=\"T_d1ffbc98_986a_11ea_a36e_186024b5ab97level0_row6\" class=\"row_heading level0 row6\" >6</th>\n",
       "                        <td id=\"T_d1ffbc98_986a_11ea_a36e_186024b5ab97row6_col0\" class=\"data row6 col0\" >Chhattisgarh</td>\n",
       "                        <td id=\"T_d1ffbc98_986a_11ea_a36e_186024b5ab97row6_col1\" class=\"data row6 col1\" >67</td>\n",
       "                        <td id=\"T_d1ffbc98_986a_11ea_a36e_186024b5ab97row6_col2\" class=\"data row6 col2\" >56</td>\n",
       "                        <td id=\"T_d1ffbc98_986a_11ea_a36e_186024b5ab97row6_col3\" class=\"data row6 col3\" >0</td>\n",
       "                        <td id=\"T_d1ffbc98_986a_11ea_a36e_186024b5ab97row6_col4\" class=\"data row6 col4\" >11</td>\n",
       "            </tr>\n",
       "            <tr>\n",
       "                        <th id=\"T_d1ffbc98_986a_11ea_a36e_186024b5ab97level0_row7\" class=\"row_heading level0 row7\" >7</th>\n",
       "                        <td id=\"T_d1ffbc98_986a_11ea_a36e_186024b5ab97row7_col0\" class=\"data row7 col0\" >Dadar Nagar Haveli</td>\n",
       "                        <td id=\"T_d1ffbc98_986a_11ea_a36e_186024b5ab97row7_col1\" class=\"data row7 col1\" >1</td>\n",
       "                        <td id=\"T_d1ffbc98_986a_11ea_a36e_186024b5ab97row7_col2\" class=\"data row7 col2\" >0</td>\n",
       "                        <td id=\"T_d1ffbc98_986a_11ea_a36e_186024b5ab97row7_col3\" class=\"data row7 col3\" >0</td>\n",
       "                        <td id=\"T_d1ffbc98_986a_11ea_a36e_186024b5ab97row7_col4\" class=\"data row7 col4\" >1</td>\n",
       "            </tr>\n",
       "            <tr>\n",
       "                        <th id=\"T_d1ffbc98_986a_11ea_a36e_186024b5ab97level0_row8\" class=\"row_heading level0 row8\" >8</th>\n",
       "                        <td id=\"T_d1ffbc98_986a_11ea_a36e_186024b5ab97row8_col0\" class=\"data row8 col0\" >Delhi</td>\n",
       "                        <td id=\"T_d1ffbc98_986a_11ea_a36e_186024b5ab97row8_col1\" class=\"data row8 col1\" >9333</td>\n",
       "                        <td id=\"T_d1ffbc98_986a_11ea_a36e_186024b5ab97row8_col2\" class=\"data row8 col2\" >3926</td>\n",
       "                        <td id=\"T_d1ffbc98_986a_11ea_a36e_186024b5ab97row8_col3\" class=\"data row8 col3\" >129</td>\n",
       "                        <td id=\"T_d1ffbc98_986a_11ea_a36e_186024b5ab97row8_col4\" class=\"data row8 col4\" >5278</td>\n",
       "            </tr>\n",
       "            <tr>\n",
       "                        <th id=\"T_d1ffbc98_986a_11ea_a36e_186024b5ab97level0_row9\" class=\"row_heading level0 row9\" >9</th>\n",
       "                        <td id=\"T_d1ffbc98_986a_11ea_a36e_186024b5ab97row9_col0\" class=\"data row9 col0\" >Goa</td>\n",
       "                        <td id=\"T_d1ffbc98_986a_11ea_a36e_186024b5ab97row9_col1\" class=\"data row9 col1\" >17</td>\n",
       "                        <td id=\"T_d1ffbc98_986a_11ea_a36e_186024b5ab97row9_col2\" class=\"data row9 col2\" >7</td>\n",
       "                        <td id=\"T_d1ffbc98_986a_11ea_a36e_186024b5ab97row9_col3\" class=\"data row9 col3\" >0</td>\n",
       "                        <td id=\"T_d1ffbc98_986a_11ea_a36e_186024b5ab97row9_col4\" class=\"data row9 col4\" >10</td>\n",
       "            </tr>\n",
       "            <tr>\n",
       "                        <th id=\"T_d1ffbc98_986a_11ea_a36e_186024b5ab97level0_row10\" class=\"row_heading level0 row10\" >10</th>\n",
       "                        <td id=\"T_d1ffbc98_986a_11ea_a36e_186024b5ab97row10_col0\" class=\"data row10 col0\" >Gujarat</td>\n",
       "                        <td id=\"T_d1ffbc98_986a_11ea_a36e_186024b5ab97row10_col1\" class=\"data row10 col1\" >10988</td>\n",
       "                        <td id=\"T_d1ffbc98_986a_11ea_a36e_186024b5ab97row10_col2\" class=\"data row10 col2\" >4308</td>\n",
       "                        <td id=\"T_d1ffbc98_986a_11ea_a36e_186024b5ab97row10_col3\" class=\"data row10 col3\" >625</td>\n",
       "                        <td id=\"T_d1ffbc98_986a_11ea_a36e_186024b5ab97row10_col4\" class=\"data row10 col4\" >6055</td>\n",
       "            </tr>\n",
       "            <tr>\n",
       "                        <th id=\"T_d1ffbc98_986a_11ea_a36e_186024b5ab97level0_row11\" class=\"row_heading level0 row11\" >11</th>\n",
       "                        <td id=\"T_d1ffbc98_986a_11ea_a36e_186024b5ab97row11_col0\" class=\"data row11 col0\" >Haryana</td>\n",
       "                        <td id=\"T_d1ffbc98_986a_11ea_a36e_186024b5ab97row11_col1\" class=\"data row11 col1\" >887</td>\n",
       "                        <td id=\"T_d1ffbc98_986a_11ea_a36e_186024b5ab97row11_col2\" class=\"data row11 col2\" >514</td>\n",
       "                        <td id=\"T_d1ffbc98_986a_11ea_a36e_186024b5ab97row11_col3\" class=\"data row11 col3\" >13</td>\n",
       "                        <td id=\"T_d1ffbc98_986a_11ea_a36e_186024b5ab97row11_col4\" class=\"data row11 col4\" >360</td>\n",
       "            </tr>\n",
       "            <tr>\n",
       "                        <th id=\"T_d1ffbc98_986a_11ea_a36e_186024b5ab97level0_row12\" class=\"row_heading level0 row12\" >12</th>\n",
       "                        <td id=\"T_d1ffbc98_986a_11ea_a36e_186024b5ab97row12_col0\" class=\"data row12 col0\" >Himachal Pradesh</td>\n",
       "                        <td id=\"T_d1ffbc98_986a_11ea_a36e_186024b5ab97row12_col1\" class=\"data row12 col1\" >78</td>\n",
       "                        <td id=\"T_d1ffbc98_986a_11ea_a36e_186024b5ab97row12_col2\" class=\"data row12 col2\" >43</td>\n",
       "                        <td id=\"T_d1ffbc98_986a_11ea_a36e_186024b5ab97row12_col3\" class=\"data row12 col3\" >3</td>\n",
       "                        <td id=\"T_d1ffbc98_986a_11ea_a36e_186024b5ab97row12_col4\" class=\"data row12 col4\" >32</td>\n",
       "            </tr>\n",
       "            <tr>\n",
       "                        <th id=\"T_d1ffbc98_986a_11ea_a36e_186024b5ab97level0_row13\" class=\"row_heading level0 row13\" >13</th>\n",
       "                        <td id=\"T_d1ffbc98_986a_11ea_a36e_186024b5ab97row13_col0\" class=\"data row13 col0\" >Jammu and Kashmir</td>\n",
       "                        <td id=\"T_d1ffbc98_986a_11ea_a36e_186024b5ab97row13_col1\" class=\"data row13 col1\" >1121</td>\n",
       "                        <td id=\"T_d1ffbc98_986a_11ea_a36e_186024b5ab97row13_col2\" class=\"data row13 col2\" >542</td>\n",
       "                        <td id=\"T_d1ffbc98_986a_11ea_a36e_186024b5ab97row13_col3\" class=\"data row13 col3\" >12</td>\n",
       "                        <td id=\"T_d1ffbc98_986a_11ea_a36e_186024b5ab97row13_col4\" class=\"data row13 col4\" >567</td>\n",
       "            </tr>\n",
       "            <tr>\n",
       "                        <th id=\"T_d1ffbc98_986a_11ea_a36e_186024b5ab97level0_row14\" class=\"row_heading level0 row14\" >14</th>\n",
       "                        <td id=\"T_d1ffbc98_986a_11ea_a36e_186024b5ab97row14_col0\" class=\"data row14 col0\" >Jharkhand</td>\n",
       "                        <td id=\"T_d1ffbc98_986a_11ea_a36e_186024b5ab97row14_col1\" class=\"data row14 col1\" >217</td>\n",
       "                        <td id=\"T_d1ffbc98_986a_11ea_a36e_186024b5ab97row14_col2\" class=\"data row14 col2\" >113</td>\n",
       "                        <td id=\"T_d1ffbc98_986a_11ea_a36e_186024b5ab97row14_col3\" class=\"data row14 col3\" >3</td>\n",
       "                        <td id=\"T_d1ffbc98_986a_11ea_a36e_186024b5ab97row14_col4\" class=\"data row14 col4\" >101</td>\n",
       "            </tr>\n",
       "            <tr>\n",
       "                        <th id=\"T_d1ffbc98_986a_11ea_a36e_186024b5ab97level0_row15\" class=\"row_heading level0 row15\" >15</th>\n",
       "                        <td id=\"T_d1ffbc98_986a_11ea_a36e_186024b5ab97row15_col0\" class=\"data row15 col0\" >Karnataka</td>\n",
       "                        <td id=\"T_d1ffbc98_986a_11ea_a36e_186024b5ab97row15_col1\" class=\"data row15 col1\" >1092</td>\n",
       "                        <td id=\"T_d1ffbc98_986a_11ea_a36e_186024b5ab97row15_col2\" class=\"data row15 col2\" >496</td>\n",
       "                        <td id=\"T_d1ffbc98_986a_11ea_a36e_186024b5ab97row15_col3\" class=\"data row15 col3\" >36</td>\n",
       "                        <td id=\"T_d1ffbc98_986a_11ea_a36e_186024b5ab97row15_col4\" class=\"data row15 col4\" >560</td>\n",
       "            </tr>\n",
       "            <tr>\n",
       "                        <th id=\"T_d1ffbc98_986a_11ea_a36e_186024b5ab97level0_row16\" class=\"row_heading level0 row16\" >16</th>\n",
       "                        <td id=\"T_d1ffbc98_986a_11ea_a36e_186024b5ab97row16_col0\" class=\"data row16 col0\" >Kerala</td>\n",
       "                        <td id=\"T_d1ffbc98_986a_11ea_a36e_186024b5ab97row16_col1\" class=\"data row16 col1\" >587</td>\n",
       "                        <td id=\"T_d1ffbc98_986a_11ea_a36e_186024b5ab97row16_col2\" class=\"data row16 col2\" >495</td>\n",
       "                        <td id=\"T_d1ffbc98_986a_11ea_a36e_186024b5ab97row16_col3\" class=\"data row16 col3\" >4</td>\n",
       "                        <td id=\"T_d1ffbc98_986a_11ea_a36e_186024b5ab97row16_col4\" class=\"data row16 col4\" >88</td>\n",
       "            </tr>\n",
       "            <tr>\n",
       "                        <th id=\"T_d1ffbc98_986a_11ea_a36e_186024b5ab97level0_row17\" class=\"row_heading level0 row17\" >17</th>\n",
       "                        <td id=\"T_d1ffbc98_986a_11ea_a36e_186024b5ab97row17_col0\" class=\"data row17 col0\" >Ladakh</td>\n",
       "                        <td id=\"T_d1ffbc98_986a_11ea_a36e_186024b5ab97row17_col1\" class=\"data row17 col1\" >43</td>\n",
       "                        <td id=\"T_d1ffbc98_986a_11ea_a36e_186024b5ab97row17_col2\" class=\"data row17 col2\" >22</td>\n",
       "                        <td id=\"T_d1ffbc98_986a_11ea_a36e_186024b5ab97row17_col3\" class=\"data row17 col3\" >0</td>\n",
       "                        <td id=\"T_d1ffbc98_986a_11ea_a36e_186024b5ab97row17_col4\" class=\"data row17 col4\" >21</td>\n",
       "            </tr>\n",
       "            <tr>\n",
       "                        <th id=\"T_d1ffbc98_986a_11ea_a36e_186024b5ab97level0_row18\" class=\"row_heading level0 row18\" >18</th>\n",
       "                        <td id=\"T_d1ffbc98_986a_11ea_a36e_186024b5ab97row18_col0\" class=\"data row18 col0\" >Madhya Pradesh</td>\n",
       "                        <td id=\"T_d1ffbc98_986a_11ea_a36e_186024b5ab97row18_col1\" class=\"data row18 col1\" >4789</td>\n",
       "                        <td id=\"T_d1ffbc98_986a_11ea_a36e_186024b5ab97row18_col2\" class=\"data row18 col2\" >2315</td>\n",
       "                        <td id=\"T_d1ffbc98_986a_11ea_a36e_186024b5ab97row18_col3\" class=\"data row18 col3\" >243</td>\n",
       "                        <td id=\"T_d1ffbc98_986a_11ea_a36e_186024b5ab97row18_col4\" class=\"data row18 col4\" >2231</td>\n",
       "            </tr>\n",
       "            <tr>\n",
       "                        <th id=\"T_d1ffbc98_986a_11ea_a36e_186024b5ab97level0_row19\" class=\"row_heading level0 row19\" >19</th>\n",
       "                        <td id=\"T_d1ffbc98_986a_11ea_a36e_186024b5ab97row19_col0\" class=\"data row19 col0\" >Maharashtra</td>\n",
       "                        <td id=\"T_d1ffbc98_986a_11ea_a36e_186024b5ab97row19_col1\" class=\"data row19 col1\" >30706</td>\n",
       "                        <td id=\"T_d1ffbc98_986a_11ea_a36e_186024b5ab97row19_col2\" class=\"data row19 col2\" >7088</td>\n",
       "                        <td id=\"T_d1ffbc98_986a_11ea_a36e_186024b5ab97row19_col3\" class=\"data row19 col3\" >1135</td>\n",
       "                        <td id=\"T_d1ffbc98_986a_11ea_a36e_186024b5ab97row19_col4\" class=\"data row19 col4\" >22483</td>\n",
       "            </tr>\n",
       "            <tr>\n",
       "                        <th id=\"T_d1ffbc98_986a_11ea_a36e_186024b5ab97level0_row20\" class=\"row_heading level0 row20\" >20</th>\n",
       "                        <td id=\"T_d1ffbc98_986a_11ea_a36e_186024b5ab97row20_col0\" class=\"data row20 col0\" >Manipur</td>\n",
       "                        <td id=\"T_d1ffbc98_986a_11ea_a36e_186024b5ab97row20_col1\" class=\"data row20 col1\" >7</td>\n",
       "                        <td id=\"T_d1ffbc98_986a_11ea_a36e_186024b5ab97row20_col2\" class=\"data row20 col2\" >2</td>\n",
       "                        <td id=\"T_d1ffbc98_986a_11ea_a36e_186024b5ab97row20_col3\" class=\"data row20 col3\" >0</td>\n",
       "                        <td id=\"T_d1ffbc98_986a_11ea_a36e_186024b5ab97row20_col4\" class=\"data row20 col4\" >5</td>\n",
       "            </tr>\n",
       "            <tr>\n",
       "                        <th id=\"T_d1ffbc98_986a_11ea_a36e_186024b5ab97level0_row21\" class=\"row_heading level0 row21\" >21</th>\n",
       "                        <td id=\"T_d1ffbc98_986a_11ea_a36e_186024b5ab97row21_col0\" class=\"data row21 col0\" >Meghalaya</td>\n",
       "                        <td id=\"T_d1ffbc98_986a_11ea_a36e_186024b5ab97row21_col1\" class=\"data row21 col1\" >13</td>\n",
       "                        <td id=\"T_d1ffbc98_986a_11ea_a36e_186024b5ab97row21_col2\" class=\"data row21 col2\" >11</td>\n",
       "                        <td id=\"T_d1ffbc98_986a_11ea_a36e_186024b5ab97row21_col3\" class=\"data row21 col3\" >1</td>\n",
       "                        <td id=\"T_d1ffbc98_986a_11ea_a36e_186024b5ab97row21_col4\" class=\"data row21 col4\" >1</td>\n",
       "            </tr>\n",
       "            <tr>\n",
       "                        <th id=\"T_d1ffbc98_986a_11ea_a36e_186024b5ab97level0_row22\" class=\"row_heading level0 row22\" >22</th>\n",
       "                        <td id=\"T_d1ffbc98_986a_11ea_a36e_186024b5ab97row22_col0\" class=\"data row22 col0\" >Mizoram</td>\n",
       "                        <td id=\"T_d1ffbc98_986a_11ea_a36e_186024b5ab97row22_col1\" class=\"data row22 col1\" >1</td>\n",
       "                        <td id=\"T_d1ffbc98_986a_11ea_a36e_186024b5ab97row22_col2\" class=\"data row22 col2\" >1</td>\n",
       "                        <td id=\"T_d1ffbc98_986a_11ea_a36e_186024b5ab97row22_col3\" class=\"data row22 col3\" >0</td>\n",
       "                        <td id=\"T_d1ffbc98_986a_11ea_a36e_186024b5ab97row22_col4\" class=\"data row22 col4\" >0</td>\n",
       "            </tr>\n",
       "            <tr>\n",
       "                        <th id=\"T_d1ffbc98_986a_11ea_a36e_186024b5ab97level0_row23\" class=\"row_heading level0 row23\" >23</th>\n",
       "                        <td id=\"T_d1ffbc98_986a_11ea_a36e_186024b5ab97row23_col0\" class=\"data row23 col0\" >Odisha</td>\n",
       "                        <td id=\"T_d1ffbc98_986a_11ea_a36e_186024b5ab97row23_col1\" class=\"data row23 col1\" >737</td>\n",
       "                        <td id=\"T_d1ffbc98_986a_11ea_a36e_186024b5ab97row23_col2\" class=\"data row23 col2\" >196</td>\n",
       "                        <td id=\"T_d1ffbc98_986a_11ea_a36e_186024b5ab97row23_col3\" class=\"data row23 col3\" >3</td>\n",
       "                        <td id=\"T_d1ffbc98_986a_11ea_a36e_186024b5ab97row23_col4\" class=\"data row23 col4\" >538</td>\n",
       "            </tr>\n",
       "            <tr>\n",
       "                        <th id=\"T_d1ffbc98_986a_11ea_a36e_186024b5ab97level0_row24\" class=\"row_heading level0 row24\" >24</th>\n",
       "                        <td id=\"T_d1ffbc98_986a_11ea_a36e_186024b5ab97row24_col0\" class=\"data row24 col0\" >Puducherry</td>\n",
       "                        <td id=\"T_d1ffbc98_986a_11ea_a36e_186024b5ab97row24_col1\" class=\"data row24 col1\" >13</td>\n",
       "                        <td id=\"T_d1ffbc98_986a_11ea_a36e_186024b5ab97row24_col2\" class=\"data row24 col2\" >9</td>\n",
       "                        <td id=\"T_d1ffbc98_986a_11ea_a36e_186024b5ab97row24_col3\" class=\"data row24 col3\" >1</td>\n",
       "                        <td id=\"T_d1ffbc98_986a_11ea_a36e_186024b5ab97row24_col4\" class=\"data row24 col4\" >3</td>\n",
       "            </tr>\n",
       "            <tr>\n",
       "                        <th id=\"T_d1ffbc98_986a_11ea_a36e_186024b5ab97level0_row25\" class=\"row_heading level0 row25\" >25</th>\n",
       "                        <td id=\"T_d1ffbc98_986a_11ea_a36e_186024b5ab97row25_col0\" class=\"data row25 col0\" >Punjab</td>\n",
       "                        <td id=\"T_d1ffbc98_986a_11ea_a36e_186024b5ab97row25_col1\" class=\"data row25 col1\" >1946</td>\n",
       "                        <td id=\"T_d1ffbc98_986a_11ea_a36e_186024b5ab97row25_col2\" class=\"data row25 col2\" >1257</td>\n",
       "                        <td id=\"T_d1ffbc98_986a_11ea_a36e_186024b5ab97row25_col3\" class=\"data row25 col3\" >32</td>\n",
       "                        <td id=\"T_d1ffbc98_986a_11ea_a36e_186024b5ab97row25_col4\" class=\"data row25 col4\" >657</td>\n",
       "            </tr>\n",
       "            <tr>\n",
       "                        <th id=\"T_d1ffbc98_986a_11ea_a36e_186024b5ab97level0_row26\" class=\"row_heading level0 row26\" >26</th>\n",
       "                        <td id=\"T_d1ffbc98_986a_11ea_a36e_186024b5ab97row26_col0\" class=\"data row26 col0\" >Rajasthan</td>\n",
       "                        <td id=\"T_d1ffbc98_986a_11ea_a36e_186024b5ab97row26_col1\" class=\"data row26 col1\" >4960</td>\n",
       "                        <td id=\"T_d1ffbc98_986a_11ea_a36e_186024b5ab97row26_col2\" class=\"data row26 col2\" >2839</td>\n",
       "                        <td id=\"T_d1ffbc98_986a_11ea_a36e_186024b5ab97row26_col3\" class=\"data row26 col3\" >126</td>\n",
       "                        <td id=\"T_d1ffbc98_986a_11ea_a36e_186024b5ab97row26_col4\" class=\"data row26 col4\" >1995</td>\n",
       "            </tr>\n",
       "            <tr>\n",
       "                        <th id=\"T_d1ffbc98_986a_11ea_a36e_186024b5ab97level0_row27\" class=\"row_heading level0 row27\" >27</th>\n",
       "                        <td id=\"T_d1ffbc98_986a_11ea_a36e_186024b5ab97row27_col0\" class=\"data row27 col0\" >Tamil Nadu</td>\n",
       "                        <td id=\"T_d1ffbc98_986a_11ea_a36e_186024b5ab97row27_col1\" class=\"data row27 col1\" >10585</td>\n",
       "                        <td id=\"T_d1ffbc98_986a_11ea_a36e_186024b5ab97row27_col2\" class=\"data row27 col2\" >3538</td>\n",
       "                        <td id=\"T_d1ffbc98_986a_11ea_a36e_186024b5ab97row27_col3\" class=\"data row27 col3\" >74</td>\n",
       "                        <td id=\"T_d1ffbc98_986a_11ea_a36e_186024b5ab97row27_col4\" class=\"data row27 col4\" >6973</td>\n",
       "            </tr>\n",
       "            <tr>\n",
       "                        <th id=\"T_d1ffbc98_986a_11ea_a36e_186024b5ab97level0_row28\" class=\"row_heading level0 row28\" >28</th>\n",
       "                        <td id=\"T_d1ffbc98_986a_11ea_a36e_186024b5ab97row28_col0\" class=\"data row28 col0\" >Telengana</td>\n",
       "                        <td id=\"T_d1ffbc98_986a_11ea_a36e_186024b5ab97row28_col1\" class=\"data row28 col1\" >1509</td>\n",
       "                        <td id=\"T_d1ffbc98_986a_11ea_a36e_186024b5ab97row28_col2\" class=\"data row28 col2\" >971</td>\n",
       "                        <td id=\"T_d1ffbc98_986a_11ea_a36e_186024b5ab97row28_col3\" class=\"data row28 col3\" >34</td>\n",
       "                        <td id=\"T_d1ffbc98_986a_11ea_a36e_186024b5ab97row28_col4\" class=\"data row28 col4\" >504</td>\n",
       "            </tr>\n",
       "            <tr>\n",
       "                        <th id=\"T_d1ffbc98_986a_11ea_a36e_186024b5ab97level0_row29\" class=\"row_heading level0 row29\" >29</th>\n",
       "                        <td id=\"T_d1ffbc98_986a_11ea_a36e_186024b5ab97row29_col0\" class=\"data row29 col0\" >Tripura</td>\n",
       "                        <td id=\"T_d1ffbc98_986a_11ea_a36e_186024b5ab97row29_col1\" class=\"data row29 col1\" >167</td>\n",
       "                        <td id=\"T_d1ffbc98_986a_11ea_a36e_186024b5ab97row29_col2\" class=\"data row29 col2\" >64</td>\n",
       "                        <td id=\"T_d1ffbc98_986a_11ea_a36e_186024b5ab97row29_col3\" class=\"data row29 col3\" >0</td>\n",
       "                        <td id=\"T_d1ffbc98_986a_11ea_a36e_186024b5ab97row29_col4\" class=\"data row29 col4\" >103</td>\n",
       "            </tr>\n",
       "            <tr>\n",
       "                        <th id=\"T_d1ffbc98_986a_11ea_a36e_186024b5ab97level0_row30\" class=\"row_heading level0 row30\" >30</th>\n",
       "                        <td id=\"T_d1ffbc98_986a_11ea_a36e_186024b5ab97row30_col0\" class=\"data row30 col0\" >Uttarakhand</td>\n",
       "                        <td id=\"T_d1ffbc98_986a_11ea_a36e_186024b5ab97row30_col1\" class=\"data row30 col1\" >88</td>\n",
       "                        <td id=\"T_d1ffbc98_986a_11ea_a36e_186024b5ab97row30_col2\" class=\"data row30 col2\" >51</td>\n",
       "                        <td id=\"T_d1ffbc98_986a_11ea_a36e_186024b5ab97row30_col3\" class=\"data row30 col3\" >1</td>\n",
       "                        <td id=\"T_d1ffbc98_986a_11ea_a36e_186024b5ab97row30_col4\" class=\"data row30 col4\" >36</td>\n",
       "            </tr>\n",
       "            <tr>\n",
       "                        <th id=\"T_d1ffbc98_986a_11ea_a36e_186024b5ab97level0_row31\" class=\"row_heading level0 row31\" >31</th>\n",
       "                        <td id=\"T_d1ffbc98_986a_11ea_a36e_186024b5ab97row31_col0\" class=\"data row31 col0\" >Uttar Pradesh</td>\n",
       "                        <td id=\"T_d1ffbc98_986a_11ea_a36e_186024b5ab97row31_col1\" class=\"data row31 col1\" >4258</td>\n",
       "                        <td id=\"T_d1ffbc98_986a_11ea_a36e_186024b5ab97row31_col2\" class=\"data row31 col2\" >2441</td>\n",
       "                        <td id=\"T_d1ffbc98_986a_11ea_a36e_186024b5ab97row31_col3\" class=\"data row31 col3\" >104</td>\n",
       "                        <td id=\"T_d1ffbc98_986a_11ea_a36e_186024b5ab97row31_col4\" class=\"data row31 col4\" >1713</td>\n",
       "            </tr>\n",
       "            <tr>\n",
       "                        <th id=\"T_d1ffbc98_986a_11ea_a36e_186024b5ab97level0_row32\" class=\"row_heading level0 row32\" >32</th>\n",
       "                        <td id=\"T_d1ffbc98_986a_11ea_a36e_186024b5ab97row32_col0\" class=\"data row32 col0\" >West Bengal</td>\n",
       "                        <td id=\"T_d1ffbc98_986a_11ea_a36e_186024b5ab97row32_col1\" class=\"data row32 col1\" >2576</td>\n",
       "                        <td id=\"T_d1ffbc98_986a_11ea_a36e_186024b5ab97row32_col2\" class=\"data row32 col2\" >872</td>\n",
       "                        <td id=\"T_d1ffbc98_986a_11ea_a36e_186024b5ab97row32_col3\" class=\"data row32 col3\" >232</td>\n",
       "                        <td id=\"T_d1ffbc98_986a_11ea_a36e_186024b5ab97row32_col4\" class=\"data row32 col4\" >1472</td>\n",
       "            </tr>\n",
       "    </tbody></table>"
      ],
      "text/plain": [
       "<pandas.io.formats.style.Styler at 0x1fd7ae37188>"
      ]
     },
     "execution_count": 10,
     "metadata": {},
     "output_type": "execute_result"
    }
   ],
   "source": [
    "df.style.background_gradient(cmap='Reds')"
   ]
  },
  {
   "cell_type": "markdown",
   "metadata": {},
   "source": [
    "# Present Situation of Confirmed Cases in India"
   ]
  },
  {
   "cell_type": "code",
   "execution_count": 11,
   "metadata": {},
   "outputs": [
    {
     "data": {
      "text/html": [
       "<style  type=\"text/css\" >\n",
       "    #T_d20f6950_986a_11ea_9644_186024b5ab97row0_col0 {\n",
       "            background-color:  #00441b;\n",
       "            color:  #f1f1f1;\n",
       "        }    #T_d20f6950_986a_11ea_9644_186024b5ab97row1_col0 {\n",
       "            background-color:  #a7dba0;\n",
       "            color:  #000000;\n",
       "        }    #T_d20f6950_986a_11ea_9644_186024b5ab97row2_col0 {\n",
       "            background-color:  #aadda4;\n",
       "            color:  #000000;\n",
       "        }    #T_d20f6950_986a_11ea_9644_186024b5ab97row3_col0 {\n",
       "            background-color:  #b7e2b1;\n",
       "            color:  #000000;\n",
       "        }    #T_d20f6950_986a_11ea_9644_186024b5ab97row4_col0 {\n",
       "            background-color:  #dcf2d7;\n",
       "            color:  #000000;\n",
       "        }    #T_d20f6950_986a_11ea_9644_186024b5ab97row5_col0 {\n",
       "            background-color:  #def2d9;\n",
       "            color:  #000000;\n",
       "        }    #T_d20f6950_986a_11ea_9644_186024b5ab97row6_col0 {\n",
       "            background-color:  #e2f4dd;\n",
       "            color:  #000000;\n",
       "        }    #T_d20f6950_986a_11ea_9644_186024b5ab97row7_col0 {\n",
       "            background-color:  #ebf7e7;\n",
       "            color:  #000000;\n",
       "        }    #T_d20f6950_986a_11ea_9644_186024b5ab97row8_col0 {\n",
       "            background-color:  #ecf8e8;\n",
       "            color:  #000000;\n",
       "        }    #T_d20f6950_986a_11ea_9644_186024b5ab97row9_col0 {\n",
       "            background-color:  #eef8ea;\n",
       "            color:  #000000;\n",
       "        }    #T_d20f6950_986a_11ea_9644_186024b5ab97row10_col0 {\n",
       "            background-color:  #f0f9ed;\n",
       "            color:  #000000;\n",
       "        }    #T_d20f6950_986a_11ea_9644_186024b5ab97row11_col0 {\n",
       "            background-color:  #f2faef;\n",
       "            color:  #000000;\n",
       "        }    #T_d20f6950_986a_11ea_9644_186024b5ab97row12_col0 {\n",
       "            background-color:  #f2faef;\n",
       "            color:  #000000;\n",
       "        }    #T_d20f6950_986a_11ea_9644_186024b5ab97row13_col0 {\n",
       "            background-color:  #f2faef;\n",
       "            color:  #000000;\n",
       "        }    #T_d20f6950_986a_11ea_9644_186024b5ab97row14_col0 {\n",
       "            background-color:  #f3faf0;\n",
       "            color:  #000000;\n",
       "        }    #T_d20f6950_986a_11ea_9644_186024b5ab97row15_col0 {\n",
       "            background-color:  #f4fbf1;\n",
       "            color:  #000000;\n",
       "        }    #T_d20f6950_986a_11ea_9644_186024b5ab97row16_col0 {\n",
       "            background-color:  #f5fbf2;\n",
       "            color:  #000000;\n",
       "        }    #T_d20f6950_986a_11ea_9644_186024b5ab97row17_col0 {\n",
       "            background-color:  #f6fcf4;\n",
       "            color:  #000000;\n",
       "        }    #T_d20f6950_986a_11ea_9644_186024b5ab97row18_col0 {\n",
       "            background-color:  #f6fcf4;\n",
       "            color:  #000000;\n",
       "        }    #T_d20f6950_986a_11ea_9644_186024b5ab97row19_col0 {\n",
       "            background-color:  #f6fcf4;\n",
       "            color:  #000000;\n",
       "        }    #T_d20f6950_986a_11ea_9644_186024b5ab97row20_col0 {\n",
       "            background-color:  #f7fcf5;\n",
       "            color:  #000000;\n",
       "        }    #T_d20f6950_986a_11ea_9644_186024b5ab97row21_col0 {\n",
       "            background-color:  #f7fcf5;\n",
       "            color:  #000000;\n",
       "        }    #T_d20f6950_986a_11ea_9644_186024b5ab97row22_col0 {\n",
       "            background-color:  #f7fcf5;\n",
       "            color:  #000000;\n",
       "        }    #T_d20f6950_986a_11ea_9644_186024b5ab97row23_col0 {\n",
       "            background-color:  #f7fcf5;\n",
       "            color:  #000000;\n",
       "        }    #T_d20f6950_986a_11ea_9644_186024b5ab97row24_col0 {\n",
       "            background-color:  #f7fcf5;\n",
       "            color:  #000000;\n",
       "        }    #T_d20f6950_986a_11ea_9644_186024b5ab97row25_col0 {\n",
       "            background-color:  #f7fcf5;\n",
       "            color:  #000000;\n",
       "        }    #T_d20f6950_986a_11ea_9644_186024b5ab97row26_col0 {\n",
       "            background-color:  #f7fcf5;\n",
       "            color:  #000000;\n",
       "        }    #T_d20f6950_986a_11ea_9644_186024b5ab97row27_col0 {\n",
       "            background-color:  #f7fcf5;\n",
       "            color:  #000000;\n",
       "        }    #T_d20f6950_986a_11ea_9644_186024b5ab97row28_col0 {\n",
       "            background-color:  #f7fcf5;\n",
       "            color:  #000000;\n",
       "        }    #T_d20f6950_986a_11ea_9644_186024b5ab97row29_col0 {\n",
       "            background-color:  #f7fcf5;\n",
       "            color:  #000000;\n",
       "        }    #T_d20f6950_986a_11ea_9644_186024b5ab97row30_col0 {\n",
       "            background-color:  #f7fcf5;\n",
       "            color:  #000000;\n",
       "        }    #T_d20f6950_986a_11ea_9644_186024b5ab97row31_col0 {\n",
       "            background-color:  #f7fcf5;\n",
       "            color:  #000000;\n",
       "        }    #T_d20f6950_986a_11ea_9644_186024b5ab97row32_col0 {\n",
       "            background-color:  #f7fcf5;\n",
       "            color:  #000000;\n",
       "        }</style><table id=\"T_d20f6950_986a_11ea_9644_186024b5ab97\" ><thead>    <tr>        <th class=\"blank level0\" ></th>        <th class=\"col_heading level0 col0\" >Total confirmed Cases</th>    </tr>    <tr>        <th class=\"index_name level0\" >Name of State / UT</th>        <th class=\"blank\" ></th>    </tr></thead><tbody>\n",
       "                <tr>\n",
       "                        <th id=\"T_d20f6950_986a_11ea_9644_186024b5ab97level0_row0\" class=\"row_heading level0 row0\" >Maharashtra</th>\n",
       "                        <td id=\"T_d20f6950_986a_11ea_9644_186024b5ab97row0_col0\" class=\"data row0 col0\" >30706</td>\n",
       "            </tr>\n",
       "            <tr>\n",
       "                        <th id=\"T_d20f6950_986a_11ea_9644_186024b5ab97level0_row1\" class=\"row_heading level0 row1\" >Gujarat</th>\n",
       "                        <td id=\"T_d20f6950_986a_11ea_9644_186024b5ab97row1_col0\" class=\"data row1 col0\" >10988</td>\n",
       "            </tr>\n",
       "            <tr>\n",
       "                        <th id=\"T_d20f6950_986a_11ea_9644_186024b5ab97level0_row2\" class=\"row_heading level0 row2\" >Tamil Nadu</th>\n",
       "                        <td id=\"T_d20f6950_986a_11ea_9644_186024b5ab97row2_col0\" class=\"data row2 col0\" >10585</td>\n",
       "            </tr>\n",
       "            <tr>\n",
       "                        <th id=\"T_d20f6950_986a_11ea_9644_186024b5ab97level0_row3\" class=\"row_heading level0 row3\" >Delhi</th>\n",
       "                        <td id=\"T_d20f6950_986a_11ea_9644_186024b5ab97row3_col0\" class=\"data row3 col0\" >9333</td>\n",
       "            </tr>\n",
       "            <tr>\n",
       "                        <th id=\"T_d20f6950_986a_11ea_9644_186024b5ab97level0_row4\" class=\"row_heading level0 row4\" >Rajasthan</th>\n",
       "                        <td id=\"T_d20f6950_986a_11ea_9644_186024b5ab97row4_col0\" class=\"data row4 col0\" >4960</td>\n",
       "            </tr>\n",
       "            <tr>\n",
       "                        <th id=\"T_d20f6950_986a_11ea_9644_186024b5ab97level0_row5\" class=\"row_heading level0 row5\" >Madhya Pradesh</th>\n",
       "                        <td id=\"T_d20f6950_986a_11ea_9644_186024b5ab97row5_col0\" class=\"data row5 col0\" >4789</td>\n",
       "            </tr>\n",
       "            <tr>\n",
       "                        <th id=\"T_d20f6950_986a_11ea_9644_186024b5ab97level0_row6\" class=\"row_heading level0 row6\" >Uttar Pradesh</th>\n",
       "                        <td id=\"T_d20f6950_986a_11ea_9644_186024b5ab97row6_col0\" class=\"data row6 col0\" >4258</td>\n",
       "            </tr>\n",
       "            <tr>\n",
       "                        <th id=\"T_d20f6950_986a_11ea_9644_186024b5ab97level0_row7\" class=\"row_heading level0 row7\" >West Bengal</th>\n",
       "                        <td id=\"T_d20f6950_986a_11ea_9644_186024b5ab97row7_col0\" class=\"data row7 col0\" >2576</td>\n",
       "            </tr>\n",
       "            <tr>\n",
       "                        <th id=\"T_d20f6950_986a_11ea_9644_186024b5ab97level0_row8\" class=\"row_heading level0 row8\" >Andhra Pradesh</th>\n",
       "                        <td id=\"T_d20f6950_986a_11ea_9644_186024b5ab97row8_col0\" class=\"data row8 col0\" >2355</td>\n",
       "            </tr>\n",
       "            <tr>\n",
       "                        <th id=\"T_d20f6950_986a_11ea_9644_186024b5ab97level0_row9\" class=\"row_heading level0 row9\" >Punjab</th>\n",
       "                        <td id=\"T_d20f6950_986a_11ea_9644_186024b5ab97row9_col0\" class=\"data row9 col0\" >1946</td>\n",
       "            </tr>\n",
       "            <tr>\n",
       "                        <th id=\"T_d20f6950_986a_11ea_9644_186024b5ab97level0_row10\" class=\"row_heading level0 row10\" >Telengana</th>\n",
       "                        <td id=\"T_d20f6950_986a_11ea_9644_186024b5ab97row10_col0\" class=\"data row10 col0\" >1509</td>\n",
       "            </tr>\n",
       "            <tr>\n",
       "                        <th id=\"T_d20f6950_986a_11ea_9644_186024b5ab97level0_row11\" class=\"row_heading level0 row11\" >Bihar</th>\n",
       "                        <td id=\"T_d20f6950_986a_11ea_9644_186024b5ab97row11_col0\" class=\"data row11 col0\" >1179</td>\n",
       "            </tr>\n",
       "            <tr>\n",
       "                        <th id=\"T_d20f6950_986a_11ea_9644_186024b5ab97level0_row12\" class=\"row_heading level0 row12\" >Jammu and Kashmir</th>\n",
       "                        <td id=\"T_d20f6950_986a_11ea_9644_186024b5ab97row12_col0\" class=\"data row12 col0\" >1121</td>\n",
       "            </tr>\n",
       "            <tr>\n",
       "                        <th id=\"T_d20f6950_986a_11ea_9644_186024b5ab97level0_row13\" class=\"row_heading level0 row13\" >Karnataka</th>\n",
       "                        <td id=\"T_d20f6950_986a_11ea_9644_186024b5ab97row13_col0\" class=\"data row13 col0\" >1092</td>\n",
       "            </tr>\n",
       "            <tr>\n",
       "                        <th id=\"T_d20f6950_986a_11ea_9644_186024b5ab97level0_row14\" class=\"row_heading level0 row14\" >Haryana</th>\n",
       "                        <td id=\"T_d20f6950_986a_11ea_9644_186024b5ab97row14_col0\" class=\"data row14 col0\" >887</td>\n",
       "            </tr>\n",
       "            <tr>\n",
       "                        <th id=\"T_d20f6950_986a_11ea_9644_186024b5ab97level0_row15\" class=\"row_heading level0 row15\" >Odisha</th>\n",
       "                        <td id=\"T_d20f6950_986a_11ea_9644_186024b5ab97row15_col0\" class=\"data row15 col0\" >737</td>\n",
       "            </tr>\n",
       "            <tr>\n",
       "                        <th id=\"T_d20f6950_986a_11ea_9644_186024b5ab97level0_row16\" class=\"row_heading level0 row16\" >Kerala</th>\n",
       "                        <td id=\"T_d20f6950_986a_11ea_9644_186024b5ab97row16_col0\" class=\"data row16 col0\" >587</td>\n",
       "            </tr>\n",
       "            <tr>\n",
       "                        <th id=\"T_d20f6950_986a_11ea_9644_186024b5ab97level0_row17\" class=\"row_heading level0 row17\" >Jharkhand</th>\n",
       "                        <td id=\"T_d20f6950_986a_11ea_9644_186024b5ab97row17_col0\" class=\"data row17 col0\" >217</td>\n",
       "            </tr>\n",
       "            <tr>\n",
       "                        <th id=\"T_d20f6950_986a_11ea_9644_186024b5ab97level0_row18\" class=\"row_heading level0 row18\" >Chandigarh</th>\n",
       "                        <td id=\"T_d20f6950_986a_11ea_9644_186024b5ab97row18_col0\" class=\"data row18 col0\" >191</td>\n",
       "            </tr>\n",
       "            <tr>\n",
       "                        <th id=\"T_d20f6950_986a_11ea_9644_186024b5ab97level0_row19\" class=\"row_heading level0 row19\" >Tripura</th>\n",
       "                        <td id=\"T_d20f6950_986a_11ea_9644_186024b5ab97row19_col0\" class=\"data row19 col0\" >167</td>\n",
       "            </tr>\n",
       "            <tr>\n",
       "                        <th id=\"T_d20f6950_986a_11ea_9644_186024b5ab97level0_row20\" class=\"row_heading level0 row20\" >Assam</th>\n",
       "                        <td id=\"T_d20f6950_986a_11ea_9644_186024b5ab97row20_col0\" class=\"data row20 col0\" >92</td>\n",
       "            </tr>\n",
       "            <tr>\n",
       "                        <th id=\"T_d20f6950_986a_11ea_9644_186024b5ab97level0_row21\" class=\"row_heading level0 row21\" >Uttarakhand</th>\n",
       "                        <td id=\"T_d20f6950_986a_11ea_9644_186024b5ab97row21_col0\" class=\"data row21 col0\" >88</td>\n",
       "            </tr>\n",
       "            <tr>\n",
       "                        <th id=\"T_d20f6950_986a_11ea_9644_186024b5ab97level0_row22\" class=\"row_heading level0 row22\" >Himachal Pradesh</th>\n",
       "                        <td id=\"T_d20f6950_986a_11ea_9644_186024b5ab97row22_col0\" class=\"data row22 col0\" >78</td>\n",
       "            </tr>\n",
       "            <tr>\n",
       "                        <th id=\"T_d20f6950_986a_11ea_9644_186024b5ab97level0_row23\" class=\"row_heading level0 row23\" >Chhattisgarh</th>\n",
       "                        <td id=\"T_d20f6950_986a_11ea_9644_186024b5ab97row23_col0\" class=\"data row23 col0\" >67</td>\n",
       "            </tr>\n",
       "            <tr>\n",
       "                        <th id=\"T_d20f6950_986a_11ea_9644_186024b5ab97level0_row24\" class=\"row_heading level0 row24\" >Ladakh</th>\n",
       "                        <td id=\"T_d20f6950_986a_11ea_9644_186024b5ab97row24_col0\" class=\"data row24 col0\" >43</td>\n",
       "            </tr>\n",
       "            <tr>\n",
       "                        <th id=\"T_d20f6950_986a_11ea_9644_186024b5ab97level0_row25\" class=\"row_heading level0 row25\" >Andaman and Nicobar Islands</th>\n",
       "                        <td id=\"T_d20f6950_986a_11ea_9644_186024b5ab97row25_col0\" class=\"data row25 col0\" >33</td>\n",
       "            </tr>\n",
       "            <tr>\n",
       "                        <th id=\"T_d20f6950_986a_11ea_9644_186024b5ab97level0_row26\" class=\"row_heading level0 row26\" >Goa</th>\n",
       "                        <td id=\"T_d20f6950_986a_11ea_9644_186024b5ab97row26_col0\" class=\"data row26 col0\" >17</td>\n",
       "            </tr>\n",
       "            <tr>\n",
       "                        <th id=\"T_d20f6950_986a_11ea_9644_186024b5ab97level0_row27\" class=\"row_heading level0 row27\" >Meghalaya</th>\n",
       "                        <td id=\"T_d20f6950_986a_11ea_9644_186024b5ab97row27_col0\" class=\"data row27 col0\" >13</td>\n",
       "            </tr>\n",
       "            <tr>\n",
       "                        <th id=\"T_d20f6950_986a_11ea_9644_186024b5ab97level0_row28\" class=\"row_heading level0 row28\" >Puducherry</th>\n",
       "                        <td id=\"T_d20f6950_986a_11ea_9644_186024b5ab97row28_col0\" class=\"data row28 col0\" >13</td>\n",
       "            </tr>\n",
       "            <tr>\n",
       "                        <th id=\"T_d20f6950_986a_11ea_9644_186024b5ab97level0_row29\" class=\"row_heading level0 row29\" >Manipur</th>\n",
       "                        <td id=\"T_d20f6950_986a_11ea_9644_186024b5ab97row29_col0\" class=\"data row29 col0\" >7</td>\n",
       "            </tr>\n",
       "            <tr>\n",
       "                        <th id=\"T_d20f6950_986a_11ea_9644_186024b5ab97level0_row30\" class=\"row_heading level0 row30\" >Mizoram</th>\n",
       "                        <td id=\"T_d20f6950_986a_11ea_9644_186024b5ab97row30_col0\" class=\"data row30 col0\" >1</td>\n",
       "            </tr>\n",
       "            <tr>\n",
       "                        <th id=\"T_d20f6950_986a_11ea_9644_186024b5ab97level0_row31\" class=\"row_heading level0 row31\" >Dadar Nagar Haveli</th>\n",
       "                        <td id=\"T_d20f6950_986a_11ea_9644_186024b5ab97row31_col0\" class=\"data row31 col0\" >1</td>\n",
       "            </tr>\n",
       "            <tr>\n",
       "                        <th id=\"T_d20f6950_986a_11ea_9644_186024b5ab97level0_row32\" class=\"row_heading level0 row32\" >Arunachal Pradesh</th>\n",
       "                        <td id=\"T_d20f6950_986a_11ea_9644_186024b5ab97row32_col0\" class=\"data row32 col0\" >1</td>\n",
       "            </tr>\n",
       "    </tbody></table>"
      ],
      "text/plain": [
       "<pandas.io.formats.style.Styler at 0x1fd7aebaf48>"
      ]
     },
     "execution_count": 11,
     "metadata": {},
     "output_type": "execute_result"
    }
   ],
   "source": [
    "Total_Active_Cases=df.groupby('Name of State / UT')['Total confirmed Cases'].sum().sort_values(ascending=False).to_frame()\n",
    "Total_Active_Cases.style.background_gradient(cmap='Greens')"
   ]
  },
  {
   "cell_type": "markdown",
   "metadata": {},
   "source": [
    "# Present Situation of Active Cases in India"
   ]
  },
  {
   "cell_type": "code",
   "execution_count": 12,
   "metadata": {},
   "outputs": [
    {
     "data": {
      "text/html": [
       "<style  type=\"text/css\" >\n",
       "    #T_d232b622_986a_11ea_9140_186024b5ab97row0_col0 {\n",
       "            background-color:  #00441b;\n",
       "            color:  #f1f1f1;\n",
       "        }    #T_d232b622_986a_11ea_9140_186024b5ab97row1_col0 {\n",
       "            background-color:  #b5e1ae;\n",
       "            color:  #000000;\n",
       "        }    #T_d232b622_986a_11ea_9140_186024b5ab97row2_col0 {\n",
       "            background-color:  #c2e7bb;\n",
       "            color:  #000000;\n",
       "        }    #T_d232b622_986a_11ea_9140_186024b5ab97row3_col0 {\n",
       "            background-color:  #cbeac4;\n",
       "            color:  #000000;\n",
       "        }    #T_d232b622_986a_11ea_9140_186024b5ab97row4_col0 {\n",
       "            background-color:  #e9f7e5;\n",
       "            color:  #000000;\n",
       "        }    #T_d232b622_986a_11ea_9140_186024b5ab97row5_col0 {\n",
       "            background-color:  #ebf7e7;\n",
       "            color:  #000000;\n",
       "        }    #T_d232b622_986a_11ea_9140_186024b5ab97row6_col0 {\n",
       "            background-color:  #ecf8e8;\n",
       "            color:  #000000;\n",
       "        }    #T_d232b622_986a_11ea_9140_186024b5ab97row7_col0 {\n",
       "            background-color:  #eef8ea;\n",
       "            color:  #000000;\n",
       "        }    #T_d232b622_986a_11ea_9140_186024b5ab97row8_col0 {\n",
       "            background-color:  #f1faee;\n",
       "            color:  #000000;\n",
       "        }    #T_d232b622_986a_11ea_9140_186024b5ab97row9_col0 {\n",
       "            background-color:  #f2faf0;\n",
       "            color:  #000000;\n",
       "        }    #T_d232b622_986a_11ea_9140_186024b5ab97row10_col0 {\n",
       "            background-color:  #f3faf0;\n",
       "            color:  #000000;\n",
       "        }    #T_d232b622_986a_11ea_9140_186024b5ab97row11_col0 {\n",
       "            background-color:  #f4fbf1;\n",
       "            color:  #000000;\n",
       "        }    #T_d232b622_986a_11ea_9140_186024b5ab97row12_col0 {\n",
       "            background-color:  #f4fbf1;\n",
       "            color:  #000000;\n",
       "        }    #T_d232b622_986a_11ea_9140_186024b5ab97row13_col0 {\n",
       "            background-color:  #f4fbf1;\n",
       "            color:  #000000;\n",
       "        }    #T_d232b622_986a_11ea_9140_186024b5ab97row14_col0 {\n",
       "            background-color:  #f4fbf2;\n",
       "            color:  #000000;\n",
       "        }    #T_d232b622_986a_11ea_9140_186024b5ab97row15_col0 {\n",
       "            background-color:  #f5fbf2;\n",
       "            color:  #000000;\n",
       "        }    #T_d232b622_986a_11ea_9140_186024b5ab97row16_col0 {\n",
       "            background-color:  #f6fcf4;\n",
       "            color:  #000000;\n",
       "        }    #T_d232b622_986a_11ea_9140_186024b5ab97row17_col0 {\n",
       "            background-color:  #f6fcf4;\n",
       "            color:  #000000;\n",
       "        }    #T_d232b622_986a_11ea_9140_186024b5ab97row18_col0 {\n",
       "            background-color:  #f6fcf4;\n",
       "            color:  #000000;\n",
       "        }    #T_d232b622_986a_11ea_9140_186024b5ab97row19_col0 {\n",
       "            background-color:  #f6fcf4;\n",
       "            color:  #000000;\n",
       "        }    #T_d232b622_986a_11ea_9140_186024b5ab97row20_col0 {\n",
       "            background-color:  #f7fcf5;\n",
       "            color:  #000000;\n",
       "        }    #T_d232b622_986a_11ea_9140_186024b5ab97row21_col0 {\n",
       "            background-color:  #f7fcf5;\n",
       "            color:  #000000;\n",
       "        }    #T_d232b622_986a_11ea_9140_186024b5ab97row22_col0 {\n",
       "            background-color:  #f7fcf5;\n",
       "            color:  #000000;\n",
       "        }    #T_d232b622_986a_11ea_9140_186024b5ab97row23_col0 {\n",
       "            background-color:  #f7fcf5;\n",
       "            color:  #000000;\n",
       "        }    #T_d232b622_986a_11ea_9140_186024b5ab97row24_col0 {\n",
       "            background-color:  #f7fcf5;\n",
       "            color:  #000000;\n",
       "        }    #T_d232b622_986a_11ea_9140_186024b5ab97row25_col0 {\n",
       "            background-color:  #f7fcf5;\n",
       "            color:  #000000;\n",
       "        }    #T_d232b622_986a_11ea_9140_186024b5ab97row26_col0 {\n",
       "            background-color:  #f7fcf5;\n",
       "            color:  #000000;\n",
       "        }    #T_d232b622_986a_11ea_9140_186024b5ab97row27_col0 {\n",
       "            background-color:  #f7fcf5;\n",
       "            color:  #000000;\n",
       "        }    #T_d232b622_986a_11ea_9140_186024b5ab97row28_col0 {\n",
       "            background-color:  #f7fcf5;\n",
       "            color:  #000000;\n",
       "        }    #T_d232b622_986a_11ea_9140_186024b5ab97row29_col0 {\n",
       "            background-color:  #f7fcf5;\n",
       "            color:  #000000;\n",
       "        }    #T_d232b622_986a_11ea_9140_186024b5ab97row30_col0 {\n",
       "            background-color:  #f7fcf5;\n",
       "            color:  #000000;\n",
       "        }    #T_d232b622_986a_11ea_9140_186024b5ab97row31_col0 {\n",
       "            background-color:  #f7fcf5;\n",
       "            color:  #000000;\n",
       "        }    #T_d232b622_986a_11ea_9140_186024b5ab97row32_col0 {\n",
       "            background-color:  #f7fcf5;\n",
       "            color:  #000000;\n",
       "        }</style><table id=\"T_d232b622_986a_11ea_9140_186024b5ab97\" ><thead>    <tr>        <th class=\"blank level0\" ></th>        <th class=\"col_heading level0 col0\" >Active Cases</th>    </tr>    <tr>        <th class=\"index_name level0\" >Name of State / UT</th>        <th class=\"blank\" ></th>    </tr></thead><tbody>\n",
       "                <tr>\n",
       "                        <th id=\"T_d232b622_986a_11ea_9140_186024b5ab97level0_row0\" class=\"row_heading level0 row0\" >Maharashtra</th>\n",
       "                        <td id=\"T_d232b622_986a_11ea_9140_186024b5ab97row0_col0\" class=\"data row0 col0\" >22483</td>\n",
       "            </tr>\n",
       "            <tr>\n",
       "                        <th id=\"T_d232b622_986a_11ea_9140_186024b5ab97level0_row1\" class=\"row_heading level0 row1\" >Tamil Nadu</th>\n",
       "                        <td id=\"T_d232b622_986a_11ea_9140_186024b5ab97row1_col0\" class=\"data row1 col0\" >6973</td>\n",
       "            </tr>\n",
       "            <tr>\n",
       "                        <th id=\"T_d232b622_986a_11ea_9140_186024b5ab97level0_row2\" class=\"row_heading level0 row2\" >Gujarat</th>\n",
       "                        <td id=\"T_d232b622_986a_11ea_9140_186024b5ab97row2_col0\" class=\"data row2 col0\" >6055</td>\n",
       "            </tr>\n",
       "            <tr>\n",
       "                        <th id=\"T_d232b622_986a_11ea_9140_186024b5ab97level0_row3\" class=\"row_heading level0 row3\" >Delhi</th>\n",
       "                        <td id=\"T_d232b622_986a_11ea_9140_186024b5ab97row3_col0\" class=\"data row3 col0\" >5278</td>\n",
       "            </tr>\n",
       "            <tr>\n",
       "                        <th id=\"T_d232b622_986a_11ea_9140_186024b5ab97level0_row4\" class=\"row_heading level0 row4\" >Madhya Pradesh</th>\n",
       "                        <td id=\"T_d232b622_986a_11ea_9140_186024b5ab97row4_col0\" class=\"data row4 col0\" >2231</td>\n",
       "            </tr>\n",
       "            <tr>\n",
       "                        <th id=\"T_d232b622_986a_11ea_9140_186024b5ab97level0_row5\" class=\"row_heading level0 row5\" >Rajasthan</th>\n",
       "                        <td id=\"T_d232b622_986a_11ea_9140_186024b5ab97row5_col0\" class=\"data row5 col0\" >1995</td>\n",
       "            </tr>\n",
       "            <tr>\n",
       "                        <th id=\"T_d232b622_986a_11ea_9140_186024b5ab97level0_row6\" class=\"row_heading level0 row6\" >Uttar Pradesh</th>\n",
       "                        <td id=\"T_d232b622_986a_11ea_9140_186024b5ab97row6_col0\" class=\"data row6 col0\" >1713</td>\n",
       "            </tr>\n",
       "            <tr>\n",
       "                        <th id=\"T_d232b622_986a_11ea_9140_186024b5ab97level0_row7\" class=\"row_heading level0 row7\" >West Bengal</th>\n",
       "                        <td id=\"T_d232b622_986a_11ea_9140_186024b5ab97row7_col0\" class=\"data row7 col0\" >1472</td>\n",
       "            </tr>\n",
       "            <tr>\n",
       "                        <th id=\"T_d232b622_986a_11ea_9140_186024b5ab97level0_row8\" class=\"row_heading level0 row8\" >Andhra Pradesh</th>\n",
       "                        <td id=\"T_d232b622_986a_11ea_9140_186024b5ab97row8_col0\" class=\"data row8 col0\" >953</td>\n",
       "            </tr>\n",
       "            <tr>\n",
       "                        <th id=\"T_d232b622_986a_11ea_9140_186024b5ab97level0_row9\" class=\"row_heading level0 row9\" >Bihar</th>\n",
       "                        <td id=\"T_d232b622_986a_11ea_9140_186024b5ab97row9_col0\" class=\"data row9 col0\" >719</td>\n",
       "            </tr>\n",
       "            <tr>\n",
       "                        <th id=\"T_d232b622_986a_11ea_9140_186024b5ab97level0_row10\" class=\"row_heading level0 row10\" >Punjab</th>\n",
       "                        <td id=\"T_d232b622_986a_11ea_9140_186024b5ab97row10_col0\" class=\"data row10 col0\" >657</td>\n",
       "            </tr>\n",
       "            <tr>\n",
       "                        <th id=\"T_d232b622_986a_11ea_9140_186024b5ab97level0_row11\" class=\"row_heading level0 row11\" >Jammu and Kashmir</th>\n",
       "                        <td id=\"T_d232b622_986a_11ea_9140_186024b5ab97row11_col0\" class=\"data row11 col0\" >567</td>\n",
       "            </tr>\n",
       "            <tr>\n",
       "                        <th id=\"T_d232b622_986a_11ea_9140_186024b5ab97level0_row12\" class=\"row_heading level0 row12\" >Karnataka</th>\n",
       "                        <td id=\"T_d232b622_986a_11ea_9140_186024b5ab97row12_col0\" class=\"data row12 col0\" >560</td>\n",
       "            </tr>\n",
       "            <tr>\n",
       "                        <th id=\"T_d232b622_986a_11ea_9140_186024b5ab97level0_row13\" class=\"row_heading level0 row13\" >Odisha</th>\n",
       "                        <td id=\"T_d232b622_986a_11ea_9140_186024b5ab97row13_col0\" class=\"data row13 col0\" >538</td>\n",
       "            </tr>\n",
       "            <tr>\n",
       "                        <th id=\"T_d232b622_986a_11ea_9140_186024b5ab97level0_row14\" class=\"row_heading level0 row14\" >Telengana</th>\n",
       "                        <td id=\"T_d232b622_986a_11ea_9140_186024b5ab97row14_col0\" class=\"data row14 col0\" >504</td>\n",
       "            </tr>\n",
       "            <tr>\n",
       "                        <th id=\"T_d232b622_986a_11ea_9140_186024b5ab97level0_row15\" class=\"row_heading level0 row15\" >Haryana</th>\n",
       "                        <td id=\"T_d232b622_986a_11ea_9140_186024b5ab97row15_col0\" class=\"data row15 col0\" >360</td>\n",
       "            </tr>\n",
       "            <tr>\n",
       "                        <th id=\"T_d232b622_986a_11ea_9140_186024b5ab97level0_row16\" class=\"row_heading level0 row16\" >Chandigarh</th>\n",
       "                        <td id=\"T_d232b622_986a_11ea_9140_186024b5ab97row16_col0\" class=\"data row16 col0\" >137</td>\n",
       "            </tr>\n",
       "            <tr>\n",
       "                        <th id=\"T_d232b622_986a_11ea_9140_186024b5ab97level0_row17\" class=\"row_heading level0 row17\" >Tripura</th>\n",
       "                        <td id=\"T_d232b622_986a_11ea_9140_186024b5ab97row17_col0\" class=\"data row17 col0\" >103</td>\n",
       "            </tr>\n",
       "            <tr>\n",
       "                        <th id=\"T_d232b622_986a_11ea_9140_186024b5ab97level0_row18\" class=\"row_heading level0 row18\" >Jharkhand</th>\n",
       "                        <td id=\"T_d232b622_986a_11ea_9140_186024b5ab97row18_col0\" class=\"data row18 col0\" >101</td>\n",
       "            </tr>\n",
       "            <tr>\n",
       "                        <th id=\"T_d232b622_986a_11ea_9140_186024b5ab97level0_row19\" class=\"row_heading level0 row19\" >Kerala</th>\n",
       "                        <td id=\"T_d232b622_986a_11ea_9140_186024b5ab97row19_col0\" class=\"data row19 col0\" >88</td>\n",
       "            </tr>\n",
       "            <tr>\n",
       "                        <th id=\"T_d232b622_986a_11ea_9140_186024b5ab97level0_row20\" class=\"row_heading level0 row20\" >Assam</th>\n",
       "                        <td id=\"T_d232b622_986a_11ea_9140_186024b5ab97row20_col0\" class=\"data row20 col0\" >49</td>\n",
       "            </tr>\n",
       "            <tr>\n",
       "                        <th id=\"T_d232b622_986a_11ea_9140_186024b5ab97level0_row21\" class=\"row_heading level0 row21\" >Uttarakhand</th>\n",
       "                        <td id=\"T_d232b622_986a_11ea_9140_186024b5ab97row21_col0\" class=\"data row21 col0\" >36</td>\n",
       "            </tr>\n",
       "            <tr>\n",
       "                        <th id=\"T_d232b622_986a_11ea_9140_186024b5ab97level0_row22\" class=\"row_heading level0 row22\" >Himachal Pradesh</th>\n",
       "                        <td id=\"T_d232b622_986a_11ea_9140_186024b5ab97row22_col0\" class=\"data row22 col0\" >32</td>\n",
       "            </tr>\n",
       "            <tr>\n",
       "                        <th id=\"T_d232b622_986a_11ea_9140_186024b5ab97level0_row23\" class=\"row_heading level0 row23\" >Ladakh</th>\n",
       "                        <td id=\"T_d232b622_986a_11ea_9140_186024b5ab97row23_col0\" class=\"data row23 col0\" >21</td>\n",
       "            </tr>\n",
       "            <tr>\n",
       "                        <th id=\"T_d232b622_986a_11ea_9140_186024b5ab97level0_row24\" class=\"row_heading level0 row24\" >Chhattisgarh</th>\n",
       "                        <td id=\"T_d232b622_986a_11ea_9140_186024b5ab97row24_col0\" class=\"data row24 col0\" >11</td>\n",
       "            </tr>\n",
       "            <tr>\n",
       "                        <th id=\"T_d232b622_986a_11ea_9140_186024b5ab97level0_row25\" class=\"row_heading level0 row25\" >Goa</th>\n",
       "                        <td id=\"T_d232b622_986a_11ea_9140_186024b5ab97row25_col0\" class=\"data row25 col0\" >10</td>\n",
       "            </tr>\n",
       "            <tr>\n",
       "                        <th id=\"T_d232b622_986a_11ea_9140_186024b5ab97level0_row26\" class=\"row_heading level0 row26\" >Manipur</th>\n",
       "                        <td id=\"T_d232b622_986a_11ea_9140_186024b5ab97row26_col0\" class=\"data row26 col0\" >5</td>\n",
       "            </tr>\n",
       "            <tr>\n",
       "                        <th id=\"T_d232b622_986a_11ea_9140_186024b5ab97level0_row27\" class=\"row_heading level0 row27\" >Puducherry</th>\n",
       "                        <td id=\"T_d232b622_986a_11ea_9140_186024b5ab97row27_col0\" class=\"data row27 col0\" >3</td>\n",
       "            </tr>\n",
       "            <tr>\n",
       "                        <th id=\"T_d232b622_986a_11ea_9140_186024b5ab97level0_row28\" class=\"row_heading level0 row28\" >Dadar Nagar Haveli</th>\n",
       "                        <td id=\"T_d232b622_986a_11ea_9140_186024b5ab97row28_col0\" class=\"data row28 col0\" >1</td>\n",
       "            </tr>\n",
       "            <tr>\n",
       "                        <th id=\"T_d232b622_986a_11ea_9140_186024b5ab97level0_row29\" class=\"row_heading level0 row29\" >Meghalaya</th>\n",
       "                        <td id=\"T_d232b622_986a_11ea_9140_186024b5ab97row29_col0\" class=\"data row29 col0\" >1</td>\n",
       "            </tr>\n",
       "            <tr>\n",
       "                        <th id=\"T_d232b622_986a_11ea_9140_186024b5ab97level0_row30\" class=\"row_heading level0 row30\" >Mizoram</th>\n",
       "                        <td id=\"T_d232b622_986a_11ea_9140_186024b5ab97row30_col0\" class=\"data row30 col0\" >0</td>\n",
       "            </tr>\n",
       "            <tr>\n",
       "                        <th id=\"T_d232b622_986a_11ea_9140_186024b5ab97level0_row31\" class=\"row_heading level0 row31\" >Arunachal Pradesh</th>\n",
       "                        <td id=\"T_d232b622_986a_11ea_9140_186024b5ab97row31_col0\" class=\"data row31 col0\" >0</td>\n",
       "            </tr>\n",
       "            <tr>\n",
       "                        <th id=\"T_d232b622_986a_11ea_9140_186024b5ab97level0_row32\" class=\"row_heading level0 row32\" >Andaman and Nicobar Islands</th>\n",
       "                        <td id=\"T_d232b622_986a_11ea_9140_186024b5ab97row32_col0\" class=\"data row32 col0\" >0</td>\n",
       "            </tr>\n",
       "    </tbody></table>"
      ],
      "text/plain": [
       "<pandas.io.formats.style.Styler at 0x1fd7aec96c8>"
      ]
     },
     "execution_count": 12,
     "metadata": {},
     "output_type": "execute_result"
    }
   ],
   "source": [
    "Total_Active_Cases=df.groupby('Name of State / UT')['Active Cases'].sum().sort_values(ascending=False).to_frame()\n",
    "Total_Active_Cases.style.background_gradient(cmap='Greens')"
   ]
  },
  {
   "cell_type": "markdown",
   "metadata": {},
   "source": [
    "# Plot of states vs Total Confirmed Cases"
   ]
  },
  {
   "cell_type": "code",
   "execution_count": 13,
   "metadata": {},
   "outputs": [
    {
     "data": {
      "application/vnd.plotly.v1+json": {
       "config": {
        "linkText": "Export to plot.ly",
        "plotlyServerURL": "https://plot.ly",
        "showLink": true
       },
       "data": [
        {
         "line": {
          "color": "rgba(219, 64, 82, 1.0)",
          "dash": "solid",
          "shape": "linear",
          "width": 1.3
         },
         "marker": {
          "size": 20,
          "symbol": "circle"
         },
         "mode": "markers+lines",
         "name": "Total confirmed Cases",
         "text": "",
         "type": "scatter",
         "x": [
          "Andaman and Nicobar Islands",
          "Andhra Pradesh",
          "Arunachal Pradesh",
          "Assam",
          "Bihar",
          "Chandigarh",
          "Chhattisgarh",
          "Dadar Nagar Haveli",
          "Delhi",
          "Goa",
          "Gujarat",
          "Haryana",
          "Himachal Pradesh",
          "Jammu and Kashmir",
          "Jharkhand",
          "Karnataka",
          "Kerala",
          "Ladakh",
          "Madhya Pradesh",
          "Maharashtra",
          "Manipur",
          "Meghalaya",
          "Mizoram",
          "Odisha",
          "Puducherry",
          "Punjab",
          "Rajasthan",
          "Tamil Nadu",
          "Telengana",
          "Tripura",
          "Uttarakhand",
          "Uttar Pradesh",
          "West Bengal"
         ],
         "y": [
          33,
          2355,
          1,
          92,
          1179,
          191,
          67,
          1,
          9333,
          17,
          10988,
          887,
          78,
          1121,
          217,
          1092,
          587,
          43,
          4789,
          30706,
          7,
          13,
          1,
          737,
          13,
          1946,
          4960,
          10585,
          1509,
          167,
          88,
          4258,
          2576
         ]
        }
       ],
       "layout": {
        "legend": {
         "bgcolor": "#F5F6F9",
         "font": {
          "color": "#4D5663"
         }
        },
        "paper_bgcolor": "#F5F6F9",
        "plot_bgcolor": "#F5F6F9",
        "template": {
         "data": {
          "bar": [
           {
            "error_x": {
             "color": "#2a3f5f"
            },
            "error_y": {
             "color": "#2a3f5f"
            },
            "marker": {
             "line": {
              "color": "#E5ECF6",
              "width": 0.5
             }
            },
            "type": "bar"
           }
          ],
          "barpolar": [
           {
            "marker": {
             "line": {
              "color": "#E5ECF6",
              "width": 0.5
             }
            },
            "type": "barpolar"
           }
          ],
          "carpet": [
           {
            "aaxis": {
             "endlinecolor": "#2a3f5f",
             "gridcolor": "white",
             "linecolor": "white",
             "minorgridcolor": "white",
             "startlinecolor": "#2a3f5f"
            },
            "baxis": {
             "endlinecolor": "#2a3f5f",
             "gridcolor": "white",
             "linecolor": "white",
             "minorgridcolor": "white",
             "startlinecolor": "#2a3f5f"
            },
            "type": "carpet"
           }
          ],
          "choropleth": [
           {
            "colorbar": {
             "outlinewidth": 0,
             "ticks": ""
            },
            "type": "choropleth"
           }
          ],
          "contour": [
           {
            "colorbar": {
             "outlinewidth": 0,
             "ticks": ""
            },
            "colorscale": [
             [
              0,
              "#0d0887"
             ],
             [
              0.1111111111111111,
              "#46039f"
             ],
             [
              0.2222222222222222,
              "#7201a8"
             ],
             [
              0.3333333333333333,
              "#9c179e"
             ],
             [
              0.4444444444444444,
              "#bd3786"
             ],
             [
              0.5555555555555556,
              "#d8576b"
             ],
             [
              0.6666666666666666,
              "#ed7953"
             ],
             [
              0.7777777777777778,
              "#fb9f3a"
             ],
             [
              0.8888888888888888,
              "#fdca26"
             ],
             [
              1,
              "#f0f921"
             ]
            ],
            "type": "contour"
           }
          ],
          "contourcarpet": [
           {
            "colorbar": {
             "outlinewidth": 0,
             "ticks": ""
            },
            "type": "contourcarpet"
           }
          ],
          "heatmap": [
           {
            "colorbar": {
             "outlinewidth": 0,
             "ticks": ""
            },
            "colorscale": [
             [
              0,
              "#0d0887"
             ],
             [
              0.1111111111111111,
              "#46039f"
             ],
             [
              0.2222222222222222,
              "#7201a8"
             ],
             [
              0.3333333333333333,
              "#9c179e"
             ],
             [
              0.4444444444444444,
              "#bd3786"
             ],
             [
              0.5555555555555556,
              "#d8576b"
             ],
             [
              0.6666666666666666,
              "#ed7953"
             ],
             [
              0.7777777777777778,
              "#fb9f3a"
             ],
             [
              0.8888888888888888,
              "#fdca26"
             ],
             [
              1,
              "#f0f921"
             ]
            ],
            "type": "heatmap"
           }
          ],
          "heatmapgl": [
           {
            "colorbar": {
             "outlinewidth": 0,
             "ticks": ""
            },
            "colorscale": [
             [
              0,
              "#0d0887"
             ],
             [
              0.1111111111111111,
              "#46039f"
             ],
             [
              0.2222222222222222,
              "#7201a8"
             ],
             [
              0.3333333333333333,
              "#9c179e"
             ],
             [
              0.4444444444444444,
              "#bd3786"
             ],
             [
              0.5555555555555556,
              "#d8576b"
             ],
             [
              0.6666666666666666,
              "#ed7953"
             ],
             [
              0.7777777777777778,
              "#fb9f3a"
             ],
             [
              0.8888888888888888,
              "#fdca26"
             ],
             [
              1,
              "#f0f921"
             ]
            ],
            "type": "heatmapgl"
           }
          ],
          "histogram": [
           {
            "marker": {
             "colorbar": {
              "outlinewidth": 0,
              "ticks": ""
             }
            },
            "type": "histogram"
           }
          ],
          "histogram2d": [
           {
            "colorbar": {
             "outlinewidth": 0,
             "ticks": ""
            },
            "colorscale": [
             [
              0,
              "#0d0887"
             ],
             [
              0.1111111111111111,
              "#46039f"
             ],
             [
              0.2222222222222222,
              "#7201a8"
             ],
             [
              0.3333333333333333,
              "#9c179e"
             ],
             [
              0.4444444444444444,
              "#bd3786"
             ],
             [
              0.5555555555555556,
              "#d8576b"
             ],
             [
              0.6666666666666666,
              "#ed7953"
             ],
             [
              0.7777777777777778,
              "#fb9f3a"
             ],
             [
              0.8888888888888888,
              "#fdca26"
             ],
             [
              1,
              "#f0f921"
             ]
            ],
            "type": "histogram2d"
           }
          ],
          "histogram2dcontour": [
           {
            "colorbar": {
             "outlinewidth": 0,
             "ticks": ""
            },
            "colorscale": [
             [
              0,
              "#0d0887"
             ],
             [
              0.1111111111111111,
              "#46039f"
             ],
             [
              0.2222222222222222,
              "#7201a8"
             ],
             [
              0.3333333333333333,
              "#9c179e"
             ],
             [
              0.4444444444444444,
              "#bd3786"
             ],
             [
              0.5555555555555556,
              "#d8576b"
             ],
             [
              0.6666666666666666,
              "#ed7953"
             ],
             [
              0.7777777777777778,
              "#fb9f3a"
             ],
             [
              0.8888888888888888,
              "#fdca26"
             ],
             [
              1,
              "#f0f921"
             ]
            ],
            "type": "histogram2dcontour"
           }
          ],
          "mesh3d": [
           {
            "colorbar": {
             "outlinewidth": 0,
             "ticks": ""
            },
            "type": "mesh3d"
           }
          ],
          "parcoords": [
           {
            "line": {
             "colorbar": {
              "outlinewidth": 0,
              "ticks": ""
             }
            },
            "type": "parcoords"
           }
          ],
          "pie": [
           {
            "automargin": true,
            "type": "pie"
           }
          ],
          "scatter": [
           {
            "marker": {
             "colorbar": {
              "outlinewidth": 0,
              "ticks": ""
             }
            },
            "type": "scatter"
           }
          ],
          "scatter3d": [
           {
            "line": {
             "colorbar": {
              "outlinewidth": 0,
              "ticks": ""
             }
            },
            "marker": {
             "colorbar": {
              "outlinewidth": 0,
              "ticks": ""
             }
            },
            "type": "scatter3d"
           }
          ],
          "scattercarpet": [
           {
            "marker": {
             "colorbar": {
              "outlinewidth": 0,
              "ticks": ""
             }
            },
            "type": "scattercarpet"
           }
          ],
          "scattergeo": [
           {
            "marker": {
             "colorbar": {
              "outlinewidth": 0,
              "ticks": ""
             }
            },
            "type": "scattergeo"
           }
          ],
          "scattergl": [
           {
            "marker": {
             "colorbar": {
              "outlinewidth": 0,
              "ticks": ""
             }
            },
            "type": "scattergl"
           }
          ],
          "scattermapbox": [
           {
            "marker": {
             "colorbar": {
              "outlinewidth": 0,
              "ticks": ""
             }
            },
            "type": "scattermapbox"
           }
          ],
          "scatterpolar": [
           {
            "marker": {
             "colorbar": {
              "outlinewidth": 0,
              "ticks": ""
             }
            },
            "type": "scatterpolar"
           }
          ],
          "scatterpolargl": [
           {
            "marker": {
             "colorbar": {
              "outlinewidth": 0,
              "ticks": ""
             }
            },
            "type": "scatterpolargl"
           }
          ],
          "scatterternary": [
           {
            "marker": {
             "colorbar": {
              "outlinewidth": 0,
              "ticks": ""
             }
            },
            "type": "scatterternary"
           }
          ],
          "surface": [
           {
            "colorbar": {
             "outlinewidth": 0,
             "ticks": ""
            },
            "colorscale": [
             [
              0,
              "#0d0887"
             ],
             [
              0.1111111111111111,
              "#46039f"
             ],
             [
              0.2222222222222222,
              "#7201a8"
             ],
             [
              0.3333333333333333,
              "#9c179e"
             ],
             [
              0.4444444444444444,
              "#bd3786"
             ],
             [
              0.5555555555555556,
              "#d8576b"
             ],
             [
              0.6666666666666666,
              "#ed7953"
             ],
             [
              0.7777777777777778,
              "#fb9f3a"
             ],
             [
              0.8888888888888888,
              "#fdca26"
             ],
             [
              1,
              "#f0f921"
             ]
            ],
            "type": "surface"
           }
          ],
          "table": [
           {
            "cells": {
             "fill": {
              "color": "#EBF0F8"
             },
             "line": {
              "color": "white"
             }
            },
            "header": {
             "fill": {
              "color": "#C8D4E3"
             },
             "line": {
              "color": "white"
             }
            },
            "type": "table"
           }
          ]
         },
         "layout": {
          "annotationdefaults": {
           "arrowcolor": "#2a3f5f",
           "arrowhead": 0,
           "arrowwidth": 1
          },
          "coloraxis": {
           "colorbar": {
            "outlinewidth": 0,
            "ticks": ""
           }
          },
          "colorscale": {
           "diverging": [
            [
             0,
             "#8e0152"
            ],
            [
             0.1,
             "#c51b7d"
            ],
            [
             0.2,
             "#de77ae"
            ],
            [
             0.3,
             "#f1b6da"
            ],
            [
             0.4,
             "#fde0ef"
            ],
            [
             0.5,
             "#f7f7f7"
            ],
            [
             0.6,
             "#e6f5d0"
            ],
            [
             0.7,
             "#b8e186"
            ],
            [
             0.8,
             "#7fbc41"
            ],
            [
             0.9,
             "#4d9221"
            ],
            [
             1,
             "#276419"
            ]
           ],
           "sequential": [
            [
             0,
             "#0d0887"
            ],
            [
             0.1111111111111111,
             "#46039f"
            ],
            [
             0.2222222222222222,
             "#7201a8"
            ],
            [
             0.3333333333333333,
             "#9c179e"
            ],
            [
             0.4444444444444444,
             "#bd3786"
            ],
            [
             0.5555555555555556,
             "#d8576b"
            ],
            [
             0.6666666666666666,
             "#ed7953"
            ],
            [
             0.7777777777777778,
             "#fb9f3a"
            ],
            [
             0.8888888888888888,
             "#fdca26"
            ],
            [
             1,
             "#f0f921"
            ]
           ],
           "sequentialminus": [
            [
             0,
             "#0d0887"
            ],
            [
             0.1111111111111111,
             "#46039f"
            ],
            [
             0.2222222222222222,
             "#7201a8"
            ],
            [
             0.3333333333333333,
             "#9c179e"
            ],
            [
             0.4444444444444444,
             "#bd3786"
            ],
            [
             0.5555555555555556,
             "#d8576b"
            ],
            [
             0.6666666666666666,
             "#ed7953"
            ],
            [
             0.7777777777777778,
             "#fb9f3a"
            ],
            [
             0.8888888888888888,
             "#fdca26"
            ],
            [
             1,
             "#f0f921"
            ]
           ]
          },
          "colorway": [
           "#636efa",
           "#EF553B",
           "#00cc96",
           "#ab63fa",
           "#FFA15A",
           "#19d3f3",
           "#FF6692",
           "#B6E880",
           "#FF97FF",
           "#FECB52"
          ],
          "font": {
           "color": "#2a3f5f"
          },
          "geo": {
           "bgcolor": "white",
           "lakecolor": "white",
           "landcolor": "#E5ECF6",
           "showlakes": true,
           "showland": true,
           "subunitcolor": "white"
          },
          "hoverlabel": {
           "align": "left"
          },
          "hovermode": "closest",
          "mapbox": {
           "style": "light"
          },
          "paper_bgcolor": "white",
          "plot_bgcolor": "#E5ECF6",
          "polar": {
           "angularaxis": {
            "gridcolor": "white",
            "linecolor": "white",
            "ticks": ""
           },
           "bgcolor": "#E5ECF6",
           "radialaxis": {
            "gridcolor": "white",
            "linecolor": "white",
            "ticks": ""
           }
          },
          "scene": {
           "xaxis": {
            "backgroundcolor": "#E5ECF6",
            "gridcolor": "white",
            "gridwidth": 2,
            "linecolor": "white",
            "showbackground": true,
            "ticks": "",
            "zerolinecolor": "white"
           },
           "yaxis": {
            "backgroundcolor": "#E5ECF6",
            "gridcolor": "white",
            "gridwidth": 2,
            "linecolor": "white",
            "showbackground": true,
            "ticks": "",
            "zerolinecolor": "white"
           },
           "zaxis": {
            "backgroundcolor": "#E5ECF6",
            "gridcolor": "white",
            "gridwidth": 2,
            "linecolor": "white",
            "showbackground": true,
            "ticks": "",
            "zerolinecolor": "white"
           }
          },
          "shapedefaults": {
           "line": {
            "color": "#2a3f5f"
           }
          },
          "ternary": {
           "aaxis": {
            "gridcolor": "white",
            "linecolor": "white",
            "ticks": ""
           },
           "baxis": {
            "gridcolor": "white",
            "linecolor": "white",
            "ticks": ""
           },
           "bgcolor": "#E5ECF6",
           "caxis": {
            "gridcolor": "white",
            "linecolor": "white",
            "ticks": ""
           }
          },
          "title": {
           "x": 0.05
          },
          "xaxis": {
           "automargin": true,
           "gridcolor": "white",
           "linecolor": "white",
           "ticks": "",
           "title": {
            "standoff": 15
           },
           "zerolinecolor": "white",
           "zerolinewidth": 2
          },
          "yaxis": {
           "automargin": true,
           "gridcolor": "white",
           "linecolor": "white",
           "ticks": "",
           "title": {
            "standoff": 15
           },
           "zerolinecolor": "white",
           "zerolinewidth": 2
          }
         }
        },
        "title": {
         "font": {
          "color": "#4D5663"
         },
         "text": "states vs. Confirmed cases"
        },
        "xaxis": {
         "gridcolor": "#E1E5ED",
         "showgrid": true,
         "tickfont": {
          "color": "#4D5663"
         },
         "title": {
          "font": {
           "color": "#4D5663"
          },
          "text": "Name of State / UT"
         },
         "zerolinecolor": "#E1E5ED"
        },
        "yaxis": {
         "gridcolor": "#E1E5ED",
         "showgrid": true,
         "tickfont": {
          "color": "#4D5663"
         },
         "title": {
          "font": {
           "color": "#4D5663"
          },
          "text": "Total Cases"
         },
         "zerolinecolor": "#E1E5ED"
        }
       }
      },
      "text/html": [
       "<div>\n",
       "        \n",
       "        \n",
       "            <div id=\"6c9620a3-a1ea-40bd-adea-0332052037d0\" class=\"plotly-graph-div\" style=\"height:525px; width:100%;\"></div>\n",
       "            <script type=\"text/javascript\">\n",
       "                require([\"plotly\"], function(Plotly) {\n",
       "                    window.PLOTLYENV=window.PLOTLYENV || {};\n",
       "                    window.PLOTLYENV.BASE_URL='https://plot.ly';\n",
       "                    \n",
       "                if (document.getElementById(\"6c9620a3-a1ea-40bd-adea-0332052037d0\")) {\n",
       "                    Plotly.newPlot(\n",
       "                        '6c9620a3-a1ea-40bd-adea-0332052037d0',\n",
       "                        [{\"line\": {\"color\": \"rgba(219, 64, 82, 1.0)\", \"dash\": \"solid\", \"shape\": \"linear\", \"width\": 1.3}, \"marker\": {\"size\": 20, \"symbol\": \"circle\"}, \"mode\": \"markers+lines\", \"name\": \"Total confirmed Cases\", \"text\": \"\", \"type\": \"scatter\", \"x\": [\"Andaman and Nicobar Islands\", \"Andhra Pradesh\", \"Arunachal Pradesh\", \"Assam\", \"Bihar\", \"Chandigarh\", \"Chhattisgarh\", \"Dadar Nagar Haveli\", \"Delhi\", \"Goa\", \"Gujarat\", \"Haryana\", \"Himachal Pradesh\", \"Jammu and Kashmir\", \"Jharkhand\", \"Karnataka\", \"Kerala\", \"Ladakh\", \"Madhya Pradesh\", \"Maharashtra\", \"Manipur\", \"Meghalaya\", \"Mizoram\", \"Odisha\", \"Puducherry\", \"Punjab\", \"Rajasthan\", \"Tamil Nadu\", \"Telengana\", \"Tripura\", \"Uttarakhand\", \"Uttar Pradesh\", \"West Bengal\"], \"y\": [33, 2355, 1, 92, 1179, 191, 67, 1, 9333, 17, 10988, 887, 78, 1121, 217, 1092, 587, 43, 4789, 30706, 7, 13, 1, 737, 13, 1946, 4960, 10585, 1509, 167, 88, 4258, 2576]}],\n",
       "                        {\"legend\": {\"bgcolor\": \"#F5F6F9\", \"font\": {\"color\": \"#4D5663\"}}, \"paper_bgcolor\": \"#F5F6F9\", \"plot_bgcolor\": \"#F5F6F9\", \"template\": {\"data\": {\"bar\": [{\"error_x\": {\"color\": \"#2a3f5f\"}, \"error_y\": {\"color\": \"#2a3f5f\"}, \"marker\": {\"line\": {\"color\": \"#E5ECF6\", \"width\": 0.5}}, \"type\": \"bar\"}], \"barpolar\": [{\"marker\": {\"line\": {\"color\": \"#E5ECF6\", \"width\": 0.5}}, \"type\": \"barpolar\"}], \"carpet\": [{\"aaxis\": {\"endlinecolor\": \"#2a3f5f\", \"gridcolor\": \"white\", \"linecolor\": \"white\", \"minorgridcolor\": \"white\", \"startlinecolor\": \"#2a3f5f\"}, \"baxis\": {\"endlinecolor\": \"#2a3f5f\", \"gridcolor\": \"white\", \"linecolor\": \"white\", \"minorgridcolor\": \"white\", \"startlinecolor\": \"#2a3f5f\"}, \"type\": \"carpet\"}], \"choropleth\": [{\"colorbar\": {\"outlinewidth\": 0, \"ticks\": \"\"}, \"type\": \"choropleth\"}], \"contour\": [{\"colorbar\": {\"outlinewidth\": 0, \"ticks\": \"\"}, \"colorscale\": [[0.0, \"#0d0887\"], [0.1111111111111111, \"#46039f\"], [0.2222222222222222, \"#7201a8\"], [0.3333333333333333, \"#9c179e\"], [0.4444444444444444, \"#bd3786\"], [0.5555555555555556, \"#d8576b\"], [0.6666666666666666, \"#ed7953\"], [0.7777777777777778, \"#fb9f3a\"], [0.8888888888888888, \"#fdca26\"], [1.0, \"#f0f921\"]], \"type\": \"contour\"}], \"contourcarpet\": [{\"colorbar\": {\"outlinewidth\": 0, \"ticks\": \"\"}, \"type\": \"contourcarpet\"}], \"heatmap\": [{\"colorbar\": {\"outlinewidth\": 0, \"ticks\": \"\"}, \"colorscale\": [[0.0, \"#0d0887\"], [0.1111111111111111, \"#46039f\"], [0.2222222222222222, \"#7201a8\"], [0.3333333333333333, \"#9c179e\"], [0.4444444444444444, \"#bd3786\"], [0.5555555555555556, \"#d8576b\"], [0.6666666666666666, \"#ed7953\"], [0.7777777777777778, \"#fb9f3a\"], [0.8888888888888888, \"#fdca26\"], [1.0, \"#f0f921\"]], \"type\": \"heatmap\"}], \"heatmapgl\": [{\"colorbar\": {\"outlinewidth\": 0, \"ticks\": \"\"}, \"colorscale\": [[0.0, \"#0d0887\"], [0.1111111111111111, \"#46039f\"], [0.2222222222222222, \"#7201a8\"], [0.3333333333333333, \"#9c179e\"], [0.4444444444444444, \"#bd3786\"], [0.5555555555555556, \"#d8576b\"], [0.6666666666666666, \"#ed7953\"], [0.7777777777777778, \"#fb9f3a\"], [0.8888888888888888, \"#fdca26\"], [1.0, \"#f0f921\"]], \"type\": \"heatmapgl\"}], \"histogram\": [{\"marker\": {\"colorbar\": {\"outlinewidth\": 0, \"ticks\": \"\"}}, \"type\": \"histogram\"}], \"histogram2d\": [{\"colorbar\": {\"outlinewidth\": 0, \"ticks\": \"\"}, \"colorscale\": [[0.0, \"#0d0887\"], [0.1111111111111111, \"#46039f\"], [0.2222222222222222, \"#7201a8\"], [0.3333333333333333, \"#9c179e\"], [0.4444444444444444, \"#bd3786\"], [0.5555555555555556, \"#d8576b\"], [0.6666666666666666, \"#ed7953\"], [0.7777777777777778, \"#fb9f3a\"], [0.8888888888888888, \"#fdca26\"], [1.0, \"#f0f921\"]], \"type\": \"histogram2d\"}], \"histogram2dcontour\": [{\"colorbar\": {\"outlinewidth\": 0, \"ticks\": \"\"}, \"colorscale\": [[0.0, \"#0d0887\"], [0.1111111111111111, \"#46039f\"], [0.2222222222222222, \"#7201a8\"], [0.3333333333333333, \"#9c179e\"], [0.4444444444444444, \"#bd3786\"], [0.5555555555555556, \"#d8576b\"], [0.6666666666666666, \"#ed7953\"], [0.7777777777777778, \"#fb9f3a\"], [0.8888888888888888, \"#fdca26\"], [1.0, \"#f0f921\"]], \"type\": \"histogram2dcontour\"}], \"mesh3d\": [{\"colorbar\": {\"outlinewidth\": 0, \"ticks\": \"\"}, \"type\": \"mesh3d\"}], \"parcoords\": [{\"line\": {\"colorbar\": {\"outlinewidth\": 0, \"ticks\": \"\"}}, \"type\": \"parcoords\"}], \"pie\": [{\"automargin\": true, \"type\": \"pie\"}], \"scatter\": [{\"marker\": {\"colorbar\": {\"outlinewidth\": 0, \"ticks\": \"\"}}, \"type\": \"scatter\"}], \"scatter3d\": [{\"line\": {\"colorbar\": {\"outlinewidth\": 0, \"ticks\": \"\"}}, \"marker\": {\"colorbar\": {\"outlinewidth\": 0, \"ticks\": \"\"}}, \"type\": \"scatter3d\"}], \"scattercarpet\": [{\"marker\": {\"colorbar\": {\"outlinewidth\": 0, \"ticks\": \"\"}}, \"type\": \"scattercarpet\"}], \"scattergeo\": [{\"marker\": {\"colorbar\": {\"outlinewidth\": 0, \"ticks\": \"\"}}, \"type\": \"scattergeo\"}], \"scattergl\": [{\"marker\": {\"colorbar\": {\"outlinewidth\": 0, \"ticks\": \"\"}}, \"type\": \"scattergl\"}], \"scattermapbox\": [{\"marker\": {\"colorbar\": {\"outlinewidth\": 0, \"ticks\": \"\"}}, \"type\": \"scattermapbox\"}], \"scatterpolar\": [{\"marker\": {\"colorbar\": {\"outlinewidth\": 0, \"ticks\": \"\"}}, \"type\": \"scatterpolar\"}], \"scatterpolargl\": [{\"marker\": {\"colorbar\": {\"outlinewidth\": 0, \"ticks\": \"\"}}, \"type\": \"scatterpolargl\"}], \"scatterternary\": [{\"marker\": {\"colorbar\": {\"outlinewidth\": 0, \"ticks\": \"\"}}, \"type\": \"scatterternary\"}], \"surface\": [{\"colorbar\": {\"outlinewidth\": 0, \"ticks\": \"\"}, \"colorscale\": [[0.0, \"#0d0887\"], [0.1111111111111111, \"#46039f\"], [0.2222222222222222, \"#7201a8\"], [0.3333333333333333, \"#9c179e\"], [0.4444444444444444, \"#bd3786\"], [0.5555555555555556, \"#d8576b\"], [0.6666666666666666, \"#ed7953\"], [0.7777777777777778, \"#fb9f3a\"], [0.8888888888888888, \"#fdca26\"], [1.0, \"#f0f921\"]], \"type\": \"surface\"}], \"table\": [{\"cells\": {\"fill\": {\"color\": \"#EBF0F8\"}, \"line\": {\"color\": \"white\"}}, \"header\": {\"fill\": {\"color\": \"#C8D4E3\"}, \"line\": {\"color\": \"white\"}}, \"type\": \"table\"}]}, \"layout\": {\"annotationdefaults\": {\"arrowcolor\": \"#2a3f5f\", \"arrowhead\": 0, \"arrowwidth\": 1}, \"coloraxis\": {\"colorbar\": {\"outlinewidth\": 0, \"ticks\": \"\"}}, \"colorscale\": {\"diverging\": [[0, \"#8e0152\"], [0.1, \"#c51b7d\"], [0.2, \"#de77ae\"], [0.3, \"#f1b6da\"], [0.4, \"#fde0ef\"], [0.5, \"#f7f7f7\"], [0.6, \"#e6f5d0\"], [0.7, \"#b8e186\"], [0.8, \"#7fbc41\"], [0.9, \"#4d9221\"], [1, \"#276419\"]], \"sequential\": [[0.0, \"#0d0887\"], [0.1111111111111111, \"#46039f\"], [0.2222222222222222, \"#7201a8\"], [0.3333333333333333, \"#9c179e\"], [0.4444444444444444, \"#bd3786\"], [0.5555555555555556, \"#d8576b\"], [0.6666666666666666, \"#ed7953\"], [0.7777777777777778, \"#fb9f3a\"], [0.8888888888888888, \"#fdca26\"], [1.0, \"#f0f921\"]], \"sequentialminus\": [[0.0, \"#0d0887\"], [0.1111111111111111, \"#46039f\"], [0.2222222222222222, \"#7201a8\"], [0.3333333333333333, \"#9c179e\"], [0.4444444444444444, \"#bd3786\"], [0.5555555555555556, \"#d8576b\"], [0.6666666666666666, \"#ed7953\"], [0.7777777777777778, \"#fb9f3a\"], [0.8888888888888888, \"#fdca26\"], [1.0, \"#f0f921\"]]}, \"colorway\": [\"#636efa\", \"#EF553B\", \"#00cc96\", \"#ab63fa\", \"#FFA15A\", \"#19d3f3\", \"#FF6692\", \"#B6E880\", \"#FF97FF\", \"#FECB52\"], \"font\": {\"color\": \"#2a3f5f\"}, \"geo\": {\"bgcolor\": \"white\", \"lakecolor\": \"white\", \"landcolor\": \"#E5ECF6\", \"showlakes\": true, \"showland\": true, \"subunitcolor\": \"white\"}, \"hoverlabel\": {\"align\": \"left\"}, \"hovermode\": \"closest\", \"mapbox\": {\"style\": \"light\"}, \"paper_bgcolor\": \"white\", \"plot_bgcolor\": \"#E5ECF6\", \"polar\": {\"angularaxis\": {\"gridcolor\": \"white\", \"linecolor\": \"white\", \"ticks\": \"\"}, \"bgcolor\": \"#E5ECF6\", \"radialaxis\": {\"gridcolor\": \"white\", \"linecolor\": \"white\", \"ticks\": \"\"}}, \"scene\": {\"xaxis\": {\"backgroundcolor\": \"#E5ECF6\", \"gridcolor\": \"white\", \"gridwidth\": 2, \"linecolor\": \"white\", \"showbackground\": true, \"ticks\": \"\", \"zerolinecolor\": \"white\"}, \"yaxis\": {\"backgroundcolor\": \"#E5ECF6\", \"gridcolor\": \"white\", \"gridwidth\": 2, \"linecolor\": \"white\", \"showbackground\": true, \"ticks\": \"\", \"zerolinecolor\": \"white\"}, \"zaxis\": {\"backgroundcolor\": \"#E5ECF6\", \"gridcolor\": \"white\", \"gridwidth\": 2, \"linecolor\": \"white\", \"showbackground\": true, \"ticks\": \"\", \"zerolinecolor\": \"white\"}}, \"shapedefaults\": {\"line\": {\"color\": \"#2a3f5f\"}}, \"ternary\": {\"aaxis\": {\"gridcolor\": \"white\", \"linecolor\": \"white\", \"ticks\": \"\"}, \"baxis\": {\"gridcolor\": \"white\", \"linecolor\": \"white\", \"ticks\": \"\"}, \"bgcolor\": \"#E5ECF6\", \"caxis\": {\"gridcolor\": \"white\", \"linecolor\": \"white\", \"ticks\": \"\"}}, \"title\": {\"x\": 0.05}, \"xaxis\": {\"automargin\": true, \"gridcolor\": \"white\", \"linecolor\": \"white\", \"ticks\": \"\", \"title\": {\"standoff\": 15}, \"zerolinecolor\": \"white\", \"zerolinewidth\": 2}, \"yaxis\": {\"automargin\": true, \"gridcolor\": \"white\", \"linecolor\": \"white\", \"ticks\": \"\", \"title\": {\"standoff\": 15}, \"zerolinecolor\": \"white\", \"zerolinewidth\": 2}}}, \"title\": {\"font\": {\"color\": \"#4D5663\"}, \"text\": \"states vs. Confirmed cases\"}, \"xaxis\": {\"gridcolor\": \"#E1E5ED\", \"showgrid\": true, \"tickfont\": {\"color\": \"#4D5663\"}, \"title\": {\"font\": {\"color\": \"#4D5663\"}, \"text\": \"Name of State / UT\"}, \"zerolinecolor\": \"#E1E5ED\"}, \"yaxis\": {\"gridcolor\": \"#E1E5ED\", \"showgrid\": true, \"tickfont\": {\"color\": \"#4D5663\"}, \"title\": {\"font\": {\"color\": \"#4D5663\"}, \"text\": \"Total Cases\"}, \"zerolinecolor\": \"#E1E5ED\"}},\n",
       "                        {\"showLink\": true, \"linkText\": \"Export to plot.ly\", \"plotlyServerURL\": \"https://plot.ly\", \"responsive\": true}\n",
       "                    ).then(function(){\n",
       "                            \n",
       "var gd = document.getElementById('6c9620a3-a1ea-40bd-adea-0332052037d0');\n",
       "var x = new MutationObserver(function (mutations, observer) {{\n",
       "        var display = window.getComputedStyle(gd).display;\n",
       "        if (!display || display === 'none') {{\n",
       "            console.log([gd, 'removed!']);\n",
       "            Plotly.purge(gd);\n",
       "            observer.disconnect();\n",
       "        }}\n",
       "}});\n",
       "\n",
       "// Listen for the removal of the full notebook cells\n",
       "var notebookContainer = gd.closest('#notebook-container');\n",
       "if (notebookContainer) {{\n",
       "    x.observe(notebookContainer, {childList: true});\n",
       "}}\n",
       "\n",
       "// Listen for the clearing of the current output cell\n",
       "var outputEl = gd.closest('.output');\n",
       "if (outputEl) {{\n",
       "    x.observe(outputEl, {childList: true});\n",
       "}}\n",
       "\n",
       "                        })\n",
       "                };\n",
       "                });\n",
       "            </script>\n",
       "        </div>"
      ]
     },
     "metadata": {},
     "output_type": "display_data"
    }
   ],
   "source": [
    "df.iplot(kind='scatter',x='Name of State / UT',y='Total confirmed Cases',mode='markers+lines',title='states vs. Confirmed cases',xTitle='Name of State / UT',yTitle='Total Cases',colors='red',size=20)"
   ]
  },
  {
   "cell_type": "code",
   "execution_count": 14,
   "metadata": {},
   "outputs": [],
   "source": [
    "Indian_Cord=pd.read_excel(r\"Indian_Coordinates.xlsx\")"
   ]
  },
  {
   "cell_type": "code",
   "execution_count": 15,
   "metadata": {},
   "outputs": [
    {
     "data": {
      "text/html": [
       "<div>\n",
       "<style scoped>\n",
       "    .dataframe tbody tr th:only-of-type {\n",
       "        vertical-align: middle;\n",
       "    }\n",
       "\n",
       "    .dataframe tbody tr th {\n",
       "        vertical-align: top;\n",
       "    }\n",
       "\n",
       "    .dataframe thead th {\n",
       "        text-align: right;\n",
       "    }\n",
       "</style>\n",
       "<table border=\"1\" class=\"dataframe\">\n",
       "  <thead>\n",
       "    <tr style=\"text-align: right;\">\n",
       "      <th></th>\n",
       "      <th>Name of State / UT</th>\n",
       "      <th>Latitude</th>\n",
       "      <th>Longitude</th>\n",
       "    </tr>\n",
       "  </thead>\n",
       "  <tbody>\n",
       "    <tr>\n",
       "      <td>0</td>\n",
       "      <td>Andaman and Nicobar Islands</td>\n",
       "      <td>11.667026</td>\n",
       "      <td>92.735983</td>\n",
       "    </tr>\n",
       "    <tr>\n",
       "      <td>1</td>\n",
       "      <td>Andhra Pradesh</td>\n",
       "      <td>14.750429</td>\n",
       "      <td>78.570026</td>\n",
       "    </tr>\n",
       "    <tr>\n",
       "      <td>2</td>\n",
       "      <td>Arunachal Pradesh</td>\n",
       "      <td>27.100399</td>\n",
       "      <td>93.616601</td>\n",
       "    </tr>\n",
       "  </tbody>\n",
       "</table>\n",
       "</div>"
      ],
      "text/plain": [
       "            Name of State / UT   Latitude  Longitude\n",
       "0  Andaman and Nicobar Islands  11.667026  92.735983\n",
       "1               Andhra Pradesh  14.750429  78.570026\n",
       "2            Arunachal Pradesh  27.100399  93.616601"
      ]
     },
     "execution_count": 15,
     "metadata": {},
     "output_type": "execute_result"
    }
   ],
   "source": [
    "Indian_Cord.head(3)"
   ]
  },
  {
   "cell_type": "code",
   "execution_count": 16,
   "metadata": {},
   "outputs": [
    {
     "data": {
      "text/html": [
       "<div>\n",
       "<style scoped>\n",
       "    .dataframe tbody tr th:only-of-type {\n",
       "        vertical-align: middle;\n",
       "    }\n",
       "\n",
       "    .dataframe tbody tr th {\n",
       "        vertical-align: top;\n",
       "    }\n",
       "\n",
       "    .dataframe thead th {\n",
       "        text-align: right;\n",
       "    }\n",
       "</style>\n",
       "<table border=\"1\" class=\"dataframe\">\n",
       "  <thead>\n",
       "    <tr style=\"text-align: right;\">\n",
       "      <th></th>\n",
       "      <th>Name of State / UT</th>\n",
       "      <th>Latitude</th>\n",
       "      <th>Longitude</th>\n",
       "      <th>Total confirmed Cases</th>\n",
       "      <th>Cured/Discharged/Migrated</th>\n",
       "      <th>Deaths</th>\n",
       "      <th>Active Cases</th>\n",
       "    </tr>\n",
       "  </thead>\n",
       "  <tbody>\n",
       "    <tr>\n",
       "      <td>0</td>\n",
       "      <td>Andaman and Nicobar Islands</td>\n",
       "      <td>11.667026</td>\n",
       "      <td>92.735983</td>\n",
       "      <td>33</td>\n",
       "      <td>33</td>\n",
       "      <td>0</td>\n",
       "      <td>0</td>\n",
       "    </tr>\n",
       "    <tr>\n",
       "      <td>1</td>\n",
       "      <td>Andhra Pradesh</td>\n",
       "      <td>14.750429</td>\n",
       "      <td>78.570026</td>\n",
       "      <td>2355</td>\n",
       "      <td>1353</td>\n",
       "      <td>49</td>\n",
       "      <td>953</td>\n",
       "    </tr>\n",
       "    <tr>\n",
       "      <td>2</td>\n",
       "      <td>Arunachal Pradesh</td>\n",
       "      <td>27.100399</td>\n",
       "      <td>93.616601</td>\n",
       "      <td>1</td>\n",
       "      <td>1</td>\n",
       "      <td>0</td>\n",
       "      <td>0</td>\n",
       "    </tr>\n",
       "    <tr>\n",
       "      <td>3</td>\n",
       "      <td>Assam</td>\n",
       "      <td>26.749981</td>\n",
       "      <td>94.216667</td>\n",
       "      <td>92</td>\n",
       "      <td>41</td>\n",
       "      <td>2</td>\n",
       "      <td>49</td>\n",
       "    </tr>\n",
       "    <tr>\n",
       "      <td>4</td>\n",
       "      <td>Bihar</td>\n",
       "      <td>25.785414</td>\n",
       "      <td>87.479973</td>\n",
       "      <td>1179</td>\n",
       "      <td>453</td>\n",
       "      <td>7</td>\n",
       "      <td>719</td>\n",
       "    </tr>\n",
       "    <tr>\n",
       "      <td>5</td>\n",
       "      <td>Chandigarh</td>\n",
       "      <td>30.719997</td>\n",
       "      <td>76.780006</td>\n",
       "      <td>191</td>\n",
       "      <td>51</td>\n",
       "      <td>3</td>\n",
       "      <td>137</td>\n",
       "    </tr>\n",
       "    <tr>\n",
       "      <td>6</td>\n",
       "      <td>Chhattisgarh</td>\n",
       "      <td>22.090420</td>\n",
       "      <td>82.159987</td>\n",
       "      <td>67</td>\n",
       "      <td>56</td>\n",
       "      <td>0</td>\n",
       "      <td>11</td>\n",
       "    </tr>\n",
       "    <tr>\n",
       "      <td>7</td>\n",
       "      <td>Dadar Nagar Haveli</td>\n",
       "      <td>20.266578</td>\n",
       "      <td>73.016618</td>\n",
       "      <td>1</td>\n",
       "      <td>0</td>\n",
       "      <td>0</td>\n",
       "      <td>1</td>\n",
       "    </tr>\n",
       "    <tr>\n",
       "      <td>8</td>\n",
       "      <td>Delhi</td>\n",
       "      <td>28.669993</td>\n",
       "      <td>77.230004</td>\n",
       "      <td>9333</td>\n",
       "      <td>3926</td>\n",
       "      <td>129</td>\n",
       "      <td>5278</td>\n",
       "    </tr>\n",
       "    <tr>\n",
       "      <td>9</td>\n",
       "      <td>Goa</td>\n",
       "      <td>15.491997</td>\n",
       "      <td>73.818001</td>\n",
       "      <td>17</td>\n",
       "      <td>7</td>\n",
       "      <td>0</td>\n",
       "      <td>10</td>\n",
       "    </tr>\n",
       "    <tr>\n",
       "      <td>10</td>\n",
       "      <td>Haryana</td>\n",
       "      <td>28.450006</td>\n",
       "      <td>77.019991</td>\n",
       "      <td>887</td>\n",
       "      <td>514</td>\n",
       "      <td>13</td>\n",
       "      <td>360</td>\n",
       "    </tr>\n",
       "    <tr>\n",
       "      <td>11</td>\n",
       "      <td>Himachal Pradesh</td>\n",
       "      <td>31.100025</td>\n",
       "      <td>77.166597</td>\n",
       "      <td>78</td>\n",
       "      <td>43</td>\n",
       "      <td>3</td>\n",
       "      <td>32</td>\n",
       "    </tr>\n",
       "    <tr>\n",
       "      <td>12</td>\n",
       "      <td>Jammu and Kashmir</td>\n",
       "      <td>33.450000</td>\n",
       "      <td>76.240000</td>\n",
       "      <td>1121</td>\n",
       "      <td>542</td>\n",
       "      <td>12</td>\n",
       "      <td>567</td>\n",
       "    </tr>\n",
       "    <tr>\n",
       "      <td>13</td>\n",
       "      <td>Jharkhand</td>\n",
       "      <td>23.800393</td>\n",
       "      <td>86.419986</td>\n",
       "      <td>217</td>\n",
       "      <td>113</td>\n",
       "      <td>3</td>\n",
       "      <td>101</td>\n",
       "    </tr>\n",
       "    <tr>\n",
       "      <td>14</td>\n",
       "      <td>Karnataka</td>\n",
       "      <td>12.570381</td>\n",
       "      <td>76.919997</td>\n",
       "      <td>1092</td>\n",
       "      <td>496</td>\n",
       "      <td>36</td>\n",
       "      <td>560</td>\n",
       "    </tr>\n",
       "    <tr>\n",
       "      <td>15</td>\n",
       "      <td>Kerala</td>\n",
       "      <td>8.900373</td>\n",
       "      <td>76.569993</td>\n",
       "      <td>587</td>\n",
       "      <td>495</td>\n",
       "      <td>4</td>\n",
       "      <td>88</td>\n",
       "    </tr>\n",
       "    <tr>\n",
       "      <td>16</td>\n",
       "      <td>Madhya Pradesh</td>\n",
       "      <td>21.300391</td>\n",
       "      <td>76.130019</td>\n",
       "      <td>4789</td>\n",
       "      <td>2315</td>\n",
       "      <td>243</td>\n",
       "      <td>2231</td>\n",
       "    </tr>\n",
       "    <tr>\n",
       "      <td>17</td>\n",
       "      <td>Maharashtra</td>\n",
       "      <td>19.250232</td>\n",
       "      <td>73.160175</td>\n",
       "      <td>30706</td>\n",
       "      <td>7088</td>\n",
       "      <td>1135</td>\n",
       "      <td>22483</td>\n",
       "    </tr>\n",
       "    <tr>\n",
       "      <td>18</td>\n",
       "      <td>Manipur</td>\n",
       "      <td>24.799971</td>\n",
       "      <td>93.950017</td>\n",
       "      <td>7</td>\n",
       "      <td>2</td>\n",
       "      <td>0</td>\n",
       "      <td>5</td>\n",
       "    </tr>\n",
       "    <tr>\n",
       "      <td>19</td>\n",
       "      <td>Meghalaya</td>\n",
       "      <td>25.570492</td>\n",
       "      <td>91.880014</td>\n",
       "      <td>13</td>\n",
       "      <td>11</td>\n",
       "      <td>1</td>\n",
       "      <td>1</td>\n",
       "    </tr>\n",
       "    <tr>\n",
       "      <td>20</td>\n",
       "      <td>Mizoram</td>\n",
       "      <td>23.710399</td>\n",
       "      <td>92.720015</td>\n",
       "      <td>1</td>\n",
       "      <td>1</td>\n",
       "      <td>0</td>\n",
       "      <td>0</td>\n",
       "    </tr>\n",
       "    <tr>\n",
       "      <td>21</td>\n",
       "      <td>Odisha</td>\n",
       "      <td>19.820430</td>\n",
       "      <td>85.900017</td>\n",
       "      <td>737</td>\n",
       "      <td>196</td>\n",
       "      <td>3</td>\n",
       "      <td>538</td>\n",
       "    </tr>\n",
       "    <tr>\n",
       "      <td>22</td>\n",
       "      <td>Puducherry</td>\n",
       "      <td>11.934994</td>\n",
       "      <td>79.830000</td>\n",
       "      <td>13</td>\n",
       "      <td>9</td>\n",
       "      <td>1</td>\n",
       "      <td>3</td>\n",
       "    </tr>\n",
       "    <tr>\n",
       "      <td>23</td>\n",
       "      <td>Punjab</td>\n",
       "      <td>31.519974</td>\n",
       "      <td>75.980003</td>\n",
       "      <td>1946</td>\n",
       "      <td>1257</td>\n",
       "      <td>32</td>\n",
       "      <td>657</td>\n",
       "    </tr>\n",
       "    <tr>\n",
       "      <td>24</td>\n",
       "      <td>Rajasthan</td>\n",
       "      <td>26.449999</td>\n",
       "      <td>74.639981</td>\n",
       "      <td>4960</td>\n",
       "      <td>2839</td>\n",
       "      <td>126</td>\n",
       "      <td>1995</td>\n",
       "    </tr>\n",
       "    <tr>\n",
       "      <td>25</td>\n",
       "      <td>Telengana</td>\n",
       "      <td>18.112400</td>\n",
       "      <td>79.019300</td>\n",
       "      <td>1509</td>\n",
       "      <td>971</td>\n",
       "      <td>34</td>\n",
       "      <td>504</td>\n",
       "    </tr>\n",
       "    <tr>\n",
       "      <td>26</td>\n",
       "      <td>Tamil Nadu</td>\n",
       "      <td>12.920386</td>\n",
       "      <td>79.150042</td>\n",
       "      <td>10585</td>\n",
       "      <td>3538</td>\n",
       "      <td>74</td>\n",
       "      <td>6973</td>\n",
       "    </tr>\n",
       "    <tr>\n",
       "      <td>27</td>\n",
       "      <td>Tripura</td>\n",
       "      <td>23.835404</td>\n",
       "      <td>91.279999</td>\n",
       "      <td>167</td>\n",
       "      <td>64</td>\n",
       "      <td>0</td>\n",
       "      <td>103</td>\n",
       "    </tr>\n",
       "    <tr>\n",
       "      <td>28</td>\n",
       "      <td>Uttar Pradesh</td>\n",
       "      <td>27.599981</td>\n",
       "      <td>78.050006</td>\n",
       "      <td>4258</td>\n",
       "      <td>2441</td>\n",
       "      <td>104</td>\n",
       "      <td>1713</td>\n",
       "    </tr>\n",
       "    <tr>\n",
       "      <td>29</td>\n",
       "      <td>Uttarakhand</td>\n",
       "      <td>30.320409</td>\n",
       "      <td>78.050006</td>\n",
       "      <td>88</td>\n",
       "      <td>51</td>\n",
       "      <td>1</td>\n",
       "      <td>36</td>\n",
       "    </tr>\n",
       "    <tr>\n",
       "      <td>30</td>\n",
       "      <td>West Bengal</td>\n",
       "      <td>22.580390</td>\n",
       "      <td>88.329947</td>\n",
       "      <td>2576</td>\n",
       "      <td>872</td>\n",
       "      <td>232</td>\n",
       "      <td>1472</td>\n",
       "    </tr>\n",
       "    <tr>\n",
       "      <td>31</td>\n",
       "      <td>Gujarat</td>\n",
       "      <td>22.258700</td>\n",
       "      <td>71.192400</td>\n",
       "      <td>10988</td>\n",
       "      <td>4308</td>\n",
       "      <td>625</td>\n",
       "      <td>6055</td>\n",
       "    </tr>\n",
       "    <tr>\n",
       "      <td>32</td>\n",
       "      <td>Ladakh</td>\n",
       "      <td>33.778200</td>\n",
       "      <td>76.576200</td>\n",
       "      <td>43</td>\n",
       "      <td>22</td>\n",
       "      <td>0</td>\n",
       "      <td>21</td>\n",
       "    </tr>\n",
       "  </tbody>\n",
       "</table>\n",
       "</div>"
      ],
      "text/plain": [
       "             Name of State / UT   Latitude  Longitude  Total confirmed Cases  \\\n",
       "0   Andaman and Nicobar Islands  11.667026  92.735983                     33   \n",
       "1                Andhra Pradesh  14.750429  78.570026                   2355   \n",
       "2             Arunachal Pradesh  27.100399  93.616601                      1   \n",
       "3                         Assam  26.749981  94.216667                     92   \n",
       "4                         Bihar  25.785414  87.479973                   1179   \n",
       "5                    Chandigarh  30.719997  76.780006                    191   \n",
       "6                  Chhattisgarh  22.090420  82.159987                     67   \n",
       "7            Dadar Nagar Haveli  20.266578  73.016618                      1   \n",
       "8                         Delhi  28.669993  77.230004                   9333   \n",
       "9                           Goa  15.491997  73.818001                     17   \n",
       "10                      Haryana  28.450006  77.019991                    887   \n",
       "11             Himachal Pradesh  31.100025  77.166597                     78   \n",
       "12            Jammu and Kashmir  33.450000  76.240000                   1121   \n",
       "13                    Jharkhand  23.800393  86.419986                    217   \n",
       "14                    Karnataka  12.570381  76.919997                   1092   \n",
       "15                       Kerala   8.900373  76.569993                    587   \n",
       "16               Madhya Pradesh  21.300391  76.130019                   4789   \n",
       "17                  Maharashtra  19.250232  73.160175                  30706   \n",
       "18                      Manipur  24.799971  93.950017                      7   \n",
       "19                    Meghalaya  25.570492  91.880014                     13   \n",
       "20                      Mizoram  23.710399  92.720015                      1   \n",
       "21                       Odisha  19.820430  85.900017                    737   \n",
       "22                   Puducherry  11.934994  79.830000                     13   \n",
       "23                       Punjab  31.519974  75.980003                   1946   \n",
       "24                    Rajasthan  26.449999  74.639981                   4960   \n",
       "25                    Telengana  18.112400  79.019300                   1509   \n",
       "26                   Tamil Nadu  12.920386  79.150042                  10585   \n",
       "27                      Tripura  23.835404  91.279999                    167   \n",
       "28                Uttar Pradesh  27.599981  78.050006                   4258   \n",
       "29                  Uttarakhand  30.320409  78.050006                     88   \n",
       "30                  West Bengal  22.580390  88.329947                   2576   \n",
       "31                      Gujarat  22.258700  71.192400                  10988   \n",
       "32                       Ladakh  33.778200  76.576200                     43   \n",
       "\n",
       "    Cured/Discharged/Migrated  Deaths  Active Cases  \n",
       "0                          33       0             0  \n",
       "1                        1353      49           953  \n",
       "2                           1       0             0  \n",
       "3                          41       2            49  \n",
       "4                         453       7           719  \n",
       "5                          51       3           137  \n",
       "6                          56       0            11  \n",
       "7                           0       0             1  \n",
       "8                        3926     129          5278  \n",
       "9                           7       0            10  \n",
       "10                        514      13           360  \n",
       "11                         43       3            32  \n",
       "12                        542      12           567  \n",
       "13                        113       3           101  \n",
       "14                        496      36           560  \n",
       "15                        495       4            88  \n",
       "16                       2315     243          2231  \n",
       "17                       7088    1135         22483  \n",
       "18                          2       0             5  \n",
       "19                         11       1             1  \n",
       "20                          1       0             0  \n",
       "21                        196       3           538  \n",
       "22                          9       1             3  \n",
       "23                       1257      32           657  \n",
       "24                       2839     126          1995  \n",
       "25                        971      34           504  \n",
       "26                       3538      74          6973  \n",
       "27                         64       0           103  \n",
       "28                       2441     104          1713  \n",
       "29                         51       1            36  \n",
       "30                        872     232          1472  \n",
       "31                       4308     625          6055  \n",
       "32                         22       0            21  "
      ]
     },
     "execution_count": 16,
     "metadata": {},
     "output_type": "execute_result"
    }
   ],
   "source": [
    "df_full=pd.merge(Indian_Cord,df,on='Name of State / UT')\n",
    "df_full"
   ]
  },
  {
   "cell_type": "code",
   "execution_count": 17,
   "metadata": {},
   "outputs": [],
   "source": [
    "map=folium.Map(location=[20,70],zoom_start=2,tiles='Stamenterrain')\n",
    "\n",
    "for lat,long,value, name in zip(df_full['Latitude'],df_full['Longitude'],df_full['Total confirmed Cases'],df_full['Name of State / UT']):\n",
    "    folium.CircleMarker([lat,long],radius=value*0.005,popup=('<strong>State</strong>: '+str(name).capitalize()+'<br>''<strong>Total Cases</strong>: ' + str(value)+ '<br>'),color='red',fill_color='red',fill_opacity=0.3).add_to(map)"
   ]
  },
  {
   "cell_type": "code",
   "execution_count": 18,
   "metadata": {},
   "outputs": [
    {
     "data": {
      "text/html": [
       "<div style=\"width:100%;\"><div style=\"position:relative;width:100%;height:0;padding-bottom:60%;\"><iframe src=\"about:blank\" style=\"position:absolute;width:100%;height:100%;left:0;top:0;border:none !important;\" data-html=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 onload=\"this.contentDocument.open();this.contentDocument.write(atob(this.getAttribute('data-html')));this.contentDocument.close();\" allowfullscreen webkitallowfullscreen mozallowfullscreen></iframe></div></div>"
      ],
      "text/plain": [
       "<folium.folium.Map at 0x1fd74b00208>"
      ]
     },
     "execution_count": 18,
     "metadata": {},
     "output_type": "execute_result"
    }
   ],
   "source": [
    "map"
   ]
  },
  {
   "cell_type": "code",
   "execution_count": 19,
   "metadata": {},
   "outputs": [],
   "source": [
    "from plotly.subplots import make_subplots"
   ]
  },
  {
   "cell_type": "code",
   "execution_count": 20,
   "metadata": {},
   "outputs": [
    {
     "data": {
      "text/plain": [
       "Index(['Name of State / UT', 'Total confirmed Cases',\n",
       "       'Cured/Discharged/Migrated', 'Deaths', 'Active Cases'],\n",
       "      dtype='object')"
      ]
     },
     "execution_count": 20,
     "metadata": {},
     "output_type": "execute_result"
    }
   ],
   "source": [
    "df.columns"
   ]
  },
  {
   "cell_type": "code",
   "execution_count": 21,
   "metadata": {},
   "outputs": [
    {
     "data": {
      "application/vnd.plotly.v1+json": {
       "config": {
        "plotlyServerURL": "https://plot.ly"
       },
       "data": [
        {
         "marker": {
          "color": [
           33,
           2355,
           1,
           92,
           1179,
           191,
           67,
           1,
           9333,
           17,
           10988,
           887,
           78,
           1121,
           217,
           1092,
           587,
           43,
           4789,
           30706,
           7,
           13,
           1,
           737,
           13,
           1946,
           4960,
           10585,
           1509,
           167,
           88,
           4258,
           2576
          ],
          "coloraxis": "coloraxis"
         },
         "type": "bar",
         "x": [
          "Andaman and Nicobar Islands",
          "Andhra Pradesh",
          "Arunachal Pradesh",
          "Assam",
          "Bihar",
          "Chandigarh",
          "Chhattisgarh",
          "Dadar Nagar Haveli",
          "Delhi",
          "Goa",
          "Gujarat",
          "Haryana",
          "Himachal Pradesh",
          "Jammu and Kashmir",
          "Jharkhand",
          "Karnataka",
          "Kerala",
          "Ladakh",
          "Madhya Pradesh",
          "Maharashtra",
          "Manipur",
          "Meghalaya",
          "Mizoram",
          "Odisha",
          "Puducherry",
          "Punjab",
          "Rajasthan",
          "Tamil Nadu",
          "Telengana",
          "Tripura",
          "Uttarakhand",
          "Uttar Pradesh",
          "West Bengal"
         ],
         "xaxis": "x",
         "y": [
          33,
          2355,
          1,
          92,
          1179,
          191,
          67,
          1,
          9333,
          17,
          10988,
          887,
          78,
          1121,
          217,
          1092,
          587,
          43,
          4789,
          30706,
          7,
          13,
          1,
          737,
          13,
          1946,
          4960,
          10585,
          1509,
          167,
          88,
          4258,
          2576
         ],
         "yaxis": "y"
        },
        {
         "marker": {
          "color": [
           33,
           1353,
           1,
           41,
           453,
           51,
           56,
           0,
           3926,
           7,
           4308,
           514,
           43,
           542,
           113,
           496,
           495,
           22,
           2315,
           7088,
           2,
           11,
           1,
           196,
           9,
           1257,
           2839,
           3538,
           971,
           64,
           51,
           2441,
           872
          ],
          "coloraxis": "coloraxis"
         },
         "type": "bar",
         "x": [
          "Andaman and Nicobar Islands",
          "Andhra Pradesh",
          "Arunachal Pradesh",
          "Assam",
          "Bihar",
          "Chandigarh",
          "Chhattisgarh",
          "Dadar Nagar Haveli",
          "Delhi",
          "Goa",
          "Gujarat",
          "Haryana",
          "Himachal Pradesh",
          "Jammu and Kashmir",
          "Jharkhand",
          "Karnataka",
          "Kerala",
          "Ladakh",
          "Madhya Pradesh",
          "Maharashtra",
          "Manipur",
          "Meghalaya",
          "Mizoram",
          "Odisha",
          "Puducherry",
          "Punjab",
          "Rajasthan",
          "Tamil Nadu",
          "Telengana",
          "Tripura",
          "Uttarakhand",
          "Uttar Pradesh",
          "West Bengal"
         ],
         "xaxis": "x2",
         "y": [
          33,
          1353,
          1,
          41,
          453,
          51,
          56,
          0,
          3926,
          7,
          4308,
          514,
          43,
          542,
          113,
          496,
          495,
          22,
          2315,
          7088,
          2,
          11,
          1,
          196,
          9,
          1257,
          2839,
          3538,
          971,
          64,
          51,
          2441,
          872
         ],
         "yaxis": "y3"
        },
        {
         "marker": {
          "color": [
           0,
           49,
           0,
           2,
           7,
           3,
           0,
           0,
           129,
           0,
           625,
           13,
           3,
           12,
           3,
           36,
           4,
           0,
           243,
           1135,
           0,
           1,
           0,
           3,
           1,
           32,
           126,
           74,
           34,
           0,
           1,
           104,
           232
          ],
          "coloraxis": "coloraxis"
         },
         "type": "bar",
         "x": [
          "Andaman and Nicobar Islands",
          "Andhra Pradesh",
          "Arunachal Pradesh",
          "Assam",
          "Bihar",
          "Chandigarh",
          "Chhattisgarh",
          "Dadar Nagar Haveli",
          "Delhi",
          "Goa",
          "Gujarat",
          "Haryana",
          "Himachal Pradesh",
          "Jammu and Kashmir",
          "Jharkhand",
          "Karnataka",
          "Kerala",
          "Ladakh",
          "Madhya Pradesh",
          "Maharashtra",
          "Manipur",
          "Meghalaya",
          "Mizoram",
          "Odisha",
          "Puducherry",
          "Punjab",
          "Rajasthan",
          "Tamil Nadu",
          "Telengana",
          "Tripura",
          "Uttarakhand",
          "Uttar Pradesh",
          "West Bengal"
         ],
         "xaxis": "x3",
         "y": [
          0,
          49,
          0,
          2,
          7,
          3,
          0,
          0,
          129,
          0,
          625,
          13,
          3,
          12,
          3,
          36,
          4,
          0,
          243,
          1135,
          0,
          1,
          0,
          3,
          1,
          32,
          126,
          74,
          34,
          0,
          1,
          104,
          232
         ],
         "yaxis": "y5"
        },
        {
         "marker": {
          "color": [
           0,
           953,
           0,
           49,
           719,
           137,
           11,
           1,
           5278,
           10,
           6055,
           360,
           32,
           567,
           101,
           560,
           88,
           21,
           2231,
           22483,
           5,
           1,
           0,
           538,
           3,
           657,
           1995,
           6973,
           504,
           103,
           36,
           1713,
           1472
          ],
          "coloraxis": "coloraxis"
         },
         "type": "bar",
         "x": [
          "Andaman and Nicobar Islands",
          "Andhra Pradesh",
          "Arunachal Pradesh",
          "Assam",
          "Bihar",
          "Chandigarh",
          "Chhattisgarh",
          "Dadar Nagar Haveli",
          "Delhi",
          "Goa",
          "Gujarat",
          "Haryana",
          "Himachal Pradesh",
          "Jammu and Kashmir",
          "Jharkhand",
          "Karnataka",
          "Kerala",
          "Ladakh",
          "Madhya Pradesh",
          "Maharashtra",
          "Manipur",
          "Meghalaya",
          "Mizoram",
          "Odisha",
          "Puducherry",
          "Punjab",
          "Rajasthan",
          "Tamil Nadu",
          "Telengana",
          "Tripura",
          "Uttarakhand",
          "Uttar Pradesh",
          "West Bengal"
         ],
         "xaxis": "x4",
         "y": [
          0,
          953,
          0,
          49,
          719,
          137,
          11,
          1,
          5278,
          10,
          6055,
          360,
          32,
          567,
          101,
          560,
          88,
          21,
          2231,
          22483,
          5,
          1,
          0,
          538,
          3,
          657,
          1995,
          6973,
          504,
          103,
          36,
          1713,
          1472
         ],
         "yaxis": "y7"
        }
       ],
       "layout": {
        "annotations": [
         {
          "font": {
           "size": 16
          },
          "showarrow": false,
          "text": "Total Confirmed Cases",
          "x": 0.185,
          "xanchor": "center",
          "xref": "paper",
          "y": 1,
          "yanchor": "bottom",
          "yref": "paper"
         },
         {
          "font": {
           "size": 16
          },
          "showarrow": false,
          "text": "Cured/Discharged/Migrated",
          "x": 0.7550000000000001,
          "xanchor": "center",
          "xref": "paper",
          "y": 1,
          "yanchor": "bottom",
          "yref": "paper"
         },
         {
          "font": {
           "size": 16
          },
          "showarrow": false,
          "text": "Deaths",
          "x": 0.185,
          "xanchor": "center",
          "xref": "paper",
          "y": 0.375,
          "yanchor": "bottom",
          "yref": "paper"
         },
         {
          "font": {
           "size": 16
          },
          "showarrow": false,
          "text": "Active Cases",
          "x": 0.7550000000000001,
          "xanchor": "center",
          "xref": "paper",
          "y": 0.375,
          "yanchor": "bottom",
          "yref": "paper"
         }
        ],
        "coloraxis": {
         "colorscale": [
          [
           0,
           "rgb(255,0,0)"
          ],
          [
           1,
           "rgb(0,0,255)"
          ]
         ]
        },
        "height": 1400,
        "plot_bgcolor": "rgb(230,230,230)",
        "showlegend": false,
        "template": {
         "data": {
          "bar": [
           {
            "error_x": {
             "color": "#2a3f5f"
            },
            "error_y": {
             "color": "#2a3f5f"
            },
            "marker": {
             "line": {
              "color": "#E5ECF6",
              "width": 0.5
             }
            },
            "type": "bar"
           }
          ],
          "barpolar": [
           {
            "marker": {
             "line": {
              "color": "#E5ECF6",
              "width": 0.5
             }
            },
            "type": "barpolar"
           }
          ],
          "carpet": [
           {
            "aaxis": {
             "endlinecolor": "#2a3f5f",
             "gridcolor": "white",
             "linecolor": "white",
             "minorgridcolor": "white",
             "startlinecolor": "#2a3f5f"
            },
            "baxis": {
             "endlinecolor": "#2a3f5f",
             "gridcolor": "white",
             "linecolor": "white",
             "minorgridcolor": "white",
             "startlinecolor": "#2a3f5f"
            },
            "type": "carpet"
           }
          ],
          "choropleth": [
           {
            "colorbar": {
             "outlinewidth": 0,
             "ticks": ""
            },
            "type": "choropleth"
           }
          ],
          "contour": [
           {
            "colorbar": {
             "outlinewidth": 0,
             "ticks": ""
            },
            "colorscale": [
             [
              0,
              "#0d0887"
             ],
             [
              0.1111111111111111,
              "#46039f"
             ],
             [
              0.2222222222222222,
              "#7201a8"
             ],
             [
              0.3333333333333333,
              "#9c179e"
             ],
             [
              0.4444444444444444,
              "#bd3786"
             ],
             [
              0.5555555555555556,
              "#d8576b"
             ],
             [
              0.6666666666666666,
              "#ed7953"
             ],
             [
              0.7777777777777778,
              "#fb9f3a"
             ],
             [
              0.8888888888888888,
              "#fdca26"
             ],
             [
              1,
              "#f0f921"
             ]
            ],
            "type": "contour"
           }
          ],
          "contourcarpet": [
           {
            "colorbar": {
             "outlinewidth": 0,
             "ticks": ""
            },
            "type": "contourcarpet"
           }
          ],
          "heatmap": [
           {
            "colorbar": {
             "outlinewidth": 0,
             "ticks": ""
            },
            "colorscale": [
             [
              0,
              "#0d0887"
             ],
             [
              0.1111111111111111,
              "#46039f"
             ],
             [
              0.2222222222222222,
              "#7201a8"
             ],
             [
              0.3333333333333333,
              "#9c179e"
             ],
             [
              0.4444444444444444,
              "#bd3786"
             ],
             [
              0.5555555555555556,
              "#d8576b"
             ],
             [
              0.6666666666666666,
              "#ed7953"
             ],
             [
              0.7777777777777778,
              "#fb9f3a"
             ],
             [
              0.8888888888888888,
              "#fdca26"
             ],
             [
              1,
              "#f0f921"
             ]
            ],
            "type": "heatmap"
           }
          ],
          "heatmapgl": [
           {
            "colorbar": {
             "outlinewidth": 0,
             "ticks": ""
            },
            "colorscale": [
             [
              0,
              "#0d0887"
             ],
             [
              0.1111111111111111,
              "#46039f"
             ],
             [
              0.2222222222222222,
              "#7201a8"
             ],
             [
              0.3333333333333333,
              "#9c179e"
             ],
             [
              0.4444444444444444,
              "#bd3786"
             ],
             [
              0.5555555555555556,
              "#d8576b"
             ],
             [
              0.6666666666666666,
              "#ed7953"
             ],
             [
              0.7777777777777778,
              "#fb9f3a"
             ],
             [
              0.8888888888888888,
              "#fdca26"
             ],
             [
              1,
              "#f0f921"
             ]
            ],
            "type": "heatmapgl"
           }
          ],
          "histogram": [
           {
            "marker": {
             "colorbar": {
              "outlinewidth": 0,
              "ticks": ""
             }
            },
            "type": "histogram"
           }
          ],
          "histogram2d": [
           {
            "colorbar": {
             "outlinewidth": 0,
             "ticks": ""
            },
            "colorscale": [
             [
              0,
              "#0d0887"
             ],
             [
              0.1111111111111111,
              "#46039f"
             ],
             [
              0.2222222222222222,
              "#7201a8"
             ],
             [
              0.3333333333333333,
              "#9c179e"
             ],
             [
              0.4444444444444444,
              "#bd3786"
             ],
             [
              0.5555555555555556,
              "#d8576b"
             ],
             [
              0.6666666666666666,
              "#ed7953"
             ],
             [
              0.7777777777777778,
              "#fb9f3a"
             ],
             [
              0.8888888888888888,
              "#fdca26"
             ],
             [
              1,
              "#f0f921"
             ]
            ],
            "type": "histogram2d"
           }
          ],
          "histogram2dcontour": [
           {
            "colorbar": {
             "outlinewidth": 0,
             "ticks": ""
            },
            "colorscale": [
             [
              0,
              "#0d0887"
             ],
             [
              0.1111111111111111,
              "#46039f"
             ],
             [
              0.2222222222222222,
              "#7201a8"
             ],
             [
              0.3333333333333333,
              "#9c179e"
             ],
             [
              0.4444444444444444,
              "#bd3786"
             ],
             [
              0.5555555555555556,
              "#d8576b"
             ],
             [
              0.6666666666666666,
              "#ed7953"
             ],
             [
              0.7777777777777778,
              "#fb9f3a"
             ],
             [
              0.8888888888888888,
              "#fdca26"
             ],
             [
              1,
              "#f0f921"
             ]
            ],
            "type": "histogram2dcontour"
           }
          ],
          "mesh3d": [
           {
            "colorbar": {
             "outlinewidth": 0,
             "ticks": ""
            },
            "type": "mesh3d"
           }
          ],
          "parcoords": [
           {
            "line": {
             "colorbar": {
              "outlinewidth": 0,
              "ticks": ""
             }
            },
            "type": "parcoords"
           }
          ],
          "pie": [
           {
            "automargin": true,
            "type": "pie"
           }
          ],
          "scatter": [
           {
            "marker": {
             "colorbar": {
              "outlinewidth": 0,
              "ticks": ""
             }
            },
            "type": "scatter"
           }
          ],
          "scatter3d": [
           {
            "line": {
             "colorbar": {
              "outlinewidth": 0,
              "ticks": ""
             }
            },
            "marker": {
             "colorbar": {
              "outlinewidth": 0,
              "ticks": ""
             }
            },
            "type": "scatter3d"
           }
          ],
          "scattercarpet": [
           {
            "marker": {
             "colorbar": {
              "outlinewidth": 0,
              "ticks": ""
             }
            },
            "type": "scattercarpet"
           }
          ],
          "scattergeo": [
           {
            "marker": {
             "colorbar": {
              "outlinewidth": 0,
              "ticks": ""
             }
            },
            "type": "scattergeo"
           }
          ],
          "scattergl": [
           {
            "marker": {
             "colorbar": {
              "outlinewidth": 0,
              "ticks": ""
             }
            },
            "type": "scattergl"
           }
          ],
          "scattermapbox": [
           {
            "marker": {
             "colorbar": {
              "outlinewidth": 0,
              "ticks": ""
             }
            },
            "type": "scattermapbox"
           }
          ],
          "scatterpolar": [
           {
            "marker": {
             "colorbar": {
              "outlinewidth": 0,
              "ticks": ""
             }
            },
            "type": "scatterpolar"
           }
          ],
          "scatterpolargl": [
           {
            "marker": {
             "colorbar": {
              "outlinewidth": 0,
              "ticks": ""
             }
            },
            "type": "scatterpolargl"
           }
          ],
          "scatterternary": [
           {
            "marker": {
             "colorbar": {
              "outlinewidth": 0,
              "ticks": ""
             }
            },
            "type": "scatterternary"
           }
          ],
          "surface": [
           {
            "colorbar": {
             "outlinewidth": 0,
             "ticks": ""
            },
            "colorscale": [
             [
              0,
              "#0d0887"
             ],
             [
              0.1111111111111111,
              "#46039f"
             ],
             [
              0.2222222222222222,
              "#7201a8"
             ],
             [
              0.3333333333333333,
              "#9c179e"
             ],
             [
              0.4444444444444444,
              "#bd3786"
             ],
             [
              0.5555555555555556,
              "#d8576b"
             ],
             [
              0.6666666666666666,
              "#ed7953"
             ],
             [
              0.7777777777777778,
              "#fb9f3a"
             ],
             [
              0.8888888888888888,
              "#fdca26"
             ],
             [
              1,
              "#f0f921"
             ]
            ],
            "type": "surface"
           }
          ],
          "table": [
           {
            "cells": {
             "fill": {
              "color": "#EBF0F8"
             },
             "line": {
              "color": "white"
             }
            },
            "header": {
             "fill": {
              "color": "#C8D4E3"
             },
             "line": {
              "color": "white"
             }
            },
            "type": "table"
           }
          ]
         },
         "layout": {
          "annotationdefaults": {
           "arrowcolor": "#2a3f5f",
           "arrowhead": 0,
           "arrowwidth": 1
          },
          "coloraxis": {
           "colorbar": {
            "outlinewidth": 0,
            "ticks": ""
           }
          },
          "colorscale": {
           "diverging": [
            [
             0,
             "#8e0152"
            ],
            [
             0.1,
             "#c51b7d"
            ],
            [
             0.2,
             "#de77ae"
            ],
            [
             0.3,
             "#f1b6da"
            ],
            [
             0.4,
             "#fde0ef"
            ],
            [
             0.5,
             "#f7f7f7"
            ],
            [
             0.6,
             "#e6f5d0"
            ],
            [
             0.7,
             "#b8e186"
            ],
            [
             0.8,
             "#7fbc41"
            ],
            [
             0.9,
             "#4d9221"
            ],
            [
             1,
             "#276419"
            ]
           ],
           "sequential": [
            [
             0,
             "#0d0887"
            ],
            [
             0.1111111111111111,
             "#46039f"
            ],
            [
             0.2222222222222222,
             "#7201a8"
            ],
            [
             0.3333333333333333,
             "#9c179e"
            ],
            [
             0.4444444444444444,
             "#bd3786"
            ],
            [
             0.5555555555555556,
             "#d8576b"
            ],
            [
             0.6666666666666666,
             "#ed7953"
            ],
            [
             0.7777777777777778,
             "#fb9f3a"
            ],
            [
             0.8888888888888888,
             "#fdca26"
            ],
            [
             1,
             "#f0f921"
            ]
           ],
           "sequentialminus": [
            [
             0,
             "#0d0887"
            ],
            [
             0.1111111111111111,
             "#46039f"
            ],
            [
             0.2222222222222222,
             "#7201a8"
            ],
            [
             0.3333333333333333,
             "#9c179e"
            ],
            [
             0.4444444444444444,
             "#bd3786"
            ],
            [
             0.5555555555555556,
             "#d8576b"
            ],
            [
             0.6666666666666666,
             "#ed7953"
            ],
            [
             0.7777777777777778,
             "#fb9f3a"
            ],
            [
             0.8888888888888888,
             "#fdca26"
            ],
            [
             1,
             "#f0f921"
            ]
           ]
          },
          "colorway": [
           "#636efa",
           "#EF553B",
           "#00cc96",
           "#ab63fa",
           "#FFA15A",
           "#19d3f3",
           "#FF6692",
           "#B6E880",
           "#FF97FF",
           "#FECB52"
          ],
          "font": {
           "color": "#2a3f5f"
          },
          "geo": {
           "bgcolor": "white",
           "lakecolor": "white",
           "landcolor": "#E5ECF6",
           "showlakes": true,
           "showland": true,
           "subunitcolor": "white"
          },
          "hoverlabel": {
           "align": "left"
          },
          "hovermode": "closest",
          "mapbox": {
           "style": "light"
          },
          "paper_bgcolor": "white",
          "plot_bgcolor": "#E5ECF6",
          "polar": {
           "angularaxis": {
            "gridcolor": "white",
            "linecolor": "white",
            "ticks": ""
           },
           "bgcolor": "#E5ECF6",
           "radialaxis": {
            "gridcolor": "white",
            "linecolor": "white",
            "ticks": ""
           }
          },
          "scene": {
           "xaxis": {
            "backgroundcolor": "#E5ECF6",
            "gridcolor": "white",
            "gridwidth": 2,
            "linecolor": "white",
            "showbackground": true,
            "ticks": "",
            "zerolinecolor": "white"
           },
           "yaxis": {
            "backgroundcolor": "#E5ECF6",
            "gridcolor": "white",
            "gridwidth": 2,
            "linecolor": "white",
            "showbackground": true,
            "ticks": "",
            "zerolinecolor": "white"
           },
           "zaxis": {
            "backgroundcolor": "#E5ECF6",
            "gridcolor": "white",
            "gridwidth": 2,
            "linecolor": "white",
            "showbackground": true,
            "ticks": "",
            "zerolinecolor": "white"
           }
          },
          "shapedefaults": {
           "line": {
            "color": "#2a3f5f"
           }
          },
          "ternary": {
           "aaxis": {
            "gridcolor": "white",
            "linecolor": "white",
            "ticks": ""
           },
           "baxis": {
            "gridcolor": "white",
            "linecolor": "white",
            "ticks": ""
           },
           "bgcolor": "#E5ECF6",
           "caxis": {
            "gridcolor": "white",
            "linecolor": "white",
            "ticks": ""
           }
          },
          "title": {
           "x": 0.05
          },
          "xaxis": {
           "automargin": true,
           "gridcolor": "white",
           "linecolor": "white",
           "ticks": "",
           "title": {
            "standoff": 15
           },
           "zerolinecolor": "white",
           "zerolinewidth": 2
          },
          "yaxis": {
           "automargin": true,
           "gridcolor": "white",
           "linecolor": "white",
           "ticks": "",
           "title": {
            "standoff": 15
           },
           "zerolinecolor": "white",
           "zerolinewidth": 2
          }
         }
        },
        "title": {
         "text": "Cases in India"
        },
        "width": 1000,
        "xaxis": {
         "anchor": "y",
         "domain": [
          0,
          0.37
         ]
        },
        "xaxis2": {
         "anchor": "y3",
         "domain": [
          0.5700000000000001,
          0.9400000000000001
         ]
        },
        "xaxis3": {
         "anchor": "y5",
         "domain": [
          0,
          0.37
         ]
        },
        "xaxis4": {
         "anchor": "y7",
         "domain": [
          0.5700000000000001,
          0.9400000000000001
         ]
        },
        "yaxis": {
         "anchor": "x",
         "domain": [
          0.625,
          1
         ]
        },
        "yaxis2": {
         "anchor": "x",
         "overlaying": "y",
         "side": "right"
        },
        "yaxis3": {
         "anchor": "x2",
         "domain": [
          0.625,
          1
         ]
        },
        "yaxis4": {
         "anchor": "x2",
         "overlaying": "y3",
         "side": "right"
        },
        "yaxis5": {
         "anchor": "x3",
         "domain": [
          0,
          0.375
         ]
        },
        "yaxis6": {
         "anchor": "x3",
         "overlaying": "y5",
         "side": "right"
        },
        "yaxis7": {
         "anchor": "x4",
         "domain": [
          0,
          0.375
         ]
        },
        "yaxis8": {
         "anchor": "x4",
         "overlaying": "y7",
         "side": "right"
        }
       }
      },
      "text/html": [
       "<div>\n",
       "        \n",
       "        \n",
       "            <div id=\"70613eed-39c2-4004-9e44-e641fe8a93d2\" class=\"plotly-graph-div\" style=\"height:1400px; width:1000px;\"></div>\n",
       "            <script type=\"text/javascript\">\n",
       "                require([\"plotly\"], function(Plotly) {\n",
       "                    window.PLOTLYENV=window.PLOTLYENV || {};\n",
       "                    \n",
       "                if (document.getElementById(\"70613eed-39c2-4004-9e44-e641fe8a93d2\")) {\n",
       "                    Plotly.newPlot(\n",
       "                        '70613eed-39c2-4004-9e44-e641fe8a93d2',\n",
       "                        [{\"marker\": {\"color\": [33, 2355, 1, 92, 1179, 191, 67, 1, 9333, 17, 10988, 887, 78, 1121, 217, 1092, 587, 43, 4789, 30706, 7, 13, 1, 737, 13, 1946, 4960, 10585, 1509, 167, 88, 4258, 2576], \"coloraxis\": \"coloraxis\"}, \"type\": \"bar\", \"x\": [\"Andaman and Nicobar Islands\", \"Andhra Pradesh\", \"Arunachal Pradesh\", \"Assam\", \"Bihar\", \"Chandigarh\", \"Chhattisgarh\", \"Dadar Nagar Haveli\", \"Delhi\", \"Goa\", \"Gujarat\", \"Haryana\", \"Himachal Pradesh\", \"Jammu and Kashmir\", \"Jharkhand\", \"Karnataka\", \"Kerala\", \"Ladakh\", \"Madhya Pradesh\", \"Maharashtra\", \"Manipur\", \"Meghalaya\", \"Mizoram\", \"Odisha\", \"Puducherry\", \"Punjab\", \"Rajasthan\", \"Tamil Nadu\", \"Telengana\", \"Tripura\", \"Uttarakhand\", \"Uttar Pradesh\", \"West Bengal\"], \"xaxis\": \"x\", \"y\": [33, 2355, 1, 92, 1179, 191, 67, 1, 9333, 17, 10988, 887, 78, 1121, 217, 1092, 587, 43, 4789, 30706, 7, 13, 1, 737, 13, 1946, 4960, 10585, 1509, 167, 88, 4258, 2576], \"yaxis\": \"y\"}, {\"marker\": {\"color\": [33, 1353, 1, 41, 453, 51, 56, 0, 3926, 7, 4308, 514, 43, 542, 113, 496, 495, 22, 2315, 7088, 2, 11, 1, 196, 9, 1257, 2839, 3538, 971, 64, 51, 2441, 872], \"coloraxis\": \"coloraxis\"}, \"type\": \"bar\", \"x\": [\"Andaman and Nicobar Islands\", \"Andhra Pradesh\", \"Arunachal Pradesh\", \"Assam\", \"Bihar\", \"Chandigarh\", \"Chhattisgarh\", \"Dadar Nagar Haveli\", \"Delhi\", \"Goa\", \"Gujarat\", \"Haryana\", \"Himachal Pradesh\", \"Jammu and Kashmir\", \"Jharkhand\", \"Karnataka\", \"Kerala\", \"Ladakh\", \"Madhya Pradesh\", \"Maharashtra\", \"Manipur\", \"Meghalaya\", \"Mizoram\", \"Odisha\", \"Puducherry\", \"Punjab\", \"Rajasthan\", \"Tamil Nadu\", \"Telengana\", \"Tripura\", \"Uttarakhand\", \"Uttar Pradesh\", \"West Bengal\"], \"xaxis\": \"x2\", \"y\": [33, 1353, 1, 41, 453, 51, 56, 0, 3926, 7, 4308, 514, 43, 542, 113, 496, 495, 22, 2315, 7088, 2, 11, 1, 196, 9, 1257, 2839, 3538, 971, 64, 51, 2441, 872], \"yaxis\": \"y3\"}, {\"marker\": {\"color\": [0, 49, 0, 2, 7, 3, 0, 0, 129, 0, 625, 13, 3, 12, 3, 36, 4, 0, 243, 1135, 0, 1, 0, 3, 1, 32, 126, 74, 34, 0, 1, 104, 232], \"coloraxis\": \"coloraxis\"}, \"type\": \"bar\", \"x\": [\"Andaman and Nicobar Islands\", \"Andhra Pradesh\", \"Arunachal Pradesh\", \"Assam\", \"Bihar\", \"Chandigarh\", \"Chhattisgarh\", \"Dadar Nagar Haveli\", \"Delhi\", \"Goa\", \"Gujarat\", \"Haryana\", \"Himachal Pradesh\", \"Jammu and Kashmir\", \"Jharkhand\", \"Karnataka\", \"Kerala\", \"Ladakh\", \"Madhya Pradesh\", \"Maharashtra\", \"Manipur\", \"Meghalaya\", \"Mizoram\", \"Odisha\", \"Puducherry\", \"Punjab\", \"Rajasthan\", \"Tamil Nadu\", \"Telengana\", \"Tripura\", \"Uttarakhand\", \"Uttar Pradesh\", \"West Bengal\"], \"xaxis\": \"x3\", \"y\": [0, 49, 0, 2, 7, 3, 0, 0, 129, 0, 625, 13, 3, 12, 3, 36, 4, 0, 243, 1135, 0, 1, 0, 3, 1, 32, 126, 74, 34, 0, 1, 104, 232], \"yaxis\": \"y5\"}, {\"marker\": {\"color\": [0, 953, 0, 49, 719, 137, 11, 1, 5278, 10, 6055, 360, 32, 567, 101, 560, 88, 21, 2231, 22483, 5, 1, 0, 538, 3, 657, 1995, 6973, 504, 103, 36, 1713, 1472], \"coloraxis\": \"coloraxis\"}, \"type\": \"bar\", \"x\": [\"Andaman and Nicobar Islands\", \"Andhra Pradesh\", \"Arunachal Pradesh\", \"Assam\", \"Bihar\", \"Chandigarh\", \"Chhattisgarh\", \"Dadar Nagar Haveli\", \"Delhi\", \"Goa\", \"Gujarat\", \"Haryana\", \"Himachal Pradesh\", \"Jammu and Kashmir\", \"Jharkhand\", \"Karnataka\", \"Kerala\", \"Ladakh\", \"Madhya Pradesh\", \"Maharashtra\", \"Manipur\", \"Meghalaya\", \"Mizoram\", \"Odisha\", \"Puducherry\", \"Punjab\", \"Rajasthan\", \"Tamil Nadu\", \"Telengana\", \"Tripura\", \"Uttarakhand\", \"Uttar Pradesh\", \"West Bengal\"], \"xaxis\": \"x4\", \"y\": [0, 953, 0, 49, 719, 137, 11, 1, 5278, 10, 6055, 360, 32, 567, 101, 560, 88, 21, 2231, 22483, 5, 1, 0, 538, 3, 657, 1995, 6973, 504, 103, 36, 1713, 1472], \"yaxis\": \"y7\"}],\n",
       "                        {\"annotations\": [{\"font\": {\"size\": 16}, \"showarrow\": false, \"text\": \"Total Confirmed Cases\", \"x\": 0.185, \"xanchor\": \"center\", \"xref\": \"paper\", \"y\": 1.0, \"yanchor\": \"bottom\", \"yref\": \"paper\"}, {\"font\": {\"size\": 16}, \"showarrow\": false, \"text\": \"Cured/Discharged/Migrated\", \"x\": 0.7550000000000001, \"xanchor\": \"center\", \"xref\": \"paper\", \"y\": 1.0, \"yanchor\": \"bottom\", \"yref\": \"paper\"}, {\"font\": {\"size\": 16}, \"showarrow\": false, \"text\": \"Deaths\", \"x\": 0.185, \"xanchor\": \"center\", \"xref\": \"paper\", \"y\": 0.375, \"yanchor\": \"bottom\", \"yref\": \"paper\"}, {\"font\": {\"size\": 16}, \"showarrow\": false, \"text\": \"Active Cases\", \"x\": 0.7550000000000001, \"xanchor\": \"center\", \"xref\": \"paper\", \"y\": 0.375, \"yanchor\": \"bottom\", \"yref\": \"paper\"}], \"coloraxis\": {\"colorscale\": [[0.0, \"rgb(255,0,0)\"], [1.0, \"rgb(0,0,255)\"]]}, \"height\": 1400, \"plot_bgcolor\": \"rgb(230,230,230)\", \"showlegend\": false, \"template\": {\"data\": {\"bar\": [{\"error_x\": {\"color\": \"#2a3f5f\"}, \"error_y\": {\"color\": \"#2a3f5f\"}, \"marker\": {\"line\": {\"color\": \"#E5ECF6\", \"width\": 0.5}}, \"type\": \"bar\"}], \"barpolar\": [{\"marker\": {\"line\": {\"color\": \"#E5ECF6\", \"width\": 0.5}}, \"type\": \"barpolar\"}], \"carpet\": [{\"aaxis\": {\"endlinecolor\": \"#2a3f5f\", \"gridcolor\": \"white\", \"linecolor\": \"white\", \"minorgridcolor\": \"white\", \"startlinecolor\": \"#2a3f5f\"}, \"baxis\": {\"endlinecolor\": \"#2a3f5f\", \"gridcolor\": \"white\", \"linecolor\": \"white\", \"minorgridcolor\": \"white\", \"startlinecolor\": \"#2a3f5f\"}, \"type\": \"carpet\"}], \"choropleth\": [{\"colorbar\": {\"outlinewidth\": 0, \"ticks\": \"\"}, \"type\": \"choropleth\"}], \"contour\": [{\"colorbar\": {\"outlinewidth\": 0, \"ticks\": \"\"}, \"colorscale\": [[0.0, \"#0d0887\"], [0.1111111111111111, \"#46039f\"], [0.2222222222222222, \"#7201a8\"], [0.3333333333333333, \"#9c179e\"], [0.4444444444444444, \"#bd3786\"], [0.5555555555555556, \"#d8576b\"], [0.6666666666666666, \"#ed7953\"], [0.7777777777777778, \"#fb9f3a\"], [0.8888888888888888, \"#fdca26\"], [1.0, \"#f0f921\"]], \"type\": \"contour\"}], \"contourcarpet\": [{\"colorbar\": {\"outlinewidth\": 0, \"ticks\": \"\"}, \"type\": \"contourcarpet\"}], \"heatmap\": [{\"colorbar\": {\"outlinewidth\": 0, \"ticks\": \"\"}, \"colorscale\": [[0.0, \"#0d0887\"], [0.1111111111111111, \"#46039f\"], [0.2222222222222222, \"#7201a8\"], [0.3333333333333333, \"#9c179e\"], [0.4444444444444444, \"#bd3786\"], [0.5555555555555556, \"#d8576b\"], [0.6666666666666666, \"#ed7953\"], [0.7777777777777778, \"#fb9f3a\"], [0.8888888888888888, \"#fdca26\"], [1.0, \"#f0f921\"]], \"type\": \"heatmap\"}], \"heatmapgl\": [{\"colorbar\": {\"outlinewidth\": 0, \"ticks\": \"\"}, \"colorscale\": [[0.0, \"#0d0887\"], [0.1111111111111111, \"#46039f\"], [0.2222222222222222, \"#7201a8\"], [0.3333333333333333, \"#9c179e\"], [0.4444444444444444, \"#bd3786\"], [0.5555555555555556, \"#d8576b\"], [0.6666666666666666, \"#ed7953\"], [0.7777777777777778, \"#fb9f3a\"], [0.8888888888888888, \"#fdca26\"], [1.0, \"#f0f921\"]], \"type\": \"heatmapgl\"}], \"histogram\": [{\"marker\": {\"colorbar\": {\"outlinewidth\": 0, \"ticks\": \"\"}}, \"type\": \"histogram\"}], \"histogram2d\": [{\"colorbar\": {\"outlinewidth\": 0, \"ticks\": \"\"}, \"colorscale\": [[0.0, \"#0d0887\"], [0.1111111111111111, \"#46039f\"], [0.2222222222222222, \"#7201a8\"], [0.3333333333333333, \"#9c179e\"], [0.4444444444444444, \"#bd3786\"], [0.5555555555555556, \"#d8576b\"], [0.6666666666666666, \"#ed7953\"], [0.7777777777777778, \"#fb9f3a\"], [0.8888888888888888, \"#fdca26\"], [1.0, \"#f0f921\"]], \"type\": \"histogram2d\"}], \"histogram2dcontour\": [{\"colorbar\": {\"outlinewidth\": 0, \"ticks\": \"\"}, \"colorscale\": [[0.0, \"#0d0887\"], [0.1111111111111111, \"#46039f\"], [0.2222222222222222, \"#7201a8\"], [0.3333333333333333, \"#9c179e\"], [0.4444444444444444, \"#bd3786\"], [0.5555555555555556, \"#d8576b\"], [0.6666666666666666, \"#ed7953\"], [0.7777777777777778, \"#fb9f3a\"], [0.8888888888888888, \"#fdca26\"], [1.0, \"#f0f921\"]], \"type\": \"histogram2dcontour\"}], \"mesh3d\": [{\"colorbar\": {\"outlinewidth\": 0, \"ticks\": \"\"}, \"type\": \"mesh3d\"}], \"parcoords\": [{\"line\": {\"colorbar\": {\"outlinewidth\": 0, \"ticks\": \"\"}}, \"type\": \"parcoords\"}], \"pie\": [{\"automargin\": true, \"type\": \"pie\"}], \"scatter\": [{\"marker\": {\"colorbar\": {\"outlinewidth\": 0, \"ticks\": \"\"}}, \"type\": \"scatter\"}], \"scatter3d\": [{\"line\": {\"colorbar\": {\"outlinewidth\": 0, \"ticks\": \"\"}}, \"marker\": {\"colorbar\": {\"outlinewidth\": 0, \"ticks\": \"\"}}, \"type\": \"scatter3d\"}], \"scattercarpet\": [{\"marker\": {\"colorbar\": {\"outlinewidth\": 0, \"ticks\": \"\"}}, \"type\": \"scattercarpet\"}], \"scattergeo\": [{\"marker\": {\"colorbar\": {\"outlinewidth\": 0, \"ticks\": \"\"}}, \"type\": \"scattergeo\"}], \"scattergl\": [{\"marker\": {\"colorbar\": {\"outlinewidth\": 0, \"ticks\": \"\"}}, \"type\": \"scattergl\"}], \"scattermapbox\": [{\"marker\": {\"colorbar\": {\"outlinewidth\": 0, \"ticks\": \"\"}}, \"type\": \"scattermapbox\"}], \"scatterpolar\": [{\"marker\": {\"colorbar\": {\"outlinewidth\": 0, \"ticks\": \"\"}}, \"type\": \"scatterpolar\"}], \"scatterpolargl\": [{\"marker\": {\"colorbar\": {\"outlinewidth\": 0, \"ticks\": \"\"}}, \"type\": \"scatterpolargl\"}], \"scatterternary\": [{\"marker\": {\"colorbar\": {\"outlinewidth\": 0, \"ticks\": \"\"}}, \"type\": \"scatterternary\"}], \"surface\": [{\"colorbar\": {\"outlinewidth\": 0, \"ticks\": \"\"}, \"colorscale\": [[0.0, \"#0d0887\"], [0.1111111111111111, \"#46039f\"], [0.2222222222222222, \"#7201a8\"], [0.3333333333333333, \"#9c179e\"], [0.4444444444444444, \"#bd3786\"], [0.5555555555555556, \"#d8576b\"], [0.6666666666666666, \"#ed7953\"], [0.7777777777777778, \"#fb9f3a\"], [0.8888888888888888, \"#fdca26\"], [1.0, \"#f0f921\"]], \"type\": \"surface\"}], \"table\": [{\"cells\": {\"fill\": {\"color\": \"#EBF0F8\"}, \"line\": {\"color\": \"white\"}}, \"header\": {\"fill\": {\"color\": \"#C8D4E3\"}, \"line\": {\"color\": \"white\"}}, \"type\": \"table\"}]}, \"layout\": {\"annotationdefaults\": {\"arrowcolor\": \"#2a3f5f\", \"arrowhead\": 0, \"arrowwidth\": 1}, \"coloraxis\": {\"colorbar\": {\"outlinewidth\": 0, \"ticks\": \"\"}}, \"colorscale\": {\"diverging\": [[0, \"#8e0152\"], [0.1, \"#c51b7d\"], [0.2, \"#de77ae\"], [0.3, \"#f1b6da\"], [0.4, \"#fde0ef\"], [0.5, \"#f7f7f7\"], [0.6, \"#e6f5d0\"], [0.7, \"#b8e186\"], [0.8, \"#7fbc41\"], [0.9, \"#4d9221\"], [1, \"#276419\"]], \"sequential\": [[0.0, \"#0d0887\"], [0.1111111111111111, \"#46039f\"], [0.2222222222222222, \"#7201a8\"], [0.3333333333333333, \"#9c179e\"], [0.4444444444444444, \"#bd3786\"], [0.5555555555555556, \"#d8576b\"], [0.6666666666666666, \"#ed7953\"], [0.7777777777777778, \"#fb9f3a\"], [0.8888888888888888, \"#fdca26\"], [1.0, \"#f0f921\"]], \"sequentialminus\": [[0.0, \"#0d0887\"], [0.1111111111111111, \"#46039f\"], [0.2222222222222222, \"#7201a8\"], [0.3333333333333333, \"#9c179e\"], [0.4444444444444444, \"#bd3786\"], [0.5555555555555556, \"#d8576b\"], [0.6666666666666666, \"#ed7953\"], [0.7777777777777778, \"#fb9f3a\"], [0.8888888888888888, \"#fdca26\"], [1.0, \"#f0f921\"]]}, \"colorway\": [\"#636efa\", \"#EF553B\", \"#00cc96\", \"#ab63fa\", \"#FFA15A\", \"#19d3f3\", \"#FF6692\", \"#B6E880\", \"#FF97FF\", \"#FECB52\"], \"font\": {\"color\": \"#2a3f5f\"}, \"geo\": {\"bgcolor\": \"white\", \"lakecolor\": \"white\", \"landcolor\": \"#E5ECF6\", \"showlakes\": true, \"showland\": true, \"subunitcolor\": \"white\"}, \"hoverlabel\": {\"align\": \"left\"}, \"hovermode\": \"closest\", \"mapbox\": {\"style\": \"light\"}, \"paper_bgcolor\": \"white\", \"plot_bgcolor\": \"#E5ECF6\", \"polar\": {\"angularaxis\": {\"gridcolor\": \"white\", \"linecolor\": \"white\", \"ticks\": \"\"}, \"bgcolor\": \"#E5ECF6\", \"radialaxis\": {\"gridcolor\": \"white\", \"linecolor\": \"white\", \"ticks\": \"\"}}, \"scene\": {\"xaxis\": {\"backgroundcolor\": \"#E5ECF6\", \"gridcolor\": \"white\", \"gridwidth\": 2, \"linecolor\": \"white\", \"showbackground\": true, \"ticks\": \"\", \"zerolinecolor\": \"white\"}, \"yaxis\": {\"backgroundcolor\": \"#E5ECF6\", \"gridcolor\": \"white\", \"gridwidth\": 2, \"linecolor\": \"white\", \"showbackground\": true, \"ticks\": \"\", \"zerolinecolor\": \"white\"}, \"zaxis\": {\"backgroundcolor\": \"#E5ECF6\", \"gridcolor\": \"white\", \"gridwidth\": 2, \"linecolor\": \"white\", \"showbackground\": true, \"ticks\": \"\", \"zerolinecolor\": \"white\"}}, \"shapedefaults\": {\"line\": {\"color\": \"#2a3f5f\"}}, \"ternary\": {\"aaxis\": {\"gridcolor\": \"white\", \"linecolor\": \"white\", \"ticks\": \"\"}, \"baxis\": {\"gridcolor\": \"white\", \"linecolor\": \"white\", \"ticks\": \"\"}, \"bgcolor\": \"#E5ECF6\", \"caxis\": {\"gridcolor\": \"white\", \"linecolor\": \"white\", \"ticks\": \"\"}}, \"title\": {\"x\": 0.05}, \"xaxis\": {\"automargin\": true, \"gridcolor\": \"white\", \"linecolor\": \"white\", \"ticks\": \"\", \"title\": {\"standoff\": 15}, \"zerolinecolor\": \"white\", \"zerolinewidth\": 2}, \"yaxis\": {\"automargin\": true, \"gridcolor\": \"white\", \"linecolor\": \"white\", \"ticks\": \"\", \"title\": {\"standoff\": 15}, \"zerolinecolor\": \"white\", \"zerolinewidth\": 2}}}, \"title\": {\"text\": \"Cases in India\"}, \"width\": 1000, \"xaxis\": {\"anchor\": \"y\", \"domain\": [0.0, 0.37]}, \"xaxis2\": {\"anchor\": \"y3\", \"domain\": [0.5700000000000001, 0.9400000000000001]}, \"xaxis3\": {\"anchor\": \"y5\", \"domain\": [0.0, 0.37]}, \"xaxis4\": {\"anchor\": \"y7\", \"domain\": [0.5700000000000001, 0.9400000000000001]}, \"yaxis\": {\"anchor\": \"x\", \"domain\": [0.625, 1.0]}, \"yaxis2\": {\"anchor\": \"x\", \"overlaying\": \"y\", \"side\": \"right\"}, \"yaxis3\": {\"anchor\": \"x2\", \"domain\": [0.625, 1.0]}, \"yaxis4\": {\"anchor\": \"x2\", \"overlaying\": \"y3\", \"side\": \"right\"}, \"yaxis5\": {\"anchor\": \"x3\", \"domain\": [0.0, 0.375]}, \"yaxis6\": {\"anchor\": \"x3\", \"overlaying\": \"y5\", \"side\": \"right\"}, \"yaxis7\": {\"anchor\": \"x4\", \"domain\": [0.0, 0.375]}, \"yaxis8\": {\"anchor\": \"x4\", \"overlaying\": \"y7\", \"side\": \"right\"}},\n",
       "                        {\"responsive\": true}\n",
       "                    ).then(function(){\n",
       "                            \n",
       "var gd = document.getElementById('70613eed-39c2-4004-9e44-e641fe8a93d2');\n",
       "var x = new MutationObserver(function (mutations, observer) {{\n",
       "        var display = window.getComputedStyle(gd).display;\n",
       "        if (!display || display === 'none') {{\n",
       "            console.log([gd, 'removed!']);\n",
       "            Plotly.purge(gd);\n",
       "            observer.disconnect();\n",
       "        }}\n",
       "}});\n",
       "\n",
       "// Listen for the removal of the full notebook cells\n",
       "var notebookContainer = gd.closest('#notebook-container');\n",
       "if (notebookContainer) {{\n",
       "    x.observe(notebookContainer, {childList: true});\n",
       "}}\n",
       "\n",
       "// Listen for the clearing of the current output cell\n",
       "var outputEl = gd.closest('.output');\n",
       "if (outputEl) {{\n",
       "    x.observe(outputEl, {childList: true});\n",
       "}}\n",
       "\n",
       "                        })\n",
       "                };\n",
       "                });\n",
       "            </script>\n",
       "        </div>"
      ]
     },
     "metadata": {},
     "output_type": "display_data"
    }
   ],
   "source": [
    "fig=make_subplots(\n",
    "    rows=2,cols=2,\n",
    "    specs=[[{\"secondary_y\":True},{\"secondary_y\":True}],[{\"secondary_y\":True},{\"secondary_y\":True}]],\n",
    "    subplot_titles=(\"Total Confirmed Cases\",\"Cured/Discharged/Migrated\",\"Deaths\",\"Active Cases\"))\n",
    "\n",
    "fig.add_trace(go.Bar(x=df['Name of State / UT'],y=df['Total confirmed Cases'],\n",
    "                    marker=dict(color=df['Total confirmed Cases'],coloraxis=\"coloraxis\")),1,1)\n",
    "\n",
    "fig.add_trace(go.Bar(x=df['Name of State / UT'],y=df['Cured/Discharged/Migrated'],\n",
    "                    marker=dict(color=df['Cured/Discharged/Migrated'],coloraxis=\"coloraxis\")),1,2)\n",
    "\n",
    "fig.add_trace(go.Bar(x=df['Name of State / UT'],y=df['Deaths'],\n",
    "                    marker=dict(color=df['Deaths'],coloraxis=\"coloraxis\")),2,1)\n",
    "\n",
    "fig.add_trace(go.Bar(x=df['Name of State / UT'],y=df['Active Cases'],\n",
    "                    marker=dict(color=df['Active Cases'],coloraxis=\"coloraxis\")),2,2)\n",
    "\n",
    "\n",
    "\n",
    "fig.update_layout(height=1400, width=1000,coloraxis=dict(colorscale='Bluered_r'),showlegend=False,title_text=\"Cases in India\")\n",
    "\n",
    "fig.update_layout(plot_bgcolor='rgb(230,230,230)')"
   ]
  },
  {
   "cell_type": "code",
   "execution_count": null,
   "metadata": {},
   "outputs": [],
   "source": []
  }
 ],
 "metadata": {
  "kernelspec": {
   "display_name": "Python 3",
   "language": "python",
   "name": "python3"
  },
  "language_info": {
   "codemirror_mode": {
    "name": "ipython",
    "version": 3
   },
   "file_extension": ".py",
   "mimetype": "text/x-python",
   "name": "python",
   "nbconvert_exporter": "python",
   "pygments_lexer": "ipython3",
   "version": "3.7.4"
  },
  "varInspector": {
   "cols": {
    "lenName": 16,
    "lenType": 16,
    "lenVar": 40
   },
   "kernels_config": {
    "python": {
     "delete_cmd_postfix": "",
     "delete_cmd_prefix": "del ",
     "library": "var_list.py",
     "varRefreshCmd": "print(var_dic_list())"
    },
    "r": {
     "delete_cmd_postfix": ") ",
     "delete_cmd_prefix": "rm(",
     "library": "var_list.r",
     "varRefreshCmd": "cat(var_dic_list()) "
    }
   },
   "oldHeight": 312.61666,
   "position": {
    "height": "40px",
    "left": "1081.13px",
    "right": "20px",
    "top": "36px",
    "width": "350px"
   },
   "types_to_exclude": [
    "module",
    "function",
    "builtin_function_or_method",
    "instance",
    "_Feature"
   ],
   "varInspector_section_display": "none",
   "window_display": true
  }
 },
 "nbformat": 4,
 "nbformat_minor": 2
}
